{
  "nbformat": 4,
  "nbformat_minor": 0,
  "metadata": {
    "colab": {
      "provenance": []
    },
    "kernelspec": {
      "name": "python3",
      "display_name": "Python 3"
    },
    "language_info": {
      "name": "python"
    }
  },
  "cells": [
    {
      "cell_type": "markdown",
      "source": [
        "\n",
        "Python Output"
      ],
      "metadata": {
        "id": "YsLB36tWHEwz"
      }
    },
    {
      "cell_type": "code",
      "source": [
        "# Python is a case sensitive language\n",
        "print('Hello World')"
      ],
      "metadata": {
        "colab": {
          "base_uri": "https://localhost:8080/"
        },
        "id": "5l246_zLHIEV",
        "outputId": "3df044a0-a940-41c7-9534-e8ed0dfd656d"
      },
      "execution_count": 1,
      "outputs": [
        {
          "output_type": "stream",
          "name": "stdout",
          "text": [
            "Hello World\n"
          ]
        }
      ]
    },
    {
      "cell_type": "code",
      "source": [
        "print('Hello',1,4.5,True,sep='/')"
      ],
      "metadata": {
        "colab": {
          "base_uri": "https://localhost:8080/"
        },
        "id": "APl7m_hom225",
        "outputId": "0e1e82d1-b51c-4824-bb26-9d2eb5e662f3"
      },
      "execution_count": 2,
      "outputs": [
        {
          "output_type": "stream",
          "name": "stdout",
          "text": [
            "Hello/1/4.5/True\n"
          ]
        }
      ]
    },
    {
      "cell_type": "code",
      "source": [
        "print('hello')\n",
        "print('world')"
      ],
      "metadata": {
        "colab": {
          "base_uri": "https://localhost:8080/"
        },
        "id": "7mGPkXASnXxx",
        "outputId": "92b5df94-0fee-448d-96da-2bc040a2cd0a"
      },
      "execution_count": 3,
      "outputs": [
        {
          "output_type": "stream",
          "name": "stdout",
          "text": [
            "hello\n",
            "world\n"
          ]
        }
      ]
    },
    {
      "cell_type": "code",
      "source": [
        "print('hello',end='-')\n",
        "print('world')"
      ],
      "metadata": {
        "colab": {
          "base_uri": "https://localhost:8080/"
        },
        "id": "0m4dTp6gngVj",
        "outputId": "8509e01a-9857-458e-e0ca-639f8eabad3e"
      },
      "execution_count": 4,
      "outputs": [
        {
          "output_type": "stream",
          "name": "stdout",
          "text": [
            "hello-world\n"
          ]
        }
      ]
    },
    {
      "cell_type": "markdown",
      "source": [
        "#  Data Types"
      ],
      "metadata": {
        "id": "BzuI6KObHLBH"
      }
    },
    {
      "cell_type": "code",
      "source": [
        "# Integer\n",
        "print(8)\n",
        "# 1*10^308\n",
        "print(1e309)"
      ],
      "metadata": {
        "colab": {
          "base_uri": "https://localhost:8080/"
        },
        "id": "0AD2yELLHOD5",
        "outputId": "a4805aa5-8aa1-44b9-890b-48a300fbc93b"
      },
      "execution_count": 5,
      "outputs": [
        {
          "output_type": "stream",
          "name": "stdout",
          "text": [
            "8\n",
            "inf\n"
          ]
        }
      ]
    },
    {
      "cell_type": "code",
      "source": [
        "# Decimal/Float\n",
        "print(8.55)\n",
        "print(1.7e309)"
      ],
      "metadata": {
        "colab": {
          "base_uri": "https://localhost:8080/"
        },
        "id": "6zf6tCPNoZqc",
        "outputId": "2daa56f4-de47-41f3-d1df-a25a4a0ffa7a"
      },
      "execution_count": 6,
      "outputs": [
        {
          "output_type": "stream",
          "name": "stdout",
          "text": [
            "8.55\n",
            "inf\n"
          ]
        }
      ]
    },
    {
      "cell_type": "code",
      "source": [
        "# Boolean\n",
        "print(True)\n",
        "print(False)"
      ],
      "metadata": {
        "colab": {
          "base_uri": "https://localhost:8080/"
        },
        "id": "VN8v8HEQoZ3X",
        "outputId": "1621ad6f-7852-40f8-bb43-0eda6ed137f2"
      },
      "execution_count": 7,
      "outputs": [
        {
          "output_type": "stream",
          "name": "stdout",
          "text": [
            "True\n",
            "False\n"
          ]
        }
      ]
    },
    {
      "cell_type": "code",
      "source": [
        "# Text/String\n",
        "print('Hello World')"
      ],
      "metadata": {
        "colab": {
          "base_uri": "https://localhost:8080/"
        },
        "id": "NEwaubEvpJen",
        "outputId": "0fe6bd4e-865d-49cf-be58-e8529695c09a"
      },
      "execution_count": 8,
      "outputs": [
        {
          "output_type": "stream",
          "name": "stdout",
          "text": [
            "Hello World\n"
          ]
        }
      ]
    },
    {
      "cell_type": "code",
      "source": [
        "# complex\n",
        "print(5+6j)"
      ],
      "metadata": {
        "colab": {
          "base_uri": "https://localhost:8080/"
        },
        "id": "L60DWHUVpQzj",
        "outputId": "c85e8538-fc8e-4422-b4e0-95db3a76864e"
      },
      "execution_count": 9,
      "outputs": [
        {
          "output_type": "stream",
          "name": "stdout",
          "text": [
            "(5+6j)\n"
          ]
        }
      ]
    },
    {
      "cell_type": "code",
      "source": [
        "# List\n",
        "print([1,2,3,4,5])"
      ],
      "metadata": {
        "colab": {
          "base_uri": "https://localhost:8080/"
        },
        "id": "u0qI-mUZpWRh",
        "outputId": "77f138ee-c2aa-4401-b8b6-c3bc026dfe7c"
      },
      "execution_count": 11,
      "outputs": [
        {
          "output_type": "stream",
          "name": "stdout",
          "text": [
            "[1, 2, 3, 4, 5]\n"
          ]
        }
      ]
    },
    {
      "cell_type": "code",
      "source": [
        "# Tuple\n",
        "print((1,2,3,4,5))"
      ],
      "metadata": {
        "colab": {
          "base_uri": "https://localhost:8080/"
        },
        "id": "Futbt8RJpefw",
        "outputId": "31cfe898-2dac-48be-aefc-c90994197784"
      },
      "execution_count": 12,
      "outputs": [
        {
          "output_type": "stream",
          "name": "stdout",
          "text": [
            "(1, 2, 3, 4, 5)\n"
          ]
        }
      ]
    },
    {
      "cell_type": "code",
      "source": [
        "# Sets\n",
        "print({1,2,3,4,5})"
      ],
      "metadata": {
        "colab": {
          "base_uri": "https://localhost:8080/"
        },
        "id": "WW-etE4BplMR",
        "outputId": "be9dd6c7-0d11-4188-e4e2-3e8e3b6df0b0"
      },
      "execution_count": 13,
      "outputs": [
        {
          "output_type": "stream",
          "name": "stdout",
          "text": [
            "{1, 2, 3, 4, 5}\n"
          ]
        }
      ]
    },
    {
      "cell_type": "code",
      "source": [
        "# Dictionary\n",
        "print({'name':'Rajes','gender':'Male','weight':18})"
      ],
      "metadata": {
        "colab": {
          "base_uri": "https://localhost:8080/"
        },
        "id": "ssWbznaaprT6",
        "outputId": "f65d36ba-e179-4951-ffbd-ea708f17be23"
      },
      "execution_count": 15,
      "outputs": [
        {
          "output_type": "stream",
          "name": "stdout",
          "text": [
            "{'name': 'Rajes', 'gender': 'Male', 'weight': 18}\n"
          ]
        }
      ]
    },
    {
      "cell_type": "code",
      "source": [
        "# type\n",
        "type([1,2,3])"
      ],
      "metadata": {
        "colab": {
          "base_uri": "https://localhost:8080/"
        },
        "id": "NAJzbOAsq3bG",
        "outputId": "2c30dc31-7e69-42b0-c927-1bf725618d34"
      },
      "execution_count": 16,
      "outputs": [
        {
          "output_type": "execute_result",
          "data": {
            "text/plain": [
              "list"
            ]
          },
          "metadata": {},
          "execution_count": 16
        }
      ]
    },
    {
      "cell_type": "markdown",
      "source": [
        "# Variables"
      ],
      "metadata": {
        "id": "kYD63MF7HOyJ"
      }
    },
    {
      "cell_type": "code",
      "source": [
        "# Static Vs Dynamic Typing\n",
        "# Static Vs Dynamic Binding\n",
        "# stylish declaration techniques"
      ],
      "metadata": {
        "id": "op579nCUHQ24"
      },
      "execution_count": null,
      "outputs": []
    },
    {
      "cell_type": "code",
      "source": [
        "# Dynamic Typing\n",
        "a = 5\n",
        "# Static Typing\n",
        "# int a = 5"
      ],
      "metadata": {
        "id": "K6LN3JhfsKIp"
      },
      "execution_count": 19,
      "outputs": []
    },
    {
      "cell_type": "code",
      "source": [
        "# Dynamic Binding\n",
        "a = 5\n",
        "print(a)\n",
        "a = 'ram'\n",
        "print(a)\n",
        "\n",
        "# Static Binding\n",
        "# int a = 5\n"
      ],
      "metadata": {
        "colab": {
          "base_uri": "https://localhost:8080/"
        },
        "id": "5UpzC2tlskka",
        "outputId": "f2cdc404-a1e3-4dd3-a185-813e0c827112"
      },
      "execution_count": 20,
      "outputs": [
        {
          "output_type": "stream",
          "name": "stdout",
          "text": [
            "5\n",
            "ram\n"
          ]
        }
      ]
    },
    {
      "cell_type": "code",
      "source": [
        "a,b,c = 1,2,3\n",
        "print(a,b,c)"
      ],
      "metadata": {
        "colab": {
          "base_uri": "https://localhost:8080/"
        },
        "id": "AYkxWEMItN9K",
        "outputId": "a580efd5-ecc4-4651-f65e-b9f372412795"
      },
      "execution_count": 21,
      "outputs": [
        {
          "output_type": "stream",
          "name": "stdout",
          "text": [
            "1 2 3\n"
          ]
        }
      ]
    },
    {
      "cell_type": "code",
      "source": [
        "a=b=c= 5\n",
        "print(a,b,c)"
      ],
      "metadata": {
        "colab": {
          "base_uri": "https://localhost:8080/"
        },
        "id": "gcaARQh6tUtP",
        "outputId": "9f5f8abe-3fc6-4cd6-bf77-06b617722465"
      },
      "execution_count": 22,
      "outputs": [
        {
          "output_type": "stream",
          "name": "stdout",
          "text": [
            "5 5 5\n"
          ]
        }
      ]
    },
    {
      "cell_type": "markdown",
      "source": [
        "# Comments"
      ],
      "metadata": {
        "id": "yFj92Q4FubDk"
      }
    },
    {
      "cell_type": "code",
      "source": [
        "# this is a comment\n",
        "\n",
        "a = 4\n",
        "b = 6\n",
        "print(a+b)"
      ],
      "metadata": {
        "colab": {
          "base_uri": "https://localhost:8080/"
        },
        "id": "4FJF20FiudCO",
        "outputId": "f7682730-9e8a-4a13-a848-4b8bf2f42bdb"
      },
      "execution_count": 23,
      "outputs": [
        {
          "output_type": "stream",
          "name": "stdout",
          "text": [
            "10\n"
          ]
        }
      ]
    },
    {
      "cell_type": "markdown",
      "source": [
        "# Literals"
      ],
      "metadata": {
        "id": "7skMGSSFHoWw"
      }
    },
    {
      "cell_type": "code",
      "source": [
        "a = 0b1010 #Binary Literals\n",
        "b = 100 #Decimal Literal\n",
        "c = 0o310 #Octal Literal\n",
        "d = 0x12c #Hexadecimal Literal\n",
        "\n",
        "# Float Literal\n",
        "float_1 = 10.5\n",
        "float_2 = 1.5e2 # 1.5 * 10^2\n",
        "float_3 = 1.5e-3 # 1.5 * 10^-3\n",
        "\n",
        "# Complex Literal\n",
        "x = 3.14j\n",
        "\n",
        "print(a, b, c, d)\n",
        "print(float_1, float_2,float_3)\n",
        "print(x, x.imag, x.real)"
      ],
      "metadata": {
        "id": "4Q6wfNw1Huao",
        "colab": {
          "base_uri": "https://localhost:8080/"
        },
        "outputId": "72658b78-3c06-4d3c-abcb-dd59e648eb2d"
      },
      "execution_count": 25,
      "outputs": [
        {
          "output_type": "stream",
          "name": "stdout",
          "text": [
            "10 100 200 300\n",
            "10.5 150.0 0.0015\n",
            "3.14j 3.14 0.0\n"
          ]
        }
      ]
    },
    {
      "cell_type": "code",
      "source": [
        "# Ture = 1  and False = 0\n",
        "a=True + 4\n",
        "print(a)"
      ],
      "metadata": {
        "colab": {
          "base_uri": "https://localhost:8080/"
        },
        "id": "RsQ6LvI_bCK8",
        "outputId": "2f2feca1-d472-4f72-b292-22be6d3a90c8"
      },
      "execution_count": 27,
      "outputs": [
        {
          "output_type": "stream",
          "name": "stdout",
          "text": [
            "5\n"
          ]
        }
      ]
    },
    {
      "cell_type": "code",
      "source": [],
      "metadata": {
        "id": "avIq_W9pbIGx"
      },
      "execution_count": null,
      "outputs": []
    }
  ]
}