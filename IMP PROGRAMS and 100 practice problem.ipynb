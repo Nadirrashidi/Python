{
 "cells": [
  {
   "cell_type": "markdown",
   "id": "6494127f",
   "metadata": {},
   "source": [
    "# ADD TWO NUMBERS USING USER INPUT\n"
   ]
  },
  {
   "cell_type": "code",
   "execution_count": 1,
   "id": "18cef975",
   "metadata": {},
   "outputs": [
    {
     "name": "stdout",
     "output_type": "stream",
     "text": [
      "enter the value of a=12\n",
      "enter the value of b=12\n",
      " sum is 24\n"
     ]
    }
   ],
   "source": [
    "a= int (input(\"enter the value of a=\"))\n",
    "b= int (input(\"enter the value of b=\"))\n",
    "c=a+b\n",
    "print(f\" sum is {c}\")"
   ]
  },
  {
   "cell_type": "markdown",
   "id": "c7120a0b",
   "metadata": {},
   "source": [
    "# Finding greater number between two numbers\n"
   ]
  },
  {
   "cell_type": "code",
   "execution_count": 2,
   "id": "353fab67",
   "metadata": {},
   "outputs": [
    {
     "name": "stdout",
     "output_type": "stream",
     "text": [
      "enter the value of a=5\n",
      "enter the value of b=7\n",
      "value of b is greater than a\n"
     ]
    }
   ],
   "source": [
    "a=int(input(\"enter the value of a=\"))\n",
    "b=int(input(\"enter the value of b=\"))\n",
    "if (a>b):\n",
    "    print(\"value of a is greater than b\")\n",
    "else:\n",
    "    print(\"value of b is greater than a\")"
   ]
  },
  {
   "cell_type": "markdown",
   "id": "1fcfab4c",
   "metadata": {},
   "source": [
    "# factorial of a number"
   ]
  },
  {
   "cell_type": "code",
   "execution_count": 3,
   "id": "36a71f3a",
   "metadata": {},
   "outputs": [
    {
     "name": "stdout",
     "output_type": "stream",
     "text": [
      "Enter a number: 6\n",
      "The factorial of 6 is 720\n"
     ]
    }
   ],
   "source": [
    "\n",
    "def factorial(n):\n",
    "    if n == 1:\n",
    "        return 1\n",
    "    elif n ==0:\n",
    "        return 1\n",
    "    else:\n",
    "        return (n * factorial(n-1))\n",
    "num = int(input(\"Enter a number: \"))\n",
    "result = factorial(num)\n",
    "print(\"The factorial of\", num, \"is\", result)"
   ]
  },
  {
   "cell_type": "markdown",
   "id": "c8c107b5",
   "metadata": {},
   "source": [
    "# simple intrest\n"
   ]
  },
  {
   "cell_type": "code",
   "execution_count": 4,
   "id": "df5a5b8b",
   "metadata": {},
   "outputs": [
    {
     "name": "stdout",
     "output_type": "stream",
     "text": [
      "enter the value of p6\n",
      "enter the value of r8\n",
      "enter the value of t8\n",
      "simple intrest is  3.84\n"
     ]
    }
   ],
   "source": [
    "\n",
    "   \n",
    "p=int(input(\"enter the value of p\"))\n",
    "r=int(input(\"enter the value of r\"))\n",
    "t=int(input(\"enter the value of t\"))\n",
    "si=(p*r*t)/100\n",
    "print(\"simple intrest is \",si)\n"
   ]
  },
  {
   "cell_type": "code",
   "execution_count": 5,
   "id": "37f81be2",
   "metadata": {},
   "outputs": [
    {
     "name": "stdout",
     "output_type": "stream",
     "text": [
      "sum is  10\n",
      "sum is  11\n",
      "enter the value of a6\n",
      "enter the value of b7\n",
      "sum is  13\n"
     ]
    }
   ],
   "source": [
    "def add(a,b):\n",
    "    c=a+b\n",
    "    print(\"sum is \",c)\n",
    "add(5,5)\n",
    "add(5,6)\n",
    "\n",
    "a=int(input(\"enter the value of a\"))\n",
    "b=int(input(\"enter the value of b\"))\n",
    "add(a,b)"
   ]
  },
  {
   "cell_type": "markdown",
   "id": "b9bc0957",
   "metadata": {},
   "source": [
    "# swaping two variable using third variable\n"
   ]
  },
  {
   "cell_type": "code",
   "execution_count": 6,
   "id": "e8b97c86",
   "metadata": {},
   "outputs": [
    {
     "name": "stdout",
     "output_type": "stream",
     "text": [
      "enter the value of a=7\n",
      "enter the value of b8\n",
      "value of a before swaping  7\n",
      "value of b before swaping  8\n",
      "value of a after swaping is  8\n",
      "value of b after swaping is  7\n"
     ]
    }
   ],
   "source": [
    "a=int(input(\"enter the value of a=\"))\n",
    "b=int(input(\"enter the value of b\"))\n",
    "print(\"value of a before swaping \",a)\n",
    "print(\"value of b before swaping \",b)\n",
    "temp=a\n",
    "a=b\n",
    "b=temp\n",
    "print(\"value of a after swaping is \",a)\n",
    "print(\"value of b after swaping is \",b)"
   ]
  },
  {
   "cell_type": "markdown",
   "id": "23111232",
   "metadata": {},
   "source": [
    "# swaping a variable without using third variable\n",
    "\n"
   ]
  },
  {
   "cell_type": "code",
   "execution_count": 7,
   "id": "ed85bcaf",
   "metadata": {},
   "outputs": [
    {
     "name": "stdout",
     "output_type": "stream",
     "text": [
      "enter the value of a=6\n",
      "enter the value of b7\n",
      "value of a before swaping  6\n",
      "value of b before swaping  7\n",
      "value of a after swaping is  7\n",
      "value of b after swaping is  6\n"
     ]
    }
   ],
   "source": [
    "a=int(input(\"enter the value of a=\"))\n",
    "b=int(input(\"enter the value of b\"))\n",
    "print(\"value of a before swaping \",a)\n",
    "print(\"value of b before swaping \",b)\n",
    "a=a+b\n",
    "b=a-b\n",
    "a=a-b\n",
    "print(\"value of a after swaping is \",a)\n",
    "print(\"value of b after swaping is \",b)"
   ]
  },
  {
   "cell_type": "markdown",
   "id": "3ecbc152",
   "metadata": {},
   "source": [
    "# check a number is positive,-ve or zero"
   ]
  },
  {
   "cell_type": "code",
   "execution_count": 8,
   "id": "aa35661d",
   "metadata": {},
   "outputs": [
    {
     "name": "stdout",
     "output_type": "stream",
     "text": [
      "enter the value of a7\n",
      "number is +ve\n"
     ]
    }
   ],
   "source": [
    "a=int(input(\"enter the value of a\"))\n",
    "if a>0:\n",
    "    print(\"number is +ve\")\n",
    "elif a==0:\n",
    "    print(\"number is zero\")\n",
    "else:\n",
    "    print(\"number is -ve\")\n"
   ]
  },
  {
   "cell_type": "markdown",
   "id": "69d5c7fe",
   "metadata": {},
   "source": [
    "# odd and even\n"
   ]
  },
  {
   "cell_type": "code",
   "execution_count": 9,
   "id": "556fd40d",
   "metadata": {},
   "outputs": [
    {
     "name": "stdout",
     "output_type": "stream",
     "text": [
      "enter the value of a7\n",
      "odd\n"
     ]
    }
   ],
   "source": [
    "a=int(input(\"enter the value of a\"))\n",
    "if a%2==0:\n",
    "    print(\"even\")\n",
    "else :\n",
    "    print(\"odd\")\n",
    "    \n",
    "    \n",
    "    "
   ]
  },
  {
   "cell_type": "markdown",
   "id": "b773aa23",
   "metadata": {},
   "source": [
    "# leap year or not\n"
   ]
  },
  {
   "cell_type": "code",
   "execution_count": 10,
   "id": "53a53328",
   "metadata": {},
   "outputs": [
    {
     "name": "stdout",
     "output_type": "stream",
     "text": [
      "enter the value of year7\n",
      "not a leap year\n"
     ]
    }
   ],
   "source": [
    "year=int(input(\"enter the value of year\"))\n",
    "if (year%4==0 and year%100!=0):\n",
    "    print(\"leap year\")\n",
    "elif year%400==0:\n",
    "    print(\"leap year\")\n",
    "else :\n",
    "    print(\"not a leap year\")"
   ]
  },
  {
   "cell_type": "markdown",
   "id": "07193174",
   "metadata": {},
   "source": [
    "# prime number or not"
   ]
  },
  {
   "cell_type": "code",
   "execution_count": 11,
   "id": "11aa9e7c",
   "metadata": {},
   "outputs": [
    {
     "name": "stdout",
     "output_type": "stream",
     "text": [
      "enter the value of number8\n",
      "not a prime number\n"
     ]
    }
   ],
   "source": [
    "num=int(input(\"enter the value of number\"))\n",
    "if num>1:\n",
    "    for i in range(2,num):\n",
    "        if num%i==0:\n",
    "            print(\"not a prime number\")\n",
    "            break\n",
    "            \n",
    "    else:\n",
    "            print(\"prime number\")\n",
    "else:\n",
    "    print(\"not a prime number\")\n",
    "            "
   ]
  },
  {
   "cell_type": "code",
   "execution_count": 12,
   "id": "c760b71c",
   "metadata": {},
   "outputs": [
    {
     "name": "stdout",
     "output_type": "stream",
     "text": [
      "enter the value of num8\n",
      "not a prime number\n"
     ]
    }
   ],
   "source": [
    "def isprime(num):\n",
    "    if num>1:\n",
    "        for i in range(2,num):\n",
    "            if num%i==0:\n",
    "                print(\"not a prime number\")\n",
    "                break\n",
    "            \n",
    "        else:\n",
    "            print(\"prime number\")\n",
    "    else:\n",
    "        print(\"not a prime number\")\n",
    "num=int(input(\"enter the value of num\"))\n",
    "isprime(num)\n",
    "            "
   ]
  },
  {
   "cell_type": "markdown",
   "id": "846f2f7d",
   "metadata": {},
   "source": [
    "# prime number in range\n"
   ]
  },
  {
   "cell_type": "code",
   "execution_count": 13,
   "id": "7c96fdfe",
   "metadata": {},
   "outputs": [
    {
     "name": "stdout",
     "output_type": "stream",
     "text": [
      "Please, Enter the Lowest Range Value: 7\n",
      "Please, Enter the Upper Range Value: 6\n",
      "The Prime Numbers in the range are: \n"
     ]
    }
   ],
   "source": [
    "\n",
    "lower_value = int(input (\"Please, Enter the Lowest Range Value: \"))  \n",
    "upper_value = int(input (\"Please, Enter the Upper Range Value: \"))  \n",
    "  \n",
    "print (\"The Prime Numbers in the range are: \")  \n",
    "for number in range (lower_value, upper_value + 1):  \n",
    "    if number > 1:  \n",
    "        for i in range (2, number):  \n",
    "            if (number % i) == 0:  \n",
    "                break  \n",
    "        else:  \n",
    "            print (number)  "
   ]
  },
  {
   "cell_type": "markdown",
   "id": "ede70e5c",
   "metadata": {},
   "source": [
    "# fibonaci series\n"
   ]
  },
  {
   "cell_type": "code",
   "execution_count": 14,
   "id": "40eef0ce",
   "metadata": {},
   "outputs": [
    {
     "name": "stdout",
     "output_type": "stream",
     "text": [
      "enter the number to obtain fibonaci series7\n",
      "0\n",
      "1\n",
      "1\n",
      "2\n",
      "3\n",
      "5\n",
      "8\n",
      "13\n",
      "21\n"
     ]
    }
   ],
   "source": [
    "a=0\n",
    "b=1\n",
    "num=num=int(input(\"enter the number to obtain fibonaci series\"))\n",
    "if num==1:\n",
    "    print(a)\n",
    "else :\n",
    "    print(a)\n",
    "    print(b)\n",
    "    for i in range(1,num+1):\n",
    "        c=a+b\n",
    "        a=b\n",
    "        b=c\n",
    "        print(c)\n",
    "    "
   ]
  },
  {
   "cell_type": "markdown",
   "id": "73cf6d91",
   "metadata": {},
   "source": [
    "# Python Program to check Armstrong Number\n",
    "Input:  407  \n",
    "Output: Yes, 407 is an Armstrong number  \n",
    "Solution:  \n",
    "(4 * 4 * 4) + (0 * 0 * 0) + (7 * 7 * 7) = 407  "
   ]
  },
  {
   "cell_type": "code",
   "execution_count": 15,
   "id": "55ead381",
   "metadata": {},
   "outputs": [
    {
     "name": "stdout",
     "output_type": "stream",
     "text": [
      "enter the value=508\n",
      "not armstrong number\n"
     ]
    }
   ],
   "source": [
    "num=int(input(\"enter the value=\"))\n",
    "sum=0\n",
    "temp=num\n",
    "while temp>0:\n",
    "    digit=temp%10\n",
    "    sum=(sum)+digit**3\n",
    "    temp=temp//10\n",
    "if num==sum:\n",
    "    print(\"armstrong number\")\n",
    "else:\n",
    "    print(\"not armstrong number\")"
   ]
  },
  {
   "cell_type": "markdown",
   "id": "ba9ed336",
   "metadata": {},
   "source": [
    "# Python program to copy all elements of one array into another array"
   ]
  },
  {
   "cell_type": "code",
   "execution_count": 16,
   "id": "f51f1620",
   "metadata": {},
   "outputs": [
    {
     "name": "stdout",
     "output_type": "stream",
     "text": [
      "this is the orignal array\n",
      "1\n",
      "2\n",
      "3\n",
      "4\n",
      "5\n",
      "this is the copy of orignal array\n",
      "1\n",
      "2\n",
      "3\n",
      "4\n",
      "5\n"
     ]
    }
   ],
   "source": [
    "arr1=[1,2,3,4,5];\n",
    "arr2=[None]*len(arr1);\n",
    "\n",
    "for i in range(0,len(arr1)):\n",
    "    arr2[i]=arr1[i]\n",
    "print(\"this is the orignal array\")    \n",
    "for i in range(0,len(arr1)):\n",
    "    print(arr1[i])\n",
    "print(\"this is the copy of orignal array\")\n",
    "for i in range(0,len(arr2)):\n",
    "    print(arr2[i])\n",
    "    "
   ]
  },
  {
   "cell_type": "markdown",
   "id": "f757abb9",
   "metadata": {},
   "source": [
    "# sum of array"
   ]
  },
  {
   "cell_type": "code",
   "execution_count": 17,
   "id": "d852cc05",
   "metadata": {},
   "outputs": [
    {
     "name": "stdout",
     "output_type": "stream",
     "text": [
      "sum of array element is 15 \n"
     ]
    }
   ],
   "source": [
    "arr=[1,2,3,4,5];\n",
    "sum=0;\n",
    "\n",
    "for i in range(0,len(arr)):\n",
    "    sum=sum+arr[i]\n",
    "print(f\"sum of array element is {sum} \")    "
   ]
  },
  {
   "cell_type": "markdown",
   "id": "1585262a",
   "metadata": {},
   "source": [
    "# 1.User will input (3ages).Find the oldest one"
   ]
  },
  {
   "cell_type": "code",
   "execution_count": 19,
   "id": "ff5abb6a",
   "metadata": {},
   "outputs": [
    {
     "name": "stdout",
     "output_type": "stream",
     "text": [
      "enter the value of age1 =66\n",
      "enter the value of age2 =45\n",
      "enter the value of age3 =56\n",
      "age 1 is greater \n"
     ]
    }
   ],
   "source": [
    "age1=int(input(\"enter the value of age1 =\"))\n",
    "age2=int(input(\"enter the value of age2 =\"))\n",
    "age3=int(input(\"enter the value of age3 =\"))\n",
    "if age1>age2 and age1>age3:\n",
    "    print('age 1 is greater ')\n",
    "elif age2>age1 and age1>age3:\n",
    "    print(\"age 2 is greater \")\n",
    "else :\n",
    "    print(\"age 3 is greatre \")"
   ]
  },
  {
   "cell_type": "markdown",
   "id": "0cf296e5",
   "metadata": {},
   "source": [
    "# 2.\tWrite a program that will convert celsius value to fahrenheit"
   ]
  },
  {
   "cell_type": "code",
   "execution_count": 25,
   "id": "c71416c0",
   "metadata": {},
   "outputs": [
    {
     "name": "stdout",
     "output_type": "stream",
     "text": [
      "enter the value temp in celcius100\n",
      "value of f is 212.0\n"
     ]
    }
   ],
   "source": [
    "\n",
    "Temp=float(input(\"enter the value temp in celcius\"))\n",
    "F=(Temp*1.8)+32\n",
    "print(f\"value of f is {F}\")"
   ]
  },
  {
   "cell_type": "markdown",
   "id": "0661fa78",
   "metadata": {},
   "source": [
    "# 3.User will input (2numbers).Write a program to swap the numbers"
   ]
  },
  {
   "cell_type": "code",
   "execution_count": 27,
   "id": "fa900d95",
   "metadata": {},
   "outputs": [
    {
     "name": "stdout",
     "output_type": "stream",
     "text": [
      "enter the value of a6\n",
      "enter the value of b7\n",
      "before swaping value of a is 6\n",
      "before swaping value of b is 7\n",
      "after swaping value of a is 7\n",
      "after swaping value of b is 6\n"
     ]
    }
   ],
   "source": [
    "a=int(input(\"enter the value of a\"))\n",
    "b=int(input(\"enter the value of b\"))\n",
    "print(f\"before swaping value of a is {a}\")\n",
    "print(f\"before swaping value of b is {b}\")\n",
    "\n",
    "a=a+b\n",
    "b=a-b\n",
    "a=a-b\n",
    "print(f\"after swaping value of a is {a}\")\n",
    "print(f\"after swaping value of b is {b}\")\n"
   ]
  },
  {
   "cell_type": "markdown",
   "id": "3d64bb15",
   "metadata": {},
   "source": [
    "# 4.Write a program that will give you the sum of 3 digits"
   ]
  },
  {
   "cell_type": "code",
   "execution_count": 29,
   "id": "dbc19d55",
   "metadata": {},
   "outputs": [
    {
     "name": "stdout",
     "output_type": "stream",
     "text": [
      "enter your 3 digit number123\n",
      "sum of thre digit is 6\n"
     ]
    }
   ],
   "source": [
    "num=int(input(\"enter your 3 digit number\"))\n",
    "a=num%10\n",
    "num=num//10\n",
    "b=num%10\n",
    "num=num//10\n",
    "c=num%10\n",
    "sum=a+b+c\n",
    "print(f\"sum of thre digit is {sum}\")"
   ]
  },
  {
   "cell_type": "markdown",
   "id": "dc850e50",
   "metadata": {},
   "source": [
    "# 5.Write a program that will reverse a four digit number.Also it checks whether the reverse is true."
   ]
  },
  {
   "cell_type": "code",
   "execution_count": 36,
   "id": "a438431f",
   "metadata": {},
   "outputs": [
    {
     "name": "stdout",
     "output_type": "stream",
     "text": [
      "enter your four digit number1234\n",
      "4321\n"
     ]
    }
   ],
   "source": [
    "num=int(input(\"enter your four digit number\"))\n",
    "print(str(num)[::-1])"
   ]
  },
  {
   "cell_type": "markdown",
   "id": "c73c27ae",
   "metadata": {},
   "source": [
    "# 6.\tWrite a program that will tell whether the number entered by the user is odd or even."
   ]
  },
  {
   "cell_type": "code",
   "execution_count": 37,
   "id": "f9c2df54",
   "metadata": {},
   "outputs": [
    {
     "name": "stdout",
     "output_type": "stream",
     "text": [
      "enter the value of a22\n",
      "even\n"
     ]
    }
   ],
   "source": [
    "a=int(input(\"enter the value of a\"))\n",
    "if a%2==0:\n",
    "    print(\"even\")\n",
    "else :\n",
    "    print(\"odd\")\n",
    "    \n",
    "    \n",
    "    "
   ]
  },
  {
   "cell_type": "markdown",
   "id": "958eebe6",
   "metadata": {},
   "source": [
    "# 7.Write a program that will tell whether the given year is a leap year or not."
   ]
  },
  {
   "cell_type": "code",
   "execution_count": 38,
   "id": "635c481a",
   "metadata": {},
   "outputs": [
    {
     "name": "stdout",
     "output_type": "stream",
     "text": [
      "enter the value of year2024\n",
      "leap year\n"
     ]
    }
   ],
   "source": [
    "year=int(input(\"enter the value of year\"))\n",
    "if (year%4==0 and year%100!=0):\n",
    "    print(\"leap year\")\n",
    "elif year%400==0:\n",
    "    print(\"leap year\")\n",
    "else :\n",
    "    print(\"not a leap year\")"
   ]
  },
  {
   "cell_type": "markdown",
   "id": "c7471b05",
   "metadata": {},
   "source": [
    "# 8.Write a program to find the euclidean distance between two coordinates."
   ]
  },
  {
   "cell_type": "code",
   "execution_count": 41,
   "id": "50426888",
   "metadata": {},
   "outputs": [
    {
     "name": "stdout",
     "output_type": "stream",
     "text": [
      "enter the value of x1=5\n",
      "enter the value of x2=7\n",
      "enter the value of y1=8\n",
      "enter the value of y2=9\n",
      "the distance is 3.605551275463989\n"
     ]
    }
   ],
   "source": [
    "x1=float(input(\"enter the value of x1=\"))\n",
    "y1=float(input(\"enter the value of x2=\"))\n",
    "x2=float(input(\"enter the value of y1=\"))\n",
    "y2=float(input(\"enter the value of y2=\"))\n",
    "\n",
    "d=((x2-x1)**2+(y2-y1)**2)**0.5\n",
    "print(f\"the distance is {d}\")"
   ]
  },
  {
   "cell_type": "markdown",
   "id": "2d95ded0",
   "metadata": {},
   "source": [
    "# 9.Write a program that take a user inputr of three angles and will find out whether it can form a triangle or not."
   ]
  },
  {
   "cell_type": "code",
   "execution_count": 42,
   "id": "fe00b5bc",
   "metadata": {},
   "outputs": [
    {
     "name": "stdout",
     "output_type": "stream",
     "text": [
      "enter the value of angle A=76\n",
      "enter the valeue of angle B=45\n",
      "enter the value of angle C=666\n",
      "not valid\n"
     ]
    }
   ],
   "source": [
    "A=float(input(\"enter the value of angle A=\"))\n",
    "B=float(input(\"enter the valeue of angle B=\"))\n",
    "C=float(input(\"enter the value of angle C=\"))\n",
    "Full=A+B+C\n",
    "if Full==180 and A!=0 and B!=0 and C!=0:\n",
    "    \n",
    "    print(\"Triangle is valid=\")\n",
    "else:\n",
    "    print(\"not valid\")"
   ]
  },
  {
   "cell_type": "markdown",
   "id": "6cc69c73",
   "metadata": {},
   "source": [
    "# 10.\tWrite a program that will take user input of cost price and selling price and determines whether its a loss or a profit"
   ]
  },
  {
   "cell_type": "code",
   "execution_count": 46,
   "id": "cd7ece17",
   "metadata": {},
   "outputs": [
    {
     "name": "stdout",
     "output_type": "stream",
     "text": [
      "enter the cost price100\n",
      "enter the selling price100\n",
      "Loss amount is 0.0\n"
     ]
    }
   ],
   "source": [
    "cost=float(input(\"enter the cost price\"))\n",
    "selling=float(input(\"enter the selling price\"))\n",
    "if cost>=selling:\n",
    "    amount=cost-selling\n",
    "    print(f\"Loss amount is {amount}\")\n",
    "else :\n",
    "    amount=selling-cost\n",
    "    print(f\"profit is {amount}\")"
   ]
  },
  {
   "cell_type": "markdown",
   "id": "48a5f82d",
   "metadata": {},
   "source": [
    "# 11.Write a program to find the simple interest when the value of principle,rate of interest and time period is given."
   ]
  },
  {
   "cell_type": "code",
   "execution_count": 47,
   "id": "05a1e971",
   "metadata": {},
   "outputs": [
    {
     "name": "stdout",
     "output_type": "stream",
     "text": [
      "enter the value of p11\n",
      "enter the value of r12\n",
      "enter the value of t13\n",
      "simple intrest is  17.16\n"
     ]
    }
   ],
   "source": [
    "   \n",
    "p=int(input(\"enter the value of p\"))\n",
    "r=int(input(\"enter the value of r\"))\n",
    "t=int(input(\"enter the value of t\"))\n",
    "si=(p*r*t)/100\n",
    "print(\"simple intrest is \",si)\n"
   ]
  },
  {
   "cell_type": "markdown",
   "id": "69526440",
   "metadata": {},
   "source": [
    "# 12.Write  a program that will tell whether the given number is divisible by 3 & 6."
   ]
  },
  {
   "cell_type": "code",
   "execution_count": 1,
   "id": "7a748615",
   "metadata": {},
   "outputs": [
    {
     "name": "stdout",
     "output_type": "stream",
     "text": [
      "Enter a number: 12\n",
      "12 is divisible by both 3 and 6.\n"
     ]
    }
   ],
   "source": [
    "def is_divisible_by_3_and_6(number):\n",
    "    if number % 3 == 0 and number % 6 == 0:\n",
    "        return True\n",
    "    else:\n",
    "        return False\n",
    "\n",
    "num = int(input(\"Enter a number: \"))\n",
    "\n",
    "\n",
    "if is_divisible_by_3_and_6(num):\n",
    "    print(f\"{num} is divisible by both 3 and 6.\")\n",
    "else:\n",
    "    print(f\"{num} is not divisible by both 3 and 6.\")\n"
   ]
  },
  {
   "cell_type": "markdown",
   "id": "77956368",
   "metadata": {},
   "source": [
    "# Write a program that will take three digits from the user and add the square of each digit."
   ]
  },
  {
   "cell_type": "code",
   "execution_count": 2,
   "id": "5bd1f8d8",
   "metadata": {},
   "outputs": [
    {
     "name": "stdout",
     "output_type": "stream",
     "text": [
      "Enter a three-digit number: 100\n",
      "Sum of squares of digits: 1\n"
     ]
    }
   ],
   "source": [
    "def square_of_digits_sum(num):\n",
    "    sum_of_squares = 0\n",
    "    while num > 0:\n",
    "        digit = num % 10\n",
    "        sum_of_squares += digit ** 2\n",
    "        num //= 10\n",
    "    return sum_of_squares\n",
    "num = int(input(\"Enter a three-digit number: \"))\n",
    "if 100 <= num <= 999:\n",
    "    result = square_of_digits_sum(num)\n",
    "    print(\"Sum of squares of digits:\", result)\n",
    "else:\n",
    "    print(\"Please enter a valid three-digit number.\")\n"
   ]
  },
  {
   "cell_type": "code",
   "execution_count": 3,
   "id": "5d6ec6b2",
   "metadata": {},
   "outputs": [],
   "source": [
    "#Write a program to find the sum of first n numbers, where n will be provided by the user. Eg if the user provides n=10 the output should be 55."
   ]
  },
  {
   "cell_type": "markdown",
   "id": "ae247d8b",
   "metadata": {},
   "source": [
    "# #Write a program to find the sum of first n numbers, where n will be provided by the user. Eg if the user provides n=10 the output should be 55."
   ]
  },
  {
   "cell_type": "code",
   "execution_count": 4,
   "id": "5bd30d82",
   "metadata": {},
   "outputs": [
    {
     "name": "stdout",
     "output_type": "stream",
     "text": [
      "Enter the value of n: 10\n",
      "Sum of the first 10 numbers: 55\n"
     ]
    }
   ],
   "source": [
    "def sum_of_first_n_numbers(n):\n",
    "    return n * (n + 1) // 2\n",
    "\n",
    "\n",
    "n = int(input(\"Enter the value of n: \"))\n",
    "\n",
    "\n",
    "result = sum_of_first_n_numbers(n)\n",
    "\n",
    "\n",
    "print(\"Sum of the first\", n, \"numbers:\", result)\n"
   ]
  },
  {
   "cell_type": "markdown",
   "id": "e2aa3f63",
   "metadata": {},
   "source": [
    "# Write a program that can find the factorial of a given number provided by the user."
   ]
  },
  {
   "cell_type": "code",
   "execution_count": 5,
   "id": "ed406632",
   "metadata": {},
   "outputs": [
    {
     "name": "stdout",
     "output_type": "stream",
     "text": [
      "Enter a number to find its factorial: 5\n",
      "Factorial of 5 is 120\n"
     ]
    }
   ],
   "source": [
    "def factorial(n):\n",
    "    result = 1\n",
    "    for i in range(1, n + 1):\n",
    "        result *= i\n",
    "    return result\n",
    "\n",
    "\n",
    "num = int(input(\"Enter a number to find its factorial: \"))\n",
    "\n",
    "\n",
    "if num < 0:\n",
    "    print(\"Factorial is not defined for negative numbers.\")\n",
    "elif num == 0:\n",
    "    print(\"Factorial of 0 is 1.\")\n",
    "else:\n",
    "    \n",
    "    fact = factorial(num)\n",
    "    print(\"Factorial of\", num, \"is\", fact)\n"
   ]
  },
  {
   "cell_type": "markdown",
   "id": "4c87b8b7",
   "metadata": {},
   "source": [
    "*\n",
    "**\n",
    "***\n",
    "****\n",
    "*****\n"
   ]
  },
  {
   "cell_type": "code",
   "execution_count": 6,
   "id": "3df138f2",
   "metadata": {},
   "outputs": [
    {
     "name": "stdout",
     "output_type": "stream",
     "text": [
      "*\n",
      "**\n",
      "***\n",
      "****\n",
      "*****\n"
     ]
    }
   ],
   "source": [
    "rows = 5\n",
    "\n",
    "for i in range(1, rows + 1):\n",
    "    for j in range(1, i + 1):\n",
    "        print(\"*\", end=\"\")\n",
    "    print()\n"
   ]
  },
  {
   "cell_type": "markdown",
   "id": "c5d3a475",
   "metadata": {},
   "source": [
    "*\n",
    "**\n",
    "***\n",
    "**\n",
    "*\n"
   ]
  },
  {
   "cell_type": "code",
   "execution_count": 7,
   "id": "ca179829",
   "metadata": {},
   "outputs": [
    {
     "name": "stdout",
     "output_type": "stream",
     "text": [
      "*\n",
      "**\n",
      "***\n",
      "****\n",
      "*****\n",
      "****\n",
      "***\n",
      "**\n",
      "*\n"
     ]
    }
   ],
   "source": [
    "rows = 5\n",
    "\n",
    "# Increasing pattern\n",
    "for i in range(1, rows + 1):\n",
    "    for j in range(1, i + 1):\n",
    "        print(\"*\", end=\"\")\n",
    "    print()\n",
    "\n",
    "# Decreasing pattern\n",
    "for i in range(rows - 1, 0, -1):\n",
    "    for j in range(1, i + 1):\n",
    "        print(\"*\", end=\"\")\n",
    "    print()\n"
   ]
  },
  {
   "cell_type": "markdown",
   "id": "c83e1d13",
   "metadata": {},
   "source": [
    "# Write a program that keeps on accepting a number from the user until the user enters Zero. Display the sum and average of all the numbers"
   ]
  },
  {
   "cell_type": "code",
   "execution_count": 8,
   "id": "dcf1572d",
   "metadata": {},
   "outputs": [
    {
     "name": "stdout",
     "output_type": "stream",
     "text": [
      "Enter a number (enter 0 to stop): 5\n",
      "Enter a number (enter 0 to stop): 7\n",
      "Enter a number (enter 0 to stop): 0\n",
      "Sum of the numbers: 12.0\n",
      "Average of the numbers: 6.0\n"
     ]
    }
   ],
   "source": [
    "numbers = []\n",
    "total = 0\n",
    "\n",
    "\n",
    "while True:\n",
    "    num = float(input(\"Enter a number (enter 0 to stop): \"))\n",
    "    \n",
    "    if num == 0:\n",
    "        break\n",
    "    \n",
    "    numbers.append(num)\n",
    "    total += num\n",
    "\n",
    "\n",
    "count = len(numbers)\n",
    "if count > 0:\n",
    "    average = total / count\n",
    "else:\n",
    "    average = 0\n",
    "\n",
    "\n",
    "print(\"Sum of the numbers:\", total)\n",
    "print(\"Average of the numbers:\", average)\n"
   ]
  },
  {
   "cell_type": "markdown",
   "id": "d1c92555",
   "metadata": {},
   "source": [
    "Find the length of a given string without using the len() function. "
   ]
  },
  {
   "cell_type": "code",
   "execution_count": 9,
   "id": "5992238e",
   "metadata": {},
   "outputs": [
    {
     "name": "stdout",
     "output_type": "stream",
     "text": [
      "Length of the string: 13\n"
     ]
    }
   ],
   "source": [
    "def find_string_length(string):\n",
    "    length = 0\n",
    "    for char in string:\n",
    "        length += 1\n",
    "    return length\n",
    "\n",
    "# Example usage\n",
    "given_string = \"Hello, World!\"\n",
    "length = find_string_length(given_string)\n",
    "print(\"Length of the string:\", length)\n"
   ]
  },
  {
   "cell_type": "markdown",
   "id": "af5ce6ca",
   "metadata": {},
   "source": [
    "Count the frequency of a particular character in a provided string. Eg 'hello how are you' is the string, the frequency of h in this string is 2."
   ]
  },
  {
   "cell_type": "code",
   "execution_count": 10,
   "id": "b2098e2f",
   "metadata": {},
   "outputs": [
    {
     "name": "stdout",
     "output_type": "stream",
     "text": [
      "Frequency of 'h' in the string: 2\n"
     ]
    }
   ],
   "source": [
    "def count_character_frequency(string, char):\n",
    "    count = 0\n",
    "    for c in string:\n",
    "        if c == char:\n",
    "            count += 1\n",
    "    return count\n",
    "\n",
    "# Example usage\n",
    "given_string = \"hello how are you\"\n",
    "target_character = 'h'\n",
    "frequency = count_character_frequency(given_string, target_character)\n",
    "print(f\"Frequency of '{target_character}' in the string:\", frequency)\n"
   ]
  },
  {
   "cell_type": "markdown",
   "id": "7c253d5d",
   "metadata": {},
   "source": [
    "Count the number of vowels in a string provided by the user."
   ]
  },
  {
   "cell_type": "code",
   "execution_count": 11,
   "id": "74874cd5",
   "metadata": {},
   "outputs": [
    {
     "name": "stdout",
     "output_type": "stream",
     "text": [
      "Enter a string: nadir\n",
      "Number of vowels in the string: 2\n"
     ]
    }
   ],
   "source": [
    "def count_vowels(string):\n",
    "    vowels = \"aeiouAEIOU\"\n",
    "    count = 0\n",
    "    for char in string:\n",
    "        if char in vowels:\n",
    "            count += 1\n",
    "    return count\n",
    "\n",
    "# Example usage\n",
    "user_string = input(\"Enter a string: \")\n",
    "vowel_count = count_vowels(user_string)\n",
    "print(\"Number of vowels in the string:\", vowel_count)\n"
   ]
  },
  {
   "cell_type": "markdown",
   "id": "ad605ca8",
   "metadata": {},
   "source": [
    "Write a program that can check whether a given string is palindrome or not."
   ]
  },
  {
   "cell_type": "code",
   "execution_count": 12,
   "id": "a3fe3a95",
   "metadata": {},
   "outputs": [
    {
     "name": "stdout",
     "output_type": "stream",
     "text": [
      "Enter a string: aaa\n",
      "The given string is a palindrome.\n"
     ]
    }
   ],
   "source": [
    "def is_palindrome(string):\n",
    "    # Convert the string to lowercase to handle case-insensitive palindrome checking\n",
    "    string = string.lower()\n",
    "    # Remove spaces and punctuation from the string\n",
    "    string = ''.join(char for char in string if char.isalnum())\n",
    "    # Check if the string is equal to its reverse\n",
    "    return string == string[::-1]\n",
    "\n",
    "# Example usage\n",
    "user_string = input(\"Enter a string: \")\n",
    "if is_palindrome(user_string):\n",
    "    print(\"The given string is a palindrome.\")\n",
    "else:\n",
    "    print(\"The given string is not a palindrome.\")\n"
   ]
  },
  {
   "cell_type": "code",
   "execution_count": null,
   "id": "6e30b494",
   "metadata": {},
   "outputs": [],
   "source": []
  }
 ],
 "metadata": {
  "kernelspec": {
   "display_name": "Python 3 (ipykernel)",
   "language": "python",
   "name": "python3"
  },
  "language_info": {
   "codemirror_mode": {
    "name": "ipython",
    "version": 3
   },
   "file_extension": ".py",
   "mimetype": "text/x-python",
   "name": "python",
   "nbconvert_exporter": "python",
   "pygments_lexer": "ipython3",
   "version": "3.9.13"
  }
 },
 "nbformat": 4,
 "nbformat_minor": 5
}
