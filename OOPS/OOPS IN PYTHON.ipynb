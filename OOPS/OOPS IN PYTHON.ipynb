{
 "cells": [
  {
   "cell_type": "markdown",
   "id": "565208a3",
   "metadata": {},
   "source": [
    "# class and object\n"
   ]
  },
  {
   "cell_type": "code",
   "execution_count": 2,
   "id": "7dc644e0",
   "metadata": {},
   "outputs": [
    {
     "data": {
      "text/plain": [
       "14"
      ]
     },
     "execution_count": 2,
     "metadata": {},
     "output_type": "execute_result"
    }
   ],
   "source": [
    "class Employee:\n",
    "    emp_id=0\n",
    "employee1=Employee() # object creation\n",
    "employee1.emp_id=14  #intialize the value through the object\n",
    "employee1.emp_id #calling the object"
   ]
  },
  {
   "cell_type": "code",
   "execution_count": 10,
   "id": "ef2a751f",
   "metadata": {},
   "outputs": [
    {
     "name": "stdout",
     "output_type": "stream",
     "text": [
      "1\n",
      "Nadir\n",
      "2\n",
      "Rashidi\n"
     ]
    }
   ],
   "source": [
    "class college:\n",
    "    roll=0\n",
    "    name=\"none\"\n",
    "student1=college()\n",
    "student2=college()\n",
    "student1.roll=1\n",
    "student1.name=\"Nadir\"\n",
    "\n",
    "student2.roll=2\n",
    "student2.name=\"Rashidi\"\n",
    "\n",
    "\n",
    "print(student1.roll)\n",
    "print(student1.name)\n",
    "\n",
    "print(student2.roll)\n",
    "print(student2.name)\n",
    "\n",
    "\n",
    "   "
   ]
  },
  {
   "cell_type": "markdown",
   "id": "9c41d3a8",
   "metadata": {},
   "source": [
    "# Method"
   ]
  },
  {
   "cell_type": "code",
   "execution_count": 13,
   "id": "b8b3eecf",
   "metadata": {},
   "outputs": [
    {
     "name": "stdout",
     "output_type": "stream",
     "text": [
      "this is the fisrt example of method\n"
     ]
    }
   ],
   "source": [
    "class Course:\n",
    "    def Session(self):\n",
    "        print(\"this is the fisrt example of method\")\n",
    "obj=Course() # object of class\n",
    "obj.Session() # method calling"
   ]
  },
  {
   "cell_type": "code",
   "execution_count": 23,
   "id": "f1b3fd27",
   "metadata": {},
   "outputs": [
    {
     "name": "stdout",
     "output_type": "stream",
     "text": [
      " the sum of 10 and 20 is 30\n"
     ]
    }
   ],
   "source": [
    "class myclass:\n",
    "    def add(self,a,b):\n",
    "        self.a=a\n",
    "        self.b=b\n",
    "        c=self.a+self.b\n",
    "        print(f\" the sum of {self.a} and {self.b} is {c}\")\n",
    "obj=myclass() # object of class \n",
    "obj.add(10,20) # method calling by object\n",
    "        "
   ]
  },
  {
   "cell_type": "markdown",
   "id": "cfa67e17",
   "metadata": {},
   "source": [
    "# Constructor \n"
   ]
  },
  {
   "cell_type": "code",
   "execution_count": 27,
   "id": "0a22f6fd",
   "metadata": {},
   "outputs": [
    {
     "name": "stdout",
     "output_type": "stream",
     "text": [
      " car specification is maruti and car model is 1800\n",
      " car specification is SUV and car model is 800\n"
     ]
    }
   ],
   "source": [
    "class car:\n",
    "    \n",
    "    def __init__(self,brand,model):\n",
    "        self.brand=brand\n",
    "        self.model=model\n",
    "    def spec(self):\n",
    "        print(f\" car specification is {self.brand} and car model is {self.model}\")\n",
    "carinfo=car(\"maruti\",1800)\n",
    "carinfo.spec()\n",
    "carinfo=car(\"SUV\",800)\n",
    "carinfo.spec()\n",
    "        "
   ]
  },
  {
   "cell_type": "markdown",
   "id": "7d41620d",
   "metadata": {},
   "source": [
    "# Constructor has 3 types\n",
    "1. parametrized constructor\n",
    "2. non parametrized constructor\n",
    "3. default constructor"
   ]
  },
  {
   "cell_type": "markdown",
   "id": "c947b4ba",
   "metadata": {},
   "source": [
    "# parametrized constructor"
   ]
  },
  {
   "cell_type": "code",
   "execution_count": 4,
   "id": "cd5cf14d",
   "metadata": {},
   "outputs": [
    {
     "name": "stdout",
     "output_type": "stream",
     "text": [
      "{'salary': 2200, 'age': 17}\n",
      "{'salary': 2600, 'age': 22}\n"
     ]
    }
   ],
   "source": [
    "class Emp():\n",
    "    def __init__(self,salary,age):\n",
    "        self.salary=salary\n",
    "        self.age=age\n",
    "e1=Emp(2200,17)\n",
    "e2=Emp(2600,22)\n",
    "print(e1.__dict__)\n",
    "print(e2.__dict__)\n",
    "\n",
    "        "
   ]
  },
  {
   "cell_type": "markdown",
   "id": "ff5a73bf",
   "metadata": {},
   "source": [
    "# non parametrized constructor"
   ]
  },
  {
   "cell_type": "code",
   "execution_count": 6,
   "id": "26a6de50",
   "metadata": {},
   "outputs": [
    {
     "name": "stdout",
     "output_type": "stream",
     "text": [
      "{'salary': 2600, 'age': 22}\n",
      "{'salary': 2600, 'age': 22}\n"
     ]
    }
   ],
   "source": [
    "class Emp():\n",
    "    def __init__(self):\n",
    "        self.salary=2200\n",
    "        self.age=17\n",
    "        self.salary=2600\n",
    "        self.age=22\n",
    "e1=Emp()\n",
    "e2=Emp()\n",
    "print(e1.__dict__)\n",
    "print(e2.__dict__)\n"
   ]
  },
  {
   "cell_type": "markdown",
   "id": "e5c2478d",
   "metadata": {},
   "source": [
    "# Default constructor"
   ]
  },
  {
   "cell_type": "code",
   "execution_count": 7,
   "id": "293726ae",
   "metadata": {},
   "outputs": [
    {
     "name": "stdout",
     "output_type": "stream",
     "text": [
      "101 nadir\n"
     ]
    }
   ],
   "source": [
    "class Student:  \n",
    "    roll_num = 101  \n",
    "    name = \"nadir\"  \n",
    "  \n",
    "    def display(self):  \n",
    "        print(self.roll_num,self.name)  \n",
    "  \n",
    "st = Student()  \n",
    "st.display()  "
   ]
  },
  {
   "cell_type": "markdown",
   "id": "ab67012a",
   "metadata": {},
   "source": [
    "# when we declare more than one same constructor in class then it will execute only second constructor it means that python has no constructor overloading\n"
   ]
  },
  {
   "cell_type": "code",
   "execution_count": 8,
   "id": "b41b67b5",
   "metadata": {},
   "outputs": [
    {
     "name": "stdout",
     "output_type": "stream",
     "text": [
      "this is the secoud constructor\n"
     ]
    }
   ],
   "source": [
    "class student():\n",
    "    def __init__(self):\n",
    "        print(\"this is the first constructor\")\n",
    "    def __init__(self):\n",
    "        print(\"this is the secoud constructor\")\n",
    "s1=student()        "
   ]
  },
  {
   "cell_type": "markdown",
   "id": "cb426dc5",
   "metadata": {},
   "source": [
    "#  Built in functions of class\n",
    "1    getattr(obj,name,default)\tIt is used to access the attribute of the object.\n",
    "2\tsetattr(obj, name,value)\tIt is used to set a particular value to the specific attribute of an object.\n",
    "3\tdelattr(obj, name)\tIt is used to delete a specific attribute.\n",
    "4\thasattr(obj, name)\tIt returns true if the object contains some specific attribute."
   ]
  },
  {
   "cell_type": "code",
   "execution_count": 10,
   "id": "63d983f6",
   "metadata": {},
   "outputs": [
    {
     "name": "stdout",
     "output_type": "stream",
     "text": [
      "nadir\n",
      "23\n",
      "True\n"
     ]
    }
   ],
   "source": [
    "class Student:  \n",
    "    def __init__(self, name, id, age):  \n",
    "        self.name = name  \n",
    "        self.id = id  \n",
    "        self.age = age  \n",
    "  \n",
    "s = Student(\"nadir\", 101, 22)  \n",
    "  \n",
    "# prints the attribute name of the object s  \n",
    "print(getattr(s, 'name'))  \n",
    "  \n",
    "# reset the value of attribute age to 23  \n",
    "setattr(s, \"age\", 23)  \n",
    "  \n",
    "# prints the modified value of age  \n",
    "print(getattr(s, 'age'))  \n",
    "  \n",
    "# prints true if the student contains the attribute with name id  \n",
    "  \n",
    "print(hasattr(s, 'id'))  \n",
    "# deletes the attribute age  \n",
    "delattr(s, 'age')  \n",
    "  \n",
    "# this will give an error since the attribute age has been deleted  \n",
    "#print(s.age)  "
   ]
  },
  {
   "cell_type": "markdown",
   "id": "0d909f5d",
   "metadata": {},
   "source": [
    "# inheritence"
   ]
  },
  {
   "cell_type": "code",
   "execution_count": 13,
   "id": "10a9d5c0",
   "metadata": {},
   "outputs": [
    {
     "name": "stdout",
     "output_type": "stream",
     "text": [
      "dog barking\n",
      "Animal Speaking\n"
     ]
    }
   ],
   "source": [
    "class Animal:  \n",
    "    def speak(self):  \n",
    "        print(\"Animal Speaking\")   \n",
    "class Dog(Animal):  \n",
    "    def bark(self):  \n",
    "        print(\"dog barking\")  \n",
    "d = Dog()  \n",
    "d.bark()  \n",
    "d.speak()  "
   ]
  },
  {
   "cell_type": "markdown",
   "id": "743375dc",
   "metadata": {},
   "source": [
    "# MULti level inheritence"
   ]
  },
  {
   "cell_type": "code",
   "execution_count": 19,
   "id": "a966245e",
   "metadata": {},
   "outputs": [
    {
     "name": "stdout",
     "output_type": "stream",
     "text": [
      "this is speaking block\n",
      "this is bariking block\n",
      "this is eat block\n",
      "True\n"
     ]
    }
   ],
   "source": [
    "class Animal:\n",
    "    def speak(self):\n",
    "        print(\"this is speaking block\")\n",
    "class Dog(Animal):\n",
    "    def bark(self):\n",
    "        print(\"this is bariking block\")\n",
    "class Child_dog(Dog):\n",
    "    def eat(self):\n",
    "        print(\"this is eat block\")\n",
    "        \n",
    "d1=Child_dog()\n",
    "d1.speak()\n",
    "d1.bark()\n",
    "d1.eat()\n",
    "print(isinstance(d1,Dog))\n",
    "        \n",
    "        "
   ]
  },
  {
   "cell_type": "markdown",
   "id": "7a9f2467",
   "metadata": {},
   "source": [
    "# Multilevel inheritence "
   ]
  },
  {
   "cell_type": "code",
   "execution_count": 16,
   "id": "bc8b9f6d",
   "metadata": {},
   "outputs": [
    {
     "name": "stdout",
     "output_type": "stream",
     "text": [
      "30\n",
      "200\n",
      "0.5\n"
     ]
    }
   ],
   "source": [
    "class Calculation1:  \n",
    "    def Summation(self,a,b):  \n",
    "        return a+b;  \n",
    "class Calculation2:  \n",
    "    def Multiplication(self,a,b):  \n",
    "        return a*b;  \n",
    "class Derived(Calculation1,Calculation2):  \n",
    "    def Divide(self,a,b):  \n",
    "        return a/b;  \n",
    "d = Derived()  \n",
    "print(d.Summation(10,20))  \n",
    "print(d.Multiplication(10,20))  \n",
    "print(d.Divide(10,20))  "
   ]
  },
  {
   "cell_type": "markdown",
   "id": "8be11a4a",
   "metadata": {},
   "source": [
    "# method overriding\n"
   ]
  },
  {
   "cell_type": "code",
   "execution_count": 23,
   "id": "f6e167e6",
   "metadata": {},
   "outputs": [
    {
     "name": "stdout",
     "output_type": "stream",
     "text": [
      "Bank Rate of interest: 10\n",
      "SBI Rate of interest: 7\n",
      "ICICI Rate of interest: 8\n"
     ]
    }
   ],
   "source": [
    "class Bank:  \n",
    "    def getroi(self):  \n",
    "        return 10;  \n",
    "class SBI(Bank):  \n",
    "    def getroi(self):  \n",
    "        return 7;  \n",
    "class ICICI(Bank):  \n",
    "    def getroi(self):  \n",
    "        return 8;  \n",
    "b1 = Bank()  \n",
    "b2 = SBI()  \n",
    "b3 = ICICI()  \n",
    "print(\"Bank Rate of interest:\",b1.getroi());  \n",
    "print(\"SBI Rate of interest:\",b2.getroi());  \n",
    "print(\"ICICI Rate of interest:\",b3.getroi());  "
   ]
  },
  {
   "cell_type": "code",
   "execution_count": 26,
   "id": "e4a4bc5f",
   "metadata": {},
   "outputs": [
    {
     "name": "stdout",
     "output_type": "stream",
     "text": [
      "17\n",
      "7\n"
     ]
    }
   ],
   "source": [
    "class Calc:\n",
    "    def result(self):\n",
    "        return 10+7;\n",
    "    \n",
    "class Calc2(Calc):\n",
    "    def result(self):\n",
    "        return 10-3;\n",
    "    \n",
    "    \n",
    "c1=Calc()\n",
    "c2=Calc2()\n",
    "print(c1.result())\n",
    "print(c2.result())"
   ]
  },
  {
   "cell_type": "markdown",
   "id": "4a4a310b",
   "metadata": {},
   "source": [
    "# Data abstraction "
   ]
  },
  {
   "cell_type": "code",
   "execution_count": 33,
   "id": "145707bc",
   "metadata": {},
   "outputs": [
    {
     "name": "stdout",
     "output_type": "stream",
     "text": [
      "The number of employees 2\n",
      "2\n"
     ]
    },
    {
     "ename": "AttributeError",
     "evalue": "'Employee' object has no attribute '__count'",
     "output_type": "error",
     "traceback": [
      "\u001b[1;31m---------------------------------------------------------------------------\u001b[0m",
      "\u001b[1;31mAttributeError\u001b[0m                            Traceback (most recent call last)",
      "\u001b[1;32m~\\AppData\\Local\\Temp\\ipykernel_11372\\1924618749.py\u001b[0m in \u001b[0;36m<module>\u001b[1;34m\u001b[0m\n\u001b[0;32m      9\u001b[0m \u001b[0memp2\u001b[0m \u001b[1;33m=\u001b[0m \u001b[0mEmployee\u001b[0m\u001b[1;33m(\u001b[0m\u001b[1;33m)\u001b[0m\u001b[1;33m\u001b[0m\u001b[1;33m\u001b[0m\u001b[0m\n\u001b[0;32m     10\u001b[0m \u001b[1;32mtry\u001b[0m\u001b[1;33m:\u001b[0m\u001b[1;33m\u001b[0m\u001b[1;33m\u001b[0m\u001b[0m\n\u001b[1;32m---> 11\u001b[1;33m     \u001b[0mprint\u001b[0m\u001b[1;33m(\u001b[0m\u001b[0memp\u001b[0m\u001b[1;33m.\u001b[0m\u001b[0m__count\u001b[0m\u001b[1;33m)\u001b[0m\u001b[1;33m\u001b[0m\u001b[1;33m\u001b[0m\u001b[0m\n\u001b[0m\u001b[0;32m     12\u001b[0m \u001b[1;32mfinally\u001b[0m\u001b[1;33m:\u001b[0m\u001b[1;33m\u001b[0m\u001b[1;33m\u001b[0m\u001b[0m\n\u001b[0;32m     13\u001b[0m     \u001b[0memp\u001b[0m\u001b[1;33m.\u001b[0m\u001b[0mdisplay\u001b[0m\u001b[1;33m(\u001b[0m\u001b[1;33m)\u001b[0m\u001b[1;33m\u001b[0m\u001b[1;33m\u001b[0m\u001b[0m\n",
      "\u001b[1;31mAttributeError\u001b[0m: 'Employee' object has no attribute '__count'"
     ]
    }
   ],
   "source": [
    "class Employee:  \n",
    "    __count = 0;  \n",
    "    def __init__(self):  \n",
    "        Employee.__count = Employee.__count+1  \n",
    "    def display(self):  \n",
    "        print(\"The number of employees\",Employee.__count)  \n",
    "        print(emp.__count)\n",
    "emp = Employee()  \n",
    "emp2 = Employee() \n",
    "try:  \n",
    "    print(emp.__count)  \n",
    "finally:  \n",
    "    emp.display() \n",
    " "
   ]
  },
  {
   "cell_type": "markdown",
   "id": "e835d34b",
   "metadata": {},
   "source": [
    "# Abstraction "
   ]
  },
  {
   "cell_type": "code",
   "execution_count": 45,
   "id": "76f116a4",
   "metadata": {},
   "outputs": [
    {
     "name": "stdout",
     "output_type": "stream",
     "text": [
      "The mileage is 30kmph\n",
      "The mileage is 27kmph \n",
      "The mileage is 25kmph \n",
      "The mileage is 24kmph \n"
     ]
    }
   ],
   "source": [
    "from abc import ABC, abstractmethod   \n",
    "class Car(ABC):   \n",
    "    def mileage(self):   \n",
    "        pass    \n",
    "class Tesla(Car):\n",
    "        def mileage(self):   \n",
    "            print(\"The mileage is 30kmph\")   \n",
    "class Suzuki(Car):   \n",
    "    def mileage(self):   \n",
    "        print(\"The mileage is 25kmph \")   \n",
    "class Duster(Car):   \n",
    "     def mileage(self):   \n",
    "            print(\"The mileage is 24kmph \")   \n",
    "class Renault(Car):   \n",
    "    def mileage(self):   \n",
    "            print(\"The mileage is 27kmph \")   \n",
    "          \n",
    "# Driver code   \n",
    "t= Tesla ()   \n",
    "t.mileage()   \n",
    "  \n",
    "r = Renault()   \n",
    "r.mileage()   \n",
    "  \n",
    "s = Suzuki()   \n",
    "s.mileage()   \n",
    "d = Duster()   \n",
    "d.mileage()  "
   ]
  },
  {
   "cell_type": "markdown",
   "id": "c97b640c",
   "metadata": {},
   "source": [
    "# super function used for accesing the parent class method from the child class"
   ]
  },
  {
   "cell_type": "code",
   "execution_count": 2,
   "id": "5a0652b8",
   "metadata": {},
   "outputs": [
    {
     "name": "stdout",
     "output_type": "stream",
     "text": [
      "this is the parent class and parent method\n",
      "this is the child class and child method\n"
     ]
    }
   ],
   "source": [
    "class A:\n",
    "    def parent(self):\n",
    "        print(\"this is the parent class and parent method\")\n",
    "class B(A):\n",
    "    def child(self):\n",
    "        super().parent()\n",
    "        print(\"this is the child class and child method\")\n",
    "obj=B()\n",
    "obj.child()\n"
   ]
  },
  {
   "cell_type": "markdown",
   "id": "2a2a44d6",
   "metadata": {},
   "source": [
    "# OOPS IN PYTHON"
   ]
  },
  {
   "cell_type": "code",
   "execution_count": 31,
   "id": "75d6c510",
   "metadata": {},
   "outputs": [
    {
     "name": "stdout",
     "output_type": "stream",
     "text": [
      " \n",
      "                    Hello how would you like to proceed ?\n",
      "                    1.Enter 1 to create pin\n",
      "                    2.Enter 2 to deposit\n",
      "                    3.Enter 3 to withdraw\n",
      "                    4.Enter 4 to check balance\n",
      "                    4.Enter 5 to exit\n",
      "1\n",
      "1\n",
      "Exit\n"
     ]
    },
    {
     "ename": "AttributeError",
     "evalue": "'Atm' object has no attribute 'create_pin'",
     "output_type": "error",
     "traceback": [
      "\u001b[1;31m---------------------------------------------------------------------------\u001b[0m",
      "\u001b[1;31mAttributeError\u001b[0m                            Traceback (most recent call last)",
      "\u001b[1;32m~\\AppData\\Local\\Temp\\ipykernel_9004\\2455111596.py\u001b[0m in \u001b[0;36m<module>\u001b[1;34m\u001b[0m\n\u001b[0;32m     52\u001b[0m \u001b[1;33m\u001b[0m\u001b[0m\n\u001b[0;32m     53\u001b[0m \u001b[0msbi\u001b[0m\u001b[1;33m=\u001b[0m\u001b[0mAtm\u001b[0m\u001b[1;33m(\u001b[0m\u001b[1;33m)\u001b[0m\u001b[1;33m\u001b[0m\u001b[1;33m\u001b[0m\u001b[0m\n\u001b[1;32m---> 54\u001b[1;33m \u001b[0msbi\u001b[0m\u001b[1;33m.\u001b[0m\u001b[0mcreate_pin\u001b[0m\u001b[1;33m(\u001b[0m\u001b[1;33m)\u001b[0m\u001b[1;33m\u001b[0m\u001b[1;33m\u001b[0m\u001b[0m\n\u001b[0m\u001b[0;32m     55\u001b[0m \u001b[1;33m\u001b[0m\u001b[0m\n\u001b[0;32m     56\u001b[0m \u001b[1;33m\u001b[0m\u001b[0m\n",
      "\u001b[1;31mAttributeError\u001b[0m: 'Atm' object has no attribute 'create_pin'"
     ]
    }
   ],
   "source": [
    "class Atm:\n",
    "    \n",
    "    def __init__(self):\n",
    "        self.pin=\"\"\n",
    "        self.balance=0\n",
    "        self.menu()\n",
    "    def menu(self):\n",
    "        \n",
    "        user_input= print(input(''' \n",
    "                    Hello how would you like to proceed ?\n",
    "                    1.Enter 1 to create pin\n",
    "                    2.Enter 2 to deposit\n",
    "                    3.Enter 3 to withdraw\n",
    "                    4.Enter 4 to check balance\n",
    "                    4.Enter 5 to exit\n",
    "'''))\n",
    "        if user_input==\"1\":\n",
    "            self.create_pin()\n",
    "        elif user_input==\"2\":\n",
    "            self.deposite()\n",
    "        elif user_input==\"3\":\n",
    "            self.withdraw()\n",
    "        elif user_input==\"4\":\n",
    "            self.balance_check()\n",
    "        else :\n",
    "            \n",
    "            print(\"Exit\")\n",
    "        def create_pin(self):\n",
    "            self.pin=input(\"enter your pin\")\n",
    "            print(\"Pin sucessfully created\")\n",
    "        def deposite(self):\n",
    "            temp=input(\"enter your pin\")\n",
    "            if temp==self.pin:\n",
    "                amount=int(input(\"enter your amount for deposite\"))\n",
    "                self.balance=self.balance+amount\n",
    "                print(\"deposite sucessfully\")\n",
    "            else:\n",
    "                print(\"you entered wrong pin\")\n",
    "        def withdraw(self):\n",
    "            temp=input(\"enter your pin\")\n",
    "            \n",
    "            if temp==self.pin:\n",
    "                amount =int(input(\"enter the amount you want to withdraw\"))\n",
    "                if amount <  self.balance :\n",
    "                    self.balance=self.balance-amount\n",
    "                    print(\"withdraw is sucessfully \")\n",
    "                else :\n",
    "                    print(\"Not enough amount\")\n",
    "            else :\n",
    "                print(\"you entered wrong pin\")\n",
    "       \n",
    "                    \n",
    "sbi=Atm()      \n",
    "sbi.create_pin()    \n",
    "\n",
    "     "
   ]
  },
  {
   "cell_type": "code",
   "execution_count": 29,
   "id": "a22e3588",
   "metadata": {},
   "outputs": [
    {
     "ename": "AttributeError",
     "evalue": "'Atm' object has no attribute 'create_pin'",
     "output_type": "error",
     "traceback": [
      "\u001b[1;31m---------------------------------------------------------------------------\u001b[0m",
      "\u001b[1;31mAttributeError\u001b[0m                            Traceback (most recent call last)",
      "\u001b[1;32m~\\AppData\\Local\\Temp\\ipykernel_9004\\3380157708.py\u001b[0m in \u001b[0;36m<module>\u001b[1;34m\u001b[0m\n\u001b[1;32m----> 1\u001b[1;33m \u001b[0msbi\u001b[0m\u001b[1;33m.\u001b[0m\u001b[0mcreate_pin\u001b[0m\u001b[1;33m(\u001b[0m\u001b[1;33m)\u001b[0m\u001b[1;33m\u001b[0m\u001b[1;33m\u001b[0m\u001b[0m\n\u001b[0m",
      "\u001b[1;31mAttributeError\u001b[0m: 'Atm' object has no attribute 'create_pin'"
     ]
    }
   ],
   "source": []
  },
  {
   "cell_type": "code",
   "execution_count": null,
   "id": "eaa267c5",
   "metadata": {},
   "outputs": [],
   "source": []
  }
 ],
 "metadata": {
  "kernelspec": {
   "display_name": "Python 3 (ipykernel)",
   "language": "python",
   "name": "python3"
  },
  "language_info": {
   "codemirror_mode": {
    "name": "ipython",
    "version": 3
   },
   "file_extension": ".py",
   "mimetype": "text/x-python",
   "name": "python",
   "nbconvert_exporter": "python",
   "pygments_lexer": "ipython3",
   "version": "3.9.13"
  }
 },
 "nbformat": 4,
 "nbformat_minor": 5
}
