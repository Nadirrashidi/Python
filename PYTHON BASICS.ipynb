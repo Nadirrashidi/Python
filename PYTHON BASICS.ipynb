{
 "cells": [
  {
   "cell_type": "code",
   "execution_count": 1,
   "id": "6f6de99b",
   "metadata": {},
   "outputs": [
    {
     "name": "stdout",
     "output_type": "stream",
     "text": [
      "hello\n"
     ]
    }
   ],
   "source": [
    "print(\"hello\")\n"
   ]
  },
  {
   "cell_type": "code",
   "execution_count": 2,
   "id": "11d8d42e",
   "metadata": {},
   "outputs": [
    {
     "name": "stdout",
     "output_type": "stream",
     "text": [
      "<class 'bool'>\n"
     ]
    }
   ],
   "source": [
    "print(bool)"
   ]
  },
  {
   "cell_type": "code",
   "execution_count": 3,
   "id": "377db63d",
   "metadata": {},
   "outputs": [
    {
     "name": "stdout",
     "output_type": "stream",
     "text": [
      "india nepal\n"
     ]
    }
   ],
   "source": [
    "print(\"india\",\"nepal\")"
   ]
  },
  {
   "cell_type": "code",
   "execution_count": 4,
   "id": "d35a1e26",
   "metadata": {},
   "outputs": [
    {
     "name": "stdout",
     "output_type": "stream",
     "text": [
      "india/nepal\n"
     ]
    }
   ],
   "source": [
    "print(\"india\", \"nepal\" , sep=\"/\")"
   ]
  },
  {
   "cell_type": "code",
   "execution_count": 5,
   "id": "de474042",
   "metadata": {},
   "outputs": [
    {
     "name": "stdout",
     "output_type": "stream",
     "text": [
      "india\n",
      "nepal\n"
     ]
    }
   ],
   "source": [
    "print(\"india\")\n",
    "print(\"nepal\")"
   ]
  },
  {
   "cell_type": "code",
   "execution_count": 6,
   "id": "d0e300eb",
   "metadata": {},
   "outputs": [
    {
     "name": "stdout",
     "output_type": "stream",
     "text": [
      "india\n",
      "nepal\n"
     ]
    }
   ],
   "source": [
    "print(\"india\")\n",
    "print(\"nepal\",)"
   ]
  },
  {
   "cell_type": "code",
   "execution_count": 7,
   "id": "df75023e",
   "metadata": {},
   "outputs": [
    {
     "name": "stdout",
     "output_type": "stream",
     "text": [
      "india nepal\n"
     ]
    }
   ],
   "source": [
    "print(\"india\" ,end=' ')\n",
    "print(\"nepal\")"
   ]
  },
  {
   "cell_type": "code",
   "execution_count": 8,
   "id": "74331bef",
   "metadata": {},
   "outputs": [
    {
     "name": "stdout",
     "output_type": "stream",
     "text": [
      "4\n",
      "1.7\n"
     ]
    }
   ],
   "source": [
    "print(4)\n",
    "print(1.7)\n",
    "\n"
   ]
  },
  {
   "cell_type": "code",
   "execution_count": 9,
   "id": "8845a58d",
   "metadata": {},
   "outputs": [
    {
     "name": "stdout",
     "output_type": "stream",
     "text": [
      "(2+4j)\n"
     ]
    }
   ],
   "source": [
    "print(2+4j)"
   ]
  },
  {
   "cell_type": "code",
   "execution_count": 10,
   "id": "19229eed",
   "metadata": {},
   "outputs": [
    {
     "name": "stdout",
     "output_type": "stream",
     "text": [
      "[1, 2, 3]\n",
      "(1, 2, 3)\n",
      "{1, 2, 3}\n",
      "{'name': 'nadir', 'course': 'mca'}\n"
     ]
    }
   ],
   "source": [
    "list=[1,2,3]\n",
    "tuple=(1,2,3)\n",
    "set={1,2,3}\n",
    "dict={\"name\" : \"nadir\", \"course\" : \"mca\"}\n",
    "\n",
    "print(list)\n",
    "print(tuple)\n",
    "print(set)\n",
    "print(dict)"
   ]
  },
  {
   "cell_type": "code",
   "execution_count": 11,
   "id": "f3ff0f5f",
   "metadata": {},
   "outputs": [
    {
     "name": "stdout",
     "output_type": "stream",
     "text": [
      "svit\n",
      "svit\n",
      " mca\n"
     ]
    }
   ],
   "source": [
    "string=\"svit\"\n",
    "string1='svit'\n",
    "string2=''' mca'''\n",
    "\n",
    "print(string)\n",
    "print(string1)\n",
    "print(string2)"
   ]
  },
  {
   "cell_type": "code",
   "execution_count": 12,
   "id": "06927cc3",
   "metadata": {},
   "outputs": [
    {
     "name": "stdout",
     "output_type": "stream",
     "text": [
      "nadir\n"
     ]
    }
   ],
   "source": [
    "# video 4\n",
    "name=\"nadir\"\n",
    "print(name)\n"
   ]
  },
  {
   "cell_type": "code",
   "execution_count": 13,
   "id": "dd90dbb9",
   "metadata": {},
   "outputs": [
    {
     "name": "stdout",
     "output_type": "stream",
     "text": [
      "4\n"
     ]
    }
   ],
   "source": [
    "name=4\n",
    "print(name) # static binding"
   ]
  },
  {
   "cell_type": "code",
   "execution_count": 14,
   "id": "47a78b10",
   "metadata": {},
   "outputs": [
    {
     "name": "stdout",
     "output_type": "stream",
     "text": [
      "5\n",
      "6\n",
      "7\n"
     ]
    }
   ],
   "source": [
    "#special declaration\n",
    "a=5;b=6;c=7\n",
    "print(a)\n",
    "print(b)\n",
    "print(c)"
   ]
  },
  {
   "cell_type": "code",
   "execution_count": 15,
   "id": "15468fd9",
   "metadata": {},
   "outputs": [
    {
     "name": "stdout",
     "output_type": "stream",
     "text": [
      "4\n",
      "5\n",
      "6\n"
     ]
    }
   ],
   "source": [
    "a,b,c=4,5,6\n",
    "print(a)\n",
    "print(b)\n",
    "print(c)"
   ]
  },
  {
   "cell_type": "code",
   "execution_count": 16,
   "id": "feb12d6c",
   "metadata": {},
   "outputs": [
    {
     "name": "stdout",
     "output_type": "stream",
     "text": [
      "['False', 'None', 'True', '__peg_parser__', 'and', 'as', 'assert', 'async', 'await', 'break', 'class', 'continue', 'def', 'del', 'elif', 'else', 'except', 'finally', 'for', 'from', 'global', 'if', 'import', 'in', 'is', 'lambda', 'nonlocal', 'not', 'or', 'pass', 'raise', 'return', 'try', 'while', 'with', 'yield']\n"
     ]
    }
   ],
   "source": [
    "#video 5\n",
    "# python has 33 keywords\n",
    "import keyword\n",
    "print(keyword.kwlist)"
   ]
  },
  {
   "cell_type": "code",
   "execution_count": 17,
   "id": "dc343625",
   "metadata": {},
   "outputs": [
    {
     "name": "stdout",
     "output_type": "stream",
     "text": [
      "input value of a=5\n",
      "enter the string=hhgg\n"
     ]
    }
   ],
   "source": [
    "# day 5\n",
    "# how to take user input \n",
    "a=input(\"input value of a=\")\n",
    "string=input(\"enter the string=\")"
   ]
  },
  {
   "cell_type": "code",
   "execution_count": 18,
   "id": "7dc9c730",
   "metadata": {},
   "outputs": [
    {
     "name": "stdout",
     "output_type": "stream",
     "text": [
      "7\n"
     ]
    }
   ],
   "source": [
    "print(7)"
   ]
  },
  {
   "cell_type": "code",
   "execution_count": 19,
   "id": "74cc7e8f",
   "metadata": {},
   "outputs": [
    {
     "name": "stdout",
     "output_type": "stream",
     "text": [
      "enter the first number6\n",
      "enter the second number8\n",
      "68\n"
     ]
    }
   ],
   "source": [
    "a=input(\"enter the first number\")\n",
    "b=input(\"enter the second number\")\n",
    "c=a+b\n",
    "print(c)"
   ]
  },
  {
   "cell_type": "code",
   "execution_count": 20,
   "id": "8eb96341",
   "metadata": {},
   "outputs": [
    {
     "name": "stdout",
     "output_type": "stream",
     "text": [
      "enter the first number7\n",
      "enter the second number9\n",
      "16\n"
     ]
    }
   ],
   "source": [
    "a=int(input(\"enter the first number\")) # type casting\n",
    "b=int(input(\"enter the second number\"))\n",
    "c=a+b\n",
    "print(c)\n"
   ]
  },
  {
   "cell_type": "code",
   "execution_count": 21,
   "id": "f061c3c8",
   "metadata": {},
   "outputs": [
    {
     "name": "stdout",
     "output_type": "stream",
     "text": [
      "enter the value 7\n",
      "7\n",
      "<class 'str'>\n"
     ]
    }
   ],
   "source": [
    "a=input(\"enter the value \")\n",
    "print(a)\n",
    "print(type(a))"
   ]
  },
  {
   "cell_type": "code",
   "execution_count": 22,
   "id": "61c72022",
   "metadata": {},
   "outputs": [
    {
     "name": "stdout",
     "output_type": "stream",
     "text": [
      "enter the value 8\n",
      "8\n",
      "<class 'int'>\n"
     ]
    }
   ],
   "source": [
    "a=int(input(\"enter the value \"))\n",
    "print(a)\n",
    "print(type(a))"
   ]
  },
  {
   "cell_type": "code",
   "execution_count": 23,
   "id": "1230aa6f",
   "metadata": {},
   "outputs": [
    {
     "name": "stdout",
     "output_type": "stream",
     "text": [
      "9.5\n"
     ]
    }
   ],
   "source": [
    "# vdo 5\n",
    "# there are two types of type conversion \n",
    "#1 implicit : jo by default python karta hai\n",
    "#2 explicit : jo user khud karta hai at the any point\n",
    "\n",
    "print(4+5.5) # ex of implicit\n"
   ]
  },
  {
   "cell_type": "code",
   "execution_count": 24,
   "id": "3dce7d63",
   "metadata": {},
   "outputs": [
    {
     "data": {
      "text/plain": [
       "(5+0j)"
      ]
     },
     "execution_count": 24,
     "metadata": {},
     "output_type": "execute_result"
    }
   ],
   "source": [
    "int(4.5)\n",
    "float(4)\n",
    "str(5)\n",
    "complex(5)\n"
   ]
  },
  {
   "cell_type": "code",
   "execution_count": 25,
   "id": "c1752b59",
   "metadata": {},
   "outputs": [
    {
     "name": "stdout",
     "output_type": "stream",
     "text": [
      "2\n"
     ]
    }
   ],
   "source": [
    "# video 6\n",
    "print(5//2)"
   ]
  },
  {
   "cell_type": "code",
   "execution_count": 27,
   "id": "f09356e3",
   "metadata": {},
   "outputs": [
    {
     "name": "stdout",
     "output_type": "stream",
     "text": [
      "enter the number6\n",
      "6\n",
      "12\n",
      "18\n",
      "24\n",
      "30\n",
      "36\n",
      "42\n",
      "48\n",
      "54\n",
      "60\n"
     ]
    }
   ],
   "source": [
    "number=int(input(\"enter the number\"))\n",
    "i=1\n",
    "while i<11:\n",
    "    print(number * i)\n",
    "    i=i+1\n"
   ]
  },
  {
   "cell_type": "code",
   "execution_count": null,
   "id": "f736d216",
   "metadata": {},
   "outputs": [],
   "source": []
  },
  {
   "cell_type": "code",
   "execution_count": 29,
   "id": "cc48f0e9",
   "metadata": {},
   "outputs": [
    {
     "data": {
      "text/plain": [
       "73"
      ]
     },
     "execution_count": 29,
     "metadata": {},
     "output_type": "execute_result"
    }
   ],
   "source": [
    "import  random\n",
    "random.randint(1,100)"
   ]
  },
  {
   "cell_type": "code",
   "execution_count": 32,
   "id": "f6d792fc",
   "metadata": {},
   "outputs": [
    {
     "name": "stdout",
     "output_type": "stream",
     "text": [
      "chalo ab number ko guess karo60\n",
      "thoda chota number guess karo \n",
      "chalo ab number ko guess karo50\n",
      "thoda chota number guess karo \n",
      "chalo ab number ko guess karo40\n",
      "thoda chota number guess karo \n",
      "chalo ab number ko guess karo30\n",
      "thoda chota number guess karo \n",
      "chalo ab number ko guess karo20\n",
      "thoda bada number guesss karo\n",
      "chalo ab number ko guess karo25\n",
      "thoda bada number guesss karo\n",
      "chalo ab number ko guess karo26\n",
      "sahi jawab\n",
      "tumne attempt liye 7\n"
     ]
    }
   ],
   "source": [
    "jackport=random.randint(1,100)\n",
    "guess=int(input(\"chalo ab number ko guess karo\"))\n",
    "counter =1\n",
    "while guess !=jackport:\n",
    "    if guess <jackport:\n",
    "        print(\"thoda bada number guesss karo\")\n",
    "    else:\n",
    "        print(\"thoda chota number guess karo \")\n",
    "    guess=int(input(\"chalo ab number ko guess karo\"))\n",
    "    counter=counter+1\n",
    "print(\"sahi jawab\")\n",
    "print(\"tumne attempt liye\",counter)   \n",
    "    "
   ]
  },
  {
   "cell_type": "code",
   "execution_count": 33,
   "id": "7be5f652",
   "metadata": {},
   "outputs": [
    {
     "name": "stdout",
     "output_type": "stream",
     "text": [
      "enter the number of rows5\n",
      "*  \n",
      "* *  \n",
      "* * *  \n",
      "* * * *  \n",
      "* * * * *  \n"
     ]
    }
   ],
   "source": [
    "#nested loop\n",
    "rows=int(input(\"enter the number of rows\"))\n",
    "for i in range(1,rows+1):\n",
    "    for j in range(0,i):\n",
    "        print(\"*\",end=\" \")\n",
    "    print(\" \")   \n",
    "    "
   ]
  },
  {
   "cell_type": "code",
   "execution_count": 36,
   "id": "a4e0ae92",
   "metadata": {},
   "outputs": [
    {
     "name": "stdout",
     "output_type": "stream",
     "text": [
      "J\n",
      "A\n",
      "I\n"
     ]
    }
   ],
   "source": [
    "# string\n",
    "s=\"JAMIA\"\n",
    "print(s[0])\n",
    "print(s[1])\n",
    "print(s[-2])\n",
    "\n",
    " "
   ]
  },
  {
   "cell_type": "code",
   "execution_count": 2,
   "id": "0dc8d9ca",
   "metadata": {},
   "outputs": [
    {
     "name": "stdout",
     "output_type": "stream",
     "text": [
      "5\n",
      "5\n",
      "2355414854064\n",
      "2355414854064\n"
     ]
    }
   ],
   "source": [
    "#Aliasing\n",
    "a=5\n",
    "b=a\n",
    "print(a)\n",
    "print(b)\n",
    "print(id(a))\n",
    "print(id(b))\n"
   ]
  },
  {
   "cell_type": "code",
   "execution_count": 3,
   "id": "5fb6c221",
   "metadata": {},
   "outputs": [],
   "source": [
    "del a"
   ]
  },
  {
   "cell_type": "code",
   "execution_count": 4,
   "id": "0aa41ba1",
   "metadata": {},
   "outputs": [
    {
     "name": "stdout",
     "output_type": "stream",
     "text": [
      "5\n"
     ]
    }
   ],
   "source": [
    "print(b)"
   ]
  },
  {
   "cell_type": "code",
   "execution_count": 5,
   "id": "d9b7953a",
   "metadata": {},
   "outputs": [
    {
     "name": "stdout",
     "output_type": "stream",
     "text": [
      "2355414854096\n",
      "2355414854128\n",
      "7\n",
      "6\n"
     ]
    }
   ],
   "source": [
    "a=6\n",
    "print(id(a))\n",
    "b=a\n",
    "a=a+1\n",
    "print(id(a))\n",
    "print(a)\n",
    "print(b)"
   ]
  },
  {
   "cell_type": "code",
   "execution_count": 8,
   "id": "d68313d3",
   "metadata": {},
   "outputs": [
    {
     "name": "stdout",
     "output_type": "stream",
     "text": [
      "345\n"
     ]
    }
   ],
   "source": [
    "import sys\n",
    "a=5\n",
    "b=a\n",
    "ref=sys.getrefcount(a)-1\n",
    "print(ref)\n"
   ]
  },
  {
   "cell_type": "code",
   "execution_count": 12,
   "id": "04a4f0fa",
   "metadata": {},
   "outputs": [
    {
     "data": {
      "text/plain": [
       "5"
      ]
     },
     "execution_count": 12,
     "metadata": {},
     "output_type": "execute_result"
    }
   ],
   "source": [
    "a=717\n",
    "b=a\n",
    "c=a\n",
    "sys.getrefcount(a)"
   ]
  },
  {
   "cell_type": "code",
   "execution_count": 3,
   "id": "e0ea7d17",
   "metadata": {},
   "outputs": [
    {
     "name": "stdout",
     "output_type": "stream",
     "text": [
      "odd\n",
      "even\n",
      "odd\n",
      "even\n",
      "odd\n",
      "even\n",
      "odd\n",
      "even\n",
      "odd\n",
      "even\n",
      "\n",
      "    this function tells if a given number is odd or even\n",
      "    input-any valid integer\n",
      "    output-odd/even\n",
      "    created by-md nadir rashidi\n",
      "    last edited-29 jan 2024\n",
      "    \n"
     ]
    }
   ],
   "source": [
    "# function in python \n",
    "def is_even(number):\n",
    "    '''\n",
    "    this function tells if a given number is odd or even\n",
    "    input-any valid integer\n",
    "    output-odd/even\n",
    "    created by-md nadir rashidi\n",
    "    last edited-29 jan 2024\n",
    "    '''\n",
    "    if type(number)==int:\n",
    "        \n",
    "        if number%2==0:\n",
    "            return 'even'\n",
    "        else:\n",
    "            return 'odd'\n",
    "    else:\n",
    "        return 'Not allowed'\n",
    "for i in range(1,11):\n",
    "    print(is_even(i))\n",
    "# for see doc string\n",
    "print(is_even.__doc__)"
   ]
  },
  {
   "cell_type": "code",
   "execution_count": 5,
   "id": "140b9867",
   "metadata": {},
   "outputs": [
    {
     "name": "stdout",
     "output_type": "stream",
     "text": [
      "odd\n"
     ]
    }
   ],
   "source": [
    "def is_even(number):\n",
    "    if number%2==0:\n",
    "        return \"even\"\n",
    "    else :\n",
    "        return \"odd\"\n",
    "x=is_even(3) \n",
    "print(x)"
   ]
  },
  {
   "cell_type": "code",
   "execution_count": 6,
   "id": "be8cdd6b",
   "metadata": {},
   "outputs": [
    {
     "data": {
      "text/plain": [
       "8"
      ]
     },
     "execution_count": 6,
     "metadata": {},
     "output_type": "execute_result"
    }
   ],
   "source": [
    "# in python 4 argument\n",
    "# 1.Default argument\n",
    "def power(a,b):\n",
    "    return a**b\n",
    "power(2,3)"
   ]
  },
  {
   "cell_type": "code",
   "execution_count": 7,
   "id": "b91ad293",
   "metadata": {},
   "outputs": [
    {
     "data": {
      "text/plain": [
       "1"
      ]
     },
     "execution_count": 7,
     "metadata": {},
     "output_type": "execute_result"
    }
   ],
   "source": [
    "def power(a=1,b=1):\n",
    "    return a**b\n",
    "power(2,3)\n"
   ]
  },
  {
   "cell_type": "code",
   "execution_count": 8,
   "id": "9e181c41",
   "metadata": {},
   "outputs": [
    {
     "data": {
      "text/plain": [
       "2"
      ]
     },
     "execution_count": 8,
     "metadata": {},
     "output_type": "execute_result"
    }
   ],
   "source": [
    "power(2)"
   ]
  },
  {
   "cell_type": "code",
   "execution_count": 9,
   "id": "e723e3de",
   "metadata": {},
   "outputs": [
    {
     "data": {
      "text/plain": [
       "1"
      ]
     },
     "execution_count": 9,
     "metadata": {},
     "output_type": "execute_result"
    }
   ],
   "source": [
    "power()"
   ]
  },
  {
   "cell_type": "code",
   "execution_count": 10,
   "id": "76c0c28d",
   "metadata": {},
   "outputs": [
    {
     "data": {
      "text/plain": [
       "9"
      ]
     },
     "execution_count": 10,
     "metadata": {},
     "output_type": "execute_result"
    }
   ],
   "source": [
    "power(b=2,a=3) # keyword argument"
   ]
  },
  {
   "cell_type": "code",
   "execution_count": 11,
   "id": "fc45a210",
   "metadata": {},
   "outputs": [
    {
     "name": "stdout",
     "output_type": "stream",
     "text": [
      "1\n"
     ]
    }
   ],
   "source": [
    "# arbitary argument\n",
    "def flexi(*number):\n",
    "    product=1\n",
    "    for i in number:\n",
    "        product=product*i\n",
    "    print(product)\n",
    "    \n",
    "flexi(1)    "
   ]
  },
  {
   "cell_type": "code",
   "execution_count": 12,
   "id": "258e6dcb",
   "metadata": {},
   "outputs": [
    {
     "name": "stdout",
     "output_type": "stream",
     "text": [
      "60\n"
     ]
    }
   ],
   "source": [
    "flexi(1,3,4,5)"
   ]
  },
  {
   "cell_type": "code",
   "execution_count": 14,
   "id": "fc96f0cb",
   "metadata": {},
   "outputs": [
    {
     "name": "stdout",
     "output_type": "stream",
     "text": [
      "(1, 3, 4, 5)\n",
      "<class 'tuple'>\n",
      "60\n"
     ]
    }
   ],
   "source": [
    "def flexi(*number):\n",
    "    product=1\n",
    "    print(number)\n",
    "    print(type(number))\n",
    "    for i in number:\n",
    "        product=product*i\n",
    "    print(product)\n",
    "    \n",
    "flexi(1,3,4,5)    "
   ]
  },
  {
   "cell_type": "code",
   "execution_count": 15,
   "id": "8216e093",
   "metadata": {},
   "outputs": [
    {
     "name": "stdout",
     "output_type": "stream",
     "text": [
      "inside the fun_a\n",
      "None\n",
      "inside the fun_b\n",
      "7\n"
     ]
    }
   ],
   "source": [
    "def fun_a():\n",
    "    print(\"inside the fun_a\")\n",
    "def fun_b(y):\n",
    "    print(\"inside the fun_b\")\n",
    "    return y\n",
    "print(fun_a())\n",
    "print(5+fun_b(2))"
   ]
  },
  {
   "cell_type": "code",
   "execution_count": 16,
   "id": "cbf3b62c",
   "metadata": {},
   "outputs": [
    {
     "name": "stdout",
     "output_type": "stream",
     "text": [
      "2\n",
      "5\n"
     ]
    }
   ],
   "source": [
    "def f(y):\n",
    "    x=1\n",
    "    x=x+1\n",
    "    print(x)\n",
    "x=5\n",
    "f(x)\n",
    "print(x)"
   ]
  },
  {
   "cell_type": "code",
   "execution_count": 21,
   "id": "35c2b37c",
   "metadata": {},
   "outputs": [
    {
     "name": "stdout",
     "output_type": "stream",
     "text": [
      "5\n",
      "6\n",
      "5\n"
     ]
    }
   ],
   "source": [
    "def g(y):\n",
    "    print(x)\n",
    "    print(x+1)\n",
    "x=5\n",
    "g(x)\n",
    "print(x)"
   ]
  },
  {
   "cell_type": "code",
   "execution_count": 24,
   "id": "41086541",
   "metadata": {},
   "outputs": [
    {
     "name": "stdout",
     "output_type": "stream",
     "text": [
      "inside the f\n",
      "inside the g\n"
     ]
    }
   ],
   "source": [
    "def f():\n",
    "    print(\"inside the f\")\n",
    "    def g():\n",
    "        print(\"inside the g\")\n",
    "    g()\n",
    "f()"
   ]
  },
  {
   "cell_type": "code",
   "execution_count": 27,
   "id": "8cc60421",
   "metadata": {},
   "outputs": [
    {
     "data": {
      "text/plain": [
       "4"
      ]
     },
     "execution_count": 27,
     "metadata": {},
     "output_type": "execute_result"
    }
   ],
   "source": [
    "# function as object \n",
    "def power(number):\n",
    "    return number**2\n",
    "power(2)"
   ]
  },
  {
   "cell_type": "code",
   "execution_count": 28,
   "id": "00928a7b",
   "metadata": {},
   "outputs": [],
   "source": [
    "x=power # storing the function in the variable "
   ]
  },
  {
   "cell_type": "code",
   "execution_count": 29,
   "id": "c0afd740",
   "metadata": {},
   "outputs": [
    {
     "data": {
      "text/plain": [
       "4"
      ]
     },
     "execution_count": 29,
     "metadata": {},
     "output_type": "execute_result"
    }
   ],
   "source": [
    "x(2) "
   ]
  },
  {
   "cell_type": "code",
   "execution_count": 30,
   "id": "45f752fa",
   "metadata": {},
   "outputs": [
    {
     "data": {
      "text/plain": [
       "function"
      ]
     },
     "execution_count": 30,
     "metadata": {},
     "output_type": "execute_result"
    }
   ],
   "source": [
    "type(x)"
   ]
  },
  {
   "cell_type": "code",
   "execution_count": 31,
   "id": "3f142517",
   "metadata": {},
   "outputs": [
    {
     "name": "stdout",
     "output_type": "stream",
     "text": [
      "20\n"
     ]
    }
   ],
   "source": [
    "# Recursion in python\n",
    "# without recurssion\n",
    "def multiply(a,b):\n",
    "    result=0\n",
    "    for i in range(b):\n",
    "        result=result+a\n",
    "    print(result)\n",
    "multiply(4,5)"
   ]
  },
  {
   "cell_type": "code",
   "execution_count": 32,
   "id": "50cd80d4",
   "metadata": {},
   "outputs": [
    {
     "name": "stdout",
     "output_type": "stream",
     "text": [
      "30\n"
     ]
    }
   ],
   "source": [
    "def mul(a,b):\n",
    "    if b==1:\n",
    "        return a\n",
    "    else:\n",
    "        return a+mul(a,b-1)\n",
    "print(mul(5,6))"
   ]
  },
  {
   "cell_type": "code",
   "execution_count": 33,
   "id": "de7af1d8",
   "metadata": {},
   "outputs": [
    {
     "name": "stdout",
     "output_type": "stream",
     "text": [
      "120\n"
     ]
    }
   ],
   "source": [
    "def fact(number):\n",
    "    if number==1:\n",
    "        return 1\n",
    "    else:\n",
    "        return number*fact(number-1)\n",
    "print(fact(5))"
   ]
  },
  {
   "cell_type": "code",
   "execution_count": 5,
   "id": "fb6bdf37",
   "metadata": {},
   "outputs": [
    {
     "name": "stdout",
     "output_type": "stream",
     "text": [
      "palindrome\n",
      "not palindrome\n",
      "palindrome\n"
     ]
    }
   ],
   "source": [
    "def palin(text):\n",
    "    if len(text)<=1:\n",
    "        print(\"palindrome\")\n",
    "    else :\n",
    "        if text[0]==text[-1]:\n",
    "            palin(text[1:-1])\n",
    "        else:\n",
    "            print(\"not palindrome\")\n",
    "palin(\"madam\")\n",
    "palin(\"nadir\")\n",
    "palin(\"121\")"
   ]
  },
  {
   "cell_type": "code",
   "execution_count": 7,
   "id": "b9db5880",
   "metadata": {},
   "outputs": [
    {
     "name": "stdout",
     "output_type": "stream",
     "text": [
      "233\n"
     ]
    }
   ],
   "source": [
    "# the rabit problem\n",
    "def fib(m):\n",
    "    if m==0 or m==1:\n",
    "        return 1\n",
    "    else:\n",
    "        return fib(m-1)+fib(m-2)\n",
    "print(fib(12))"
   ]
  },
  {
   "cell_type": "code",
   "execution_count": 10,
   "id": "607c4f58",
   "metadata": {},
   "outputs": [
    {
     "data": {
      "text/plain": [
       "7778742049"
      ]
     },
     "execution_count": 10,
     "metadata": {},
     "output_type": "execute_result"
    }
   ],
   "source": [
    "def memo(m,d):\n",
    "    if m in d:\n",
    "        return d[m]\n",
    "    else:\n",
    "        d[m]=memo(m-1,d)+memo(m-2,d)\n",
    "        return d[m]\n",
    "d={0:1,1:1}\n",
    "memo(48,d)"
   ]
  },
  {
   "cell_type": "code",
   "execution_count": 11,
   "id": "d44f7f4c",
   "metadata": {},
   "outputs": [
    {
     "name": "stdout",
     "output_type": "stream",
     "text": [
      "4\n"
     ]
    }
   ],
   "source": [
    "#lambda functions\n",
    "x=lambda x:x**2\n",
    "print(x(2))"
   ]
  },
  {
   "cell_type": "code",
   "execution_count": 12,
   "id": "2a019e83",
   "metadata": {},
   "outputs": [
    {
     "name": "stdout",
     "output_type": "stream",
     "text": [
      "8\n"
     ]
    }
   ],
   "source": [
    "a=lambda x,y:x+y\n",
    "print(a(3,5))"
   ]
  },
  {
   "cell_type": "code",
   "execution_count": 13,
   "id": "8c05effa",
   "metadata": {},
   "outputs": [
    {
     "data": {
      "text/plain": [
       "False"
      ]
     },
     "execution_count": 13,
     "metadata": {},
     "output_type": "execute_result"
    }
   ],
   "source": [
    "b=lambda x:x[0]=='a'\n",
    "b('apple')\n",
    "b('banana')"
   ]
  },
  {
   "cell_type": "code",
   "execution_count": 15,
   "id": "39976790",
   "metadata": {},
   "outputs": [
    {
     "data": {
      "text/plain": [
       "'even'"
      ]
     },
     "execution_count": 15,
     "metadata": {},
     "output_type": "execute_result"
    }
   ],
   "source": [
    "b=lambda x:\"even\" if x%2==0  else \"odd\"\n",
    "b(4)"
   ]
  },
  {
   "cell_type": "code",
   "execution_count": 22,
   "id": "375cd82d",
   "metadata": {},
   "outputs": [
    {
     "name": "stdout",
     "output_type": "stream",
     "text": [
      "64\n",
      "656\n",
      "57\n"
     ]
    }
   ],
   "source": [
    "# higher order function\n",
    "def return_sum(func,L):\n",
    "    \n",
    "    result=0\n",
    "    for i in L:\n",
    "        if func(i):\n",
    "            result=result+i\n",
    "    return result  \n",
    "L=[11,14,46,57,583,4,5]\n",
    "x=lambda x:x%2==0\n",
    "y=lambda x:x%2!=0\n",
    "z=lambda x:x%3==0\n",
    "print(return_sum(x,L))\n",
    "print(return_sum(y,L))\n",
    "print(return_sum(z,L))"
   ]
  },
  {
   "cell_type": "code",
   "execution_count": 24,
   "id": "7879a405",
   "metadata": {},
   "outputs": [
    {
     "name": "stdout",
     "output_type": "stream",
     "text": [
      "[2, 4, 6, 8, 10]\n"
     ]
    }
   ],
   "source": [
    "#Map function\n",
    "L=[1,2,3,4,5]\n",
    "map(lambda x:x*2,L)\n",
    "print(list(map(lambda x:x*2,L)))"
   ]
  },
  {
   "cell_type": "code",
   "execution_count": 25,
   "id": "b943c35e",
   "metadata": {},
   "outputs": [
    {
     "data": {
      "text/plain": [
       "<map at 0x2584e727c40>"
      ]
     },
     "execution_count": 25,
     "metadata": {},
     "output_type": "execute_result"
    }
   ],
   "source": [
    "map(lambda x: x%2==0,L)"
   ]
  },
  {
   "cell_type": "code",
   "execution_count": 26,
   "id": "035e0893",
   "metadata": {},
   "outputs": [
    {
     "name": "stdout",
     "output_type": "stream",
     "text": [
      "[False, True, False, True, False]\n"
     ]
    }
   ],
   "source": [
    "print(list(map(lambda x: x%2==0,L)))"
   ]
  },
  {
   "cell_type": "code",
   "execution_count": 28,
   "id": "d9b69410",
   "metadata": {},
   "outputs": [
    {
     "data": {
      "text/plain": [
       "[45, 5]"
      ]
     },
     "execution_count": 28,
     "metadata": {},
     "output_type": "execute_result"
    }
   ],
   "source": [
    "L=[45,4,5,2]\n",
    "list(filter(lambda x:x>4,L))"
   ]
  },
  {
   "cell_type": "code",
   "execution_count": 3,
   "id": "556a996d",
   "metadata": {},
   "outputs": [],
   "source": [
    "import functools"
   ]
  },
  {
   "cell_type": "code",
   "execution_count": 4,
   "id": "4b65c68f",
   "metadata": {},
   "outputs": [
    {
     "data": {
      "text/plain": [
       "112"
      ]
     },
     "execution_count": 4,
     "metadata": {},
     "output_type": "execute_result"
    }
   ],
   "source": [
    "L=[12,33,44,23]\n",
    "functools.reduce(lambda x,y:x+y,L)"
   ]
  },
  {
   "cell_type": "code",
   "execution_count": 1,
   "id": "9572b696",
   "metadata": {},
   "outputs": [
    {
     "name": "stdout",
     "output_type": "stream",
     "text": [
      "1\n",
      "2\n",
      "3\n"
     ]
    }
   ],
   "source": [
    "#iterators\n",
    "num=[1,2,3]\n",
    "for i in num:\n",
    "    print(i)\n",
    "\n"
   ]
  },
  {
   "cell_type": "code",
   "execution_count": 4,
   "id": "47f5ca22",
   "metadata": {},
   "outputs": [
    {
     "name": "stdout",
     "output_type": "stream",
     "text": [
      "2\n",
      "4\n",
      "6\n",
      "8\n",
      "10\n",
      "12\n",
      "14\n",
      "16\n",
      "18\n",
      "2.875\n"
     ]
    }
   ],
   "source": [
    "#iterator\n",
    "import sys\n",
    "l=[x for x in range(1,10)]\n",
    "for i in l:\n",
    "    print(i*2)\n",
    "print(sys.getsizeof(l)/64)"
   ]
  },
  {
   "cell_type": "code",
   "execution_count": 7,
   "id": "5d69eee3",
   "metadata": {},
   "outputs": [
    {
     "name": "stdout",
     "output_type": "stream",
     "text": [
      "2.875\n"
     ]
    }
   ],
   "source": [
    " print(sys.getsizeof(l)/64)"
   ]
  },
  {
   "cell_type": "code",
   "execution_count": 9,
   "id": "c845d07c",
   "metadata": {},
   "outputs": [
    {
     "data": {
      "text/plain": [
       "['__add__',\n",
       " '__class__',\n",
       " '__class_getitem__',\n",
       " '__contains__',\n",
       " '__delattr__',\n",
       " '__delitem__',\n",
       " '__dir__',\n",
       " '__doc__',\n",
       " '__eq__',\n",
       " '__format__',\n",
       " '__ge__',\n",
       " '__getattribute__',\n",
       " '__getitem__',\n",
       " '__gt__',\n",
       " '__hash__',\n",
       " '__iadd__',\n",
       " '__imul__',\n",
       " '__init__',\n",
       " '__init_subclass__',\n",
       " '__iter__',\n",
       " '__le__',\n",
       " '__len__',\n",
       " '__lt__',\n",
       " '__mul__',\n",
       " '__ne__',\n",
       " '__new__',\n",
       " '__reduce__',\n",
       " '__reduce_ex__',\n",
       " '__repr__',\n",
       " '__reversed__',\n",
       " '__rmul__',\n",
       " '__setattr__',\n",
       " '__setitem__',\n",
       " '__sizeof__',\n",
       " '__str__',\n",
       " '__subclasshook__',\n",
       " 'append',\n",
       " 'clear',\n",
       " 'copy',\n",
       " 'count',\n",
       " 'extend',\n",
       " 'index',\n",
       " 'insert',\n",
       " 'pop',\n",
       " 'remove',\n",
       " 'reverse',\n",
       " 'sort']"
      ]
     },
     "execution_count": 9,
     "metadata": {},
     "output_type": "execute_result"
    }
   ],
   "source": [
    "a=[1,2,3]\n",
    "dir(a)"
   ]
  },
  {
   "cell_type": "code",
   "execution_count": 10,
   "id": "d39fb442",
   "metadata": {},
   "outputs": [],
   "source": [
    "# making our own loop\n",
    "def mera_loop(iterable):\n",
    "    iterator=iter(iterable)\n",
    "    while True:\n",
    "        try:\n",
    "            print(next(iterator))\n",
    "        except StopIteration:\n",
    "            break"
   ]
  },
  {
   "cell_type": "code",
   "execution_count": 13,
   "id": "9f7e004b",
   "metadata": {},
   "outputs": [
    {
     "name": "stdout",
     "output_type": "stream",
     "text": [
      "1\n",
      "2\n",
      "3\n"
     ]
    }
   ],
   "source": [
    "a=[1,2,3]\n",
    "b=(1,5,6)\n",
    "c={0:1,8:9}\n",
    "e={1,6,8}\n",
    "f=range(1,11)\n",
    "mera_loop(a)\n",
    "\n"
   ]
  },
  {
   "cell_type": "code",
   "execution_count": 14,
   "id": "e4a8bb29",
   "metadata": {},
   "outputs": [
    {
     "name": "stdout",
     "output_type": "stream",
     "text": [
      "1\n",
      "5\n",
      "6\n"
     ]
    }
   ],
   "source": [
    "mera_loop(b)\n"
   ]
  },
  {
   "cell_type": "code",
   "execution_count": 15,
   "id": "b775d174",
   "metadata": {},
   "outputs": [
    {
     "name": "stdout",
     "output_type": "stream",
     "text": [
      "0\n",
      "8\n"
     ]
    }
   ],
   "source": [
    "mera_loop(c)\n"
   ]
  },
  {
   "cell_type": "code",
   "execution_count": 16,
   "id": "2c22ea15",
   "metadata": {},
   "outputs": [
    {
     "name": "stdout",
     "output_type": "stream",
     "text": [
      "8\n",
      "1\n",
      "6\n"
     ]
    }
   ],
   "source": [
    "mera_loop(e)\n"
   ]
  },
  {
   "cell_type": "code",
   "execution_count": 17,
   "id": "5caab032",
   "metadata": {},
   "outputs": [
    {
     "name": "stdout",
     "output_type": "stream",
     "text": [
      "1\n",
      "2\n",
      "3\n",
      "4\n",
      "5\n",
      "6\n",
      "7\n",
      "8\n",
      "9\n",
      "10\n"
     ]
    }
   ],
   "source": [
    "mera_loop(f)"
   ]
  },
  {
   "cell_type": "code",
   "execution_count": 25,
   "id": "89abc226",
   "metadata": {},
   "outputs": [],
   "source": [
    "# khud ka range function\n",
    "class mera_range:\n",
    "    def __init__(self,start,end):\n",
    "        self.start=start\n",
    "        self.end=end\n",
    "    def __iter__(self):\n",
    "        return mera_range_iterator(self)\n"
   ]
  },
  {
   "cell_type": "code",
   "execution_count": 27,
   "id": "c83fe410",
   "metadata": {},
   "outputs": [],
   "source": [
    "class mera_range_iterator:\n",
    "    def __init__(self,iterable_obj):\n",
    "         self.iterable=iterable_obj\n",
    "    def __iter__(self):\n",
    "        return self\n",
    "    def __next__(self):\n",
    "        if self.iterable.start>=self.iterable.end:\n",
    "            raise StopIteration\n",
    "        current =self.iterable.start\n",
    "        self.iterable.start+=1\n",
    "        return current"
   ]
  },
  {
   "cell_type": "code",
   "execution_count": 28,
   "id": "b6e72f3f",
   "metadata": {},
   "outputs": [
    {
     "name": "stdout",
     "output_type": "stream",
     "text": [
      "1\n",
      "2\n",
      "3\n",
      "4\n",
      "5\n",
      "6\n",
      "7\n",
      "8\n",
      "9\n",
      "10\n"
     ]
    }
   ],
   "source": [
    "for i in mera_range(1,11):\n",
    "    \n",
    "        print(i)"
   ]
  },
  {
   "cell_type": "code",
   "execution_count": null,
   "id": "5b74189d",
   "metadata": {},
   "outputs": [],
   "source": []
  }
 ],
 "metadata": {
  "kernelspec": {
   "display_name": "Python 3 (ipykernel)",
   "language": "python",
   "name": "python3"
  },
  "language_info": {
   "codemirror_mode": {
    "name": "ipython",
    "version": 3
   },
   "file_extension": ".py",
   "mimetype": "text/x-python",
   "name": "python",
   "nbconvert_exporter": "python",
   "pygments_lexer": "ipython3",
   "version": "3.9.13"
  }
 },
 "nbformat": 4,
 "nbformat_minor": 5
}
