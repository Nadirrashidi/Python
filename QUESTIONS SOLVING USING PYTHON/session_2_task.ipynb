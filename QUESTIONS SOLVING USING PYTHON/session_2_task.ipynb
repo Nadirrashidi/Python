{
  "nbformat": 4,
  "nbformat_minor": 0,
  "metadata": {
    "colab": {
      "provenance": []
    },
    "kernelspec": {
      "name": "python3",
      "display_name": "Python 3"
    },
    "language_info": {
      "name": "python"
    }
  },
  "cells": [
    {
      "cell_type": "markdown",
      "source": [
        "### `Problem 1`: Write a program that will give you in hand monthly salary after deduction on CTC - HRA(10%), DA(5%), PF(3%) and taxes deduction as below:\n",
        "\n",
        "> Salary(Lakhs) : Tax(%)\n",
        "\n",
        "*   Below 5 : 0%\n",
        "*   5-10 : 10%\n",
        "*   10-20 : 20%\n",
        "*   aboove 20 : 30%"
      ],
      "metadata": {
        "id": "w6RlOAXV2PWh"
      }
    },
    {
      "cell_type": "code",
      "source": [
        "# Write code here\n",
        "salary = float(input(\"Enter your annual salary: \"))\n",
        "hra=salary*0.1\n",
        "da=salary*0.05\n",
        "pf=salary*0.03\n",
        "total_deduction=hra+da+pf\n",
        "taxable_salary=salary-total_deduction\n",
        "if taxable_salary<=5:\n",
        "    tax=0\n",
        "elif taxable_salary<=10:\n",
        "    tax=taxable_salary*0.1\n",
        "elif taxable_salary<=20:\n",
        "    tax=taxable_salary*0.2\n",
        "else:\n",
        "    tax=taxable_salary*0.3\n",
        "net_salary=taxable_salary-tax\n",
        "monthly_salary=net_salary/12\n",
        "print(\"Your monthly salary is: \",monthly_salary)\n"
      ],
      "metadata": {
        "id": "7tMHvKYO2etI",
        "colab": {
          "base_uri": "https://localhost:8080/"
        },
        "outputId": "3fcaec55-0e01-48a3-90d3-f8943c9b3e01"
      },
      "execution_count": 2,
      "outputs": [
        {
          "output_type": "stream",
          "name": "stdout",
          "text": [
            "Enter your annual salary: 700000\n",
            "Your monthly salary is:  33483.333333333336\n"
          ]
        }
      ]
    },
    {
      "cell_type": "markdown",
      "source": [
        "### `Problem 2`: Write a program that take a user input of three angles and will find out whether it can form a triangle or not."
      ],
      "metadata": {
        "id": "tYzCGqwl2hfN"
      }
    },
    {
      "cell_type": "code",
      "source": [
        "# Write code here\n",
        "a=float(input(\"Enter the first angle: \"))\n",
        "b=float(input(\"Enter the second angle: \"))\n",
        "c=float(input(\"Enter the third angle: \"))\n",
        "if a+b+c==180:\n",
        "    print(\"It can form a triangle\")"
      ],
      "metadata": {
        "id": "FYEqln-I2kxV",
        "colab": {
          "base_uri": "https://localhost:8080/"
        },
        "outputId": "face0008-f40e-4264-8431-443539c4da32"
      },
      "execution_count": 4,
      "outputs": [
        {
          "output_type": "stream",
          "name": "stdout",
          "text": [
            "Enter the first angle: 60\n",
            "Enter the second angle: 60\n",
            "Enter the third angle: 60\n",
            "It can form a triangle\n"
          ]
        }
      ]
    },
    {
      "cell_type": "markdown",
      "source": [
        "### `Problem 3`: Write a program that will take user input of cost price and selling price and determines whether its a loss or a profit."
      ],
      "metadata": {
        "id": "5vEpPh8C2pE4"
      }
    },
    {
      "cell_type": "code",
      "source": [
        "# Write code here\n",
        "cp=float(input(\"Enter the cost price: \"))\n",
        "sp=float(input(\"Enter the selling price: \"))\n",
        "if sp>cp:\n",
        "    profit=sp-cp\n",
        "    print(\"the profit is \" ,profit)\n",
        "elif sp<cp:\n",
        "    loss=cp-sp\n",
        "    print(\"the loss is \" , loss)\n",
        "else:\n",
        "    print(\"Neither profit nor loss\")"
      ],
      "metadata": {
        "id": "jDwBXlkO2sfl",
        "colab": {
          "base_uri": "https://localhost:8080/"
        },
        "outputId": "61a630c4-060f-4b65-cf8b-aef7d61b63ac"
      },
      "execution_count": 7,
      "outputs": [
        {
          "output_type": "stream",
          "name": "stdout",
          "text": [
            "Enter the cost price: 1300\n",
            "Enter the selling price: 1600\n",
            "the profit is  300.0\n"
          ]
        }
      ]
    },
    {
      "cell_type": "markdown",
      "source": [
        "### `Problem 4`: Write a menu-driven program -\n",
        "1. cm to ft\n",
        "2. km to miles\n",
        "3. USD to INR\n",
        "4. exit"
      ],
      "metadata": {
        "id": "J_FG_cJW2ugT"
      }
    },
    {
      "cell_type": "code",
      "source": [
        "menu=\"\"\"\n",
        "1. cm to ft\n",
        "2. km to miles\n",
        "3. USD to INR\n",
        "4. exit\n",
        "\"\"\"\n",
        "print(menu)\n",
        "menu=int(input(\"Enter your choice: \"))\n",
        "if menu==1:\n",
        "    cm=float(input(\"Enter the length in cm: \"))\n",
        "    ft=cm/30.48\n",
        "    print(\"The length in ft is: \",ft)\n",
        "    menu=int(input(\"Enter your choice: \"))\n",
        "\n",
        "if menu==2:\n",
        "    km=float(input(\"Enter the length in km: \"))\n",
        "    miles=km/1.609\n",
        "    print(\"The length in miles is: \",miles)\n",
        "    menu=int(input(\"Enter your choice: \"))\n",
        "\n",
        "if menu==3:\n",
        "    usd=float(input(\"Enter the amount in usd: \"))\n",
        "    inr=usd*76.23\n",
        "    print(\"The amount in inr is: \",inr)\n",
        "    menu=int(input(\"Enter your choice: \"))\n",
        "\n",
        "if menu==4:\n",
        "    print(\"Thank you\")\n",
        "    print(\"exit\")\n",
        "\n"
      ],
      "metadata": {
        "id": "yBHhaCGQ2zpD",
        "colab": {
          "base_uri": "https://localhost:8080/"
        },
        "outputId": "f7364444-c283-4430-939c-f3b995af5c4c"
      },
      "execution_count": 13,
      "outputs": [
        {
          "output_type": "stream",
          "name": "stdout",
          "text": [
            "\n",
            "1. cm to ft\n",
            "2. km to miles\n",
            "3. USD to INR\n",
            "4. exit\n",
            "\n",
            "Enter your choice: 4\n",
            "Thank you\n",
            "exit\n"
          ]
        }
      ]
    },
    {
      "cell_type": "markdown",
      "source": [
        "### `Problem 5` - Exercise 12: Display Fibonacci series up to 10 terms.\n",
        "\n",
        "*Note: The Fibonacci Sequence is a series of numbers. The next number is found by adding up the two numbers before it. The first two numbers are 0 and 1. For example, 0, 1, 1, 2, 3, 5, 8, 13, 21. The next number in this series above is 13+21 = 34*"
      ],
      "metadata": {
        "id": "LJJ30_Yw27ZU"
      }
    },
    {
      "cell_type": "code",
      "source": [
        "# Write code here\n",
        "a=0\n",
        "b=1\n",
        "c=0\n",
        "num=0\n",
        "print(\"Fibonacci series up to 10 terms: \")\n",
        "while num<10:\n",
        "    print(a)\n",
        "    c=a+b\n",
        "    a=b\n",
        "    b=c\n",
        "    num=num+1"
      ],
      "metadata": {
        "id": "ae_1rpe52-5R",
        "colab": {
          "base_uri": "https://localhost:8080/"
        },
        "outputId": "1f78857c-13f7-413f-99a1-c5dcecc2d4fa"
      },
      "execution_count": 15,
      "outputs": [
        {
          "output_type": "stream",
          "name": "stdout",
          "text": [
            "Fibonacci series up to 10 terms: \n",
            "0\n",
            "1\n",
            "1\n",
            "2\n",
            "3\n",
            "5\n",
            "8\n",
            "13\n",
            "21\n",
            "34\n"
          ]
        }
      ]
    },
    {
      "cell_type": "markdown",
      "source": [
        "### `Problem 6` - Find the factorial of a given number.\n",
        "\n",
        "Write a program to use the loop to find the factorial of a given number.\n",
        "\n",
        "The factorial (symbol: `!`) means to multiply all whole numbers from the chosen number down to 1.\n",
        "\n",
        "For example: calculate the factorial of 5\n",
        "\n",
        "```bash\n",
        "5! = 5 × 4 × 3 × 2 × 1 = 120\n",
        "```\n",
        "\n",
        "Output:\n",
        "\n",
        "```bash\n",
        "120\n",
        "```"
      ],
      "metadata": {
        "id": "pk_I_S4m3PT5"
      }
    },
    {
      "cell_type": "code",
      "source": [
        "# Write code here\n",
        "num=int(input(\"enter the value of num\"))\n",
        "fact=1\n",
        "while num>0:\n",
        "    fact=fact*num\n",
        "    num=num-1\n",
        "print(fact)"
      ],
      "metadata": {
        "id": "lzXxHegx3Rkc",
        "colab": {
          "base_uri": "https://localhost:8080/"
        },
        "outputId": "7db9880b-c517-4382-baae-fa1051dcb326"
      },
      "execution_count": 16,
      "outputs": [
        {
          "output_type": "stream",
          "name": "stdout",
          "text": [
            "enter the value of num5\n",
            "120\n"
          ]
        }
      ]
    },
    {
      "cell_type": "markdown",
      "source": [
        "### `Problem 9`: Write a program that keeps on accepting a number from the user until the user enters Zero. Display the sum and average of all the numbers."
      ],
      "metadata": {
        "id": "Q7ggImeA3xm4"
      }
    },
    {
      "cell_type": "code",
      "source": [
        "num=int(input(\"Enter the number: \"))\n",
        "sum=0\n",
        "count=0\n",
        "while num!=0:\n",
        "    sum=sum+num\n",
        "    count=count+1\n",
        "    num=int(input(\"Enter the number: \"))\n",
        "avg=sum/count\n",
        "print(\"The sum is: \",sum)\n",
        "print(\"The average is: \",avg)"
      ],
      "metadata": {
        "id": "t_YDSZDe4Kdo",
        "colab": {
          "base_uri": "https://localhost:8080/"
        },
        "outputId": "17078a44-72c0-4d05-c6b5-679d498239e2"
      },
      "execution_count": 18,
      "outputs": [
        {
          "output_type": "stream",
          "name": "stdout",
          "text": [
            "Enter the number: 13\n",
            "Enter the number: 67\n",
            "Enter the number: 0\n",
            "The sum is:  80\n",
            "The average is:  40.0\n"
          ]
        }
      ]
    }
  ]
}