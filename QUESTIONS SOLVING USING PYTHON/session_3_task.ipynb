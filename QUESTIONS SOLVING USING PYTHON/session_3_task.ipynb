{
  "nbformat": 4,
  "nbformat_minor": 0,
  "metadata": {
    "colab": {
      "provenance": []
    },
    "kernelspec": {
      "name": "python3",
      "display_name": "Python 3"
    },
    "language_info": {
      "name": "python"
    }
  },
  "cells": [
    {
      "cell_type": "markdown",
      "source": [
        "\n",
        "Write a program to pring the following pattern\n",
        "\n",
        "        *\n",
        "      * * *\n",
        "    * * * * *\n",
        "   * * * * * * *\n",
        "* * * * * * * * *\n"
      ],
      "metadata": {
        "id": "M7MzBABdFc8b"
      }
    },
    {
      "cell_type": "code",
      "source": [],
      "metadata": {
        "id": "ul-tJ0meF2Jr"
      },
      "execution_count": null,
      "outputs": []
    },
    {
      "cell_type": "code",
      "source": [
        "#*****\n",
        "#*****\n",
        "#*****\n",
        "#*****\n",
        "#*****\n",
        "\n",
        "n=int(input(\"enter the number of rows\"))\n",
        "i=1\n",
        "while i<=n:\n",
        "    j=1\n",
        "    while j<=n:\n",
        "        print(\"*\",end=\" \")\n",
        "        j=j+1\n",
        "    i=i+1\n",
        "    print()"
      ],
      "metadata": {
        "colab": {
          "base_uri": "https://localhost:8080/"
        },
        "id": "YmuF98lPZHLQ",
        "outputId": "2253d968-3570-4bbe-830d-706a0ca19aee"
      },
      "execution_count": 14,
      "outputs": [
        {
          "output_type": "stream",
          "name": "stdout",
          "text": [
            "enter the number of rows4\n",
            "* * * * \n",
            "* * * * \n",
            "* * * * \n",
            "* * * * \n"
          ]
        }
      ]
    },
    {
      "cell_type": "code",
      "source": [
        "# 1 1 1\n",
        "# 2 2 2\n",
        "# 3 3 3\n",
        "# 4 4 4\n",
        "# 5 5 5\n",
        "\n",
        "n=int(input(\"enter the number of rows\"))\n",
        "i=1\n",
        "while i<=n:\n",
        "    j=1\n",
        "    while j<=n:\n",
        "        print(i,end=\" \")\n",
        "        j=j+1\n",
        "    i=i+1\n",
        "    print()"
      ],
      "metadata": {
        "colab": {
          "base_uri": "https://localhost:8080/"
        },
        "id": "zRQUzVJCabT8",
        "outputId": "eb5c977f-856f-4b33-940a-bc576c755aed"
      },
      "execution_count": 13,
      "outputs": [
        {
          "output_type": "stream",
          "name": "stdout",
          "text": [
            "enter the number of rows4\n",
            "1 1 1 1 \n",
            "2 2 2 2 \n",
            "3 3 3 3 \n",
            "4 4 4 4 \n"
          ]
        }
      ]
    },
    {
      "cell_type": "code",
      "source": [
        "# 1 2 3 4\n",
        "# 1 2 3 4\n",
        "# 1 2 3 4\n",
        "# 1 2 3 4\n",
        "# n=4\n",
        "n=int(input(\"enter the number of rows\"))\n",
        "i=1\n",
        "while i<=n:\n",
        "    j=1\n",
        "    while j<=n:\n",
        "        print(i,end=\"\")\n",
        "        j=j+1\n",
        "    i=i+1\n",
        "    print()\n",
        "\n"
      ],
      "metadata": {
        "colab": {
          "base_uri": "https://localhost:8080/"
        },
        "id": "yoTg9IGPfvtz",
        "outputId": "7db48760-9595-4319-e580-ff6cdf05e794"
      },
      "execution_count": 24,
      "outputs": [
        {
          "output_type": "stream",
          "name": "stdout",
          "text": [
            "enter the number of rows4\n",
            "1111\n",
            "2222\n",
            "3333\n",
            "4444\n"
          ]
        }
      ]
    },
    {
      "cell_type": "markdown",
      "source": [
        "### `Problem 4`:Write a program to print the following pattern\n",
        "\n",
        "1\n",
        "\n",
        "2 1\n",
        "\n",
        "3 2 1\n",
        "\n",
        "4 3 2 1\n",
        "\n",
        "5 4 3 2 1"
      ],
      "metadata": {
        "id": "gU4m8eC3GHqH"
      }
    }
  ]
}