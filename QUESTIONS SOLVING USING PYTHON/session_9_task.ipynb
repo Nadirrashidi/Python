{
  "nbformat": 4,
  "nbformat_minor": 0,
  "metadata": {
    "colab": {
      "provenance": []
    },
    "kernelspec": {
      "name": "python3",
      "display_name": "Python 3"
    },
    "language_info": {
      "name": "python"
    }
  },
  "cells": [
    {
      "cell_type": "markdown",
      "source": [
        "### `Problem-1:` Class inheritence\n",
        "\n",
        "Create a **Bus** child class that inherits from the Vehicle class. The default fare charge of any vehicle is seating capacity * 100. If Vehicle is Bus instance, we need to add an extra 10% on full fare as a maintenance charge. So total fare for bus instance will become the final amount = total fare + 10% of the total fare.\n",
        "\n",
        "Note: The bus seating capacity is 50. so the final fare amount should be 5500. You need to override the fare() method of a Vehicle class in Bus class."
      ],
      "metadata": {
        "id": "BCleRtX43caS"
      }
    },
    {
      "cell_type": "code",
      "execution_count": 4,
      "metadata": {
        "id": "6jVFCXKz3YZI"
      },
      "outputs": [],
      "source": [
        "# Write code here\n",
        "class Vehicle:\n",
        "    def __init__(self, name,capacity):\n",
        "        self.name = name\n",
        "\n",
        "        self.capacity = capacity\n",
        "\n",
        "    def fare(self):\n",
        "        return self.capacity * 100\n",
        "\n",
        "class Bus(Vehicle):\n",
        "\n",
        "\n",
        "    def fare(self):\n",
        "        return super().fare() + 0.1 * super().fare()"
      ]
    },
    {
      "cell_type": "code",
      "source": [
        "Bus(\"School Bus\",50).fare()"
      ],
      "metadata": {
        "colab": {
          "base_uri": "https://localhost:8080/"
        },
        "id": "fHqRHfLB5ZKL",
        "outputId": "78440a5d-ebef-4bc5-90eb-b2c951225427"
      },
      "execution_count": 5,
      "outputs": [
        {
          "output_type": "execute_result",
          "data": {
            "text/plain": [
              "5500.0"
            ]
          },
          "metadata": {},
          "execution_count": 5
        }
      ]
    },
    {
      "cell_type": "markdown",
      "source": [
        "### `Problem-3:` Write a program that has a class Point. Define another class Location which has two objects (Location & Destination) of class Point. Also define a function in Location that prints the reflection of Destination on the x axis."
      ],
      "metadata": {
        "id": "ExIxsv4y-oEd"
      }
    },
    {
      "cell_type": "code",
      "source": [
        "# code\n",
        "class Point:\n",
        "    def __init__(self,x,y):\n",
        "        self.x = x\n",
        "        self.y = y\n",
        "class Location(Point):\n",
        "    def __init__(self,loc,dest):\n",
        "        self.loc = loc\n",
        "        self.dest = dest\n",
        "\n",
        "    def reflection(self):\n",
        "        return Point(self.dest.x,-self.dest.y)\n",
        ""
      ],
      "metadata": {
        "id": "yT2QtzQp5VAB"
      },
      "execution_count": 6,
      "outputs": []
    }
  ]
}