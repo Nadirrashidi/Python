{
 "cells": [
  {
   "cell_type": "code",
   "execution_count": 8,
   "id": "900ba2fc",
   "metadata": {},
   "outputs": [
    {
     "name": "stdout",
     "output_type": "stream",
     "text": [
      "man\n"
     ]
    }
   ],
   "source": [
    "import re\n",
    "str = 'man sun mop run' \n",
    "result = re.search(r'm\\w\\w', str) # 'm\\w\\w' its means that we want to search word with starting m and after m any two character\n",
    "                                  #in regular expression any two characters represent as \\w\\w\n",
    "                                  # search method returns only first occurence that way its return returns only man not mop\n",
    "if result: # if result is not None\n",
    "    print(result.group())\n"
   ]
  },
  {
   "cell_type": "markdown",
   "id": "c7169231",
   "metadata": {},
   "source": [
    "# findall() method find all the occurence"
   ]
  },
  {
   "cell_type": "code",
   "execution_count": 10,
   "id": "460f9072",
   "metadata": {},
   "outputs": [
    {
     "name": "stdout",
     "output_type": "stream",
     "text": [
      "['man', 'mop']\n"
     ]
    }
   ],
   "source": [
    "import re\n",
    "str = 'man sun mop run' \n",
    "result = re.findall(r'm\\w\\w', str) \n",
    "if result: # if result is not None\n",
    "    print(result)\n"
   ]
  },
  {
   "cell_type": "code",
   "execution_count": 11,
   "id": "19decd42",
   "metadata": {},
   "outputs": [
    {
     "name": "stdout",
     "output_type": "stream",
     "text": [
      "['man', 'mop', 'mon', 'mat']\n"
     ]
    }
   ],
   "source": [
    "import re\n",
    "str = 'man sun mop run mon mat ' \n",
    "result = re.findall(r'm\\w\\w', str) \n",
    "if result: # if result is not None\n",
    "    print(result)\n"
   ]
  },
  {
   "cell_type": "markdown",
   "id": "077a2d0f",
   "metadata": {},
   "source": [
    "# There is another method by the name match() that returns the resultant string only if it is \n",
    "found in the beginning of the string"
   ]
  },
  {
   "cell_type": "code",
   "execution_count": 12,
   "id": "8c7dce2e",
   "metadata": {},
   "outputs": [
    {
     "name": "stdout",
     "output_type": "stream",
     "text": [
      "<re.Match object; span=(0, 3), match='man'>\n"
     ]
    }
   ],
   "source": [
    "import re\n",
    "str = 'man sun mop run mon mat ' \n",
    "result = re.match(r'm\\w\\w', str) \n",
    "if result: # if result is not None\n",
    "    print(result)\n"
   ]
  },
  {
   "cell_type": "code",
   "execution_count": 14,
   "id": "2ba16c69",
   "metadata": {},
   "outputs": [],
   "source": [
    "import re\n",
    "str = 'sun mop run mon mat ' \n",
    "result = re.match(r'm\\w\\w', str) \n",
    "if result: # if result is not None\n",
    "    print(result)\n"
   ]
  },
  {
   "cell_type": "markdown",
   "id": "40a179bf",
   "metadata": {},
   "source": [
    "# spilit() using But ‘W’ (capital W)represents any character that is not alpha numeric."
   ]
  },
  {
   "cell_type": "code",
   "execution_count": 15,
   "id": "40b4b986",
   "metadata": {},
   "outputs": [
    {
     "name": "stdout",
     "output_type": "stream",
     "text": [
      "['This', 'is', 'the', 'Core', 'Python', 's', 'book']\n"
     ]
    }
   ],
   "source": [
    "import re\n",
    "str = 'This; is the: \"Core\" Python\\'s book' \n",
    "result = re.split(r'\\W+', str)\n",
    "print(result)"
   ]
  },
  {
   "cell_type": "code",
   "execution_count": 22,
   "id": "c715cf19",
   "metadata": {},
   "outputs": [
    {
     "name": "stdout",
     "output_type": "stream",
     "text": [
      "['This', 'is', 'the', 'Core', 'Pyt3hon', 's', 'book', 'Mu5H', 'r00Ms571', '']\n"
     ]
    }
   ],
   "source": [
    "import re\n",
    "str = \n",
    "result = re.split(r'\\W+', str)\n",
    "print(result)"
   ]
  },
  {
   "cell_type": "code",
   "execution_count": 16,
   "id": "4f56f816",
   "metadata": {},
   "outputs": [],
   "source": [
    "import re\n",
    "\n",
    "text_to_search = '''\n",
    "abcdefghijklmnopqurtuvwxyz\n",
    "ABCDEFGHIJKLMNOPQRSTUVWXYZ\n",
    "1234567890\n",
    "\n",
    "Ha HaHa\n",
    "\n",
    "MetaCharacters (Need to be escaped):\n",
    ". ^ $ * + ? { } [ ] \\ | ( )\n",
    "\n",
    "google.com\n",
    "\n",
    "321-555-4321\n",
    "123.555.1234\n",
    "123*555*1234\n",
    "800-555-1234\n",
    "900-555-1234\n",
    "\n",
    "Mr. Schafer\n",
    "Mr Smith\n",
    "Ms Davis\n",
    "Mrs. Robinson\n",
    "Mr. T\n",
    "'''\n",
    "sentence = 'Start a sentence and then bring it to an end'\n"
   ]
  },
  {
   "cell_type": "code",
   "execution_count": 25,
   "id": "195328c9",
   "metadata": {},
   "outputs": [],
   "source": [
    "sentence = 'Start a sentence and then bring it to an end'"
   ]
  },
  {
   "cell_type": "code",
   "execution_count": 27,
   "id": "bbdfa724",
   "metadata": {},
   "outputs": [
    {
     "name": "stdout",
     "output_type": "stream",
     "text": [
      "<re.Match object; span=(0, 5), match='Start'>\n"
     ]
    }
   ],
   "source": [
    "pattern = re.compile(r'^Start')  # this (^) operator match only begining of the string if mathches then return that string\n",
    "\n",
    "matches = pattern.finditer(sentence)\n",
    "\n",
    "for match in matches :\n",
    "    print(match)"
   ]
  },
  {
   "cell_type": "code",
   "execution_count": 29,
   "id": "95e3c807",
   "metadata": {},
   "outputs": [
    {
     "name": "stdout",
     "output_type": "stream",
     "text": [
      "Start\n"
     ]
    }
   ],
   "source": [
    "print(sentence[0:5])"
   ]
  },
  {
   "cell_type": "code",
   "execution_count": 30,
   "id": "9da3bc5e",
   "metadata": {},
   "outputs": [],
   "source": [
    "pattern = re.compile(r'^start') # not matching at starting of the string so nothing return\n",
    "\n",
    "matches = pattern.finditer(sentence)\n",
    "\n",
    "for match in matches :\n",
    "    print(match)"
   ]
  },
  {
   "cell_type": "code",
   "execution_count": 33,
   "id": "70544d42",
   "metadata": {},
   "outputs": [
    {
     "name": "stdout",
     "output_type": "stream",
     "text": [
      "<re.Match object; span=(41, 44), match='end'>\n"
     ]
    }
   ],
   "source": [
    "pattern = re.compile(r'end$') #  matching  word at the end  of the string so return that word\n",
    "\n",
    "matches = pattern.finditer(sentence)\n",
    "\n",
    "for match in matches :\n",
    "    print(match)"
   ]
  },
  {
   "cell_type": "code",
   "execution_count": 4,
   "id": "535acd77",
   "metadata": {},
   "outputs": [
    {
     "name": "stdout",
     "output_type": "stream",
     "text": [
      "<re.Match object; span=(1, 4), match='abc'>\n"
     ]
    }
   ],
   "source": [
    "\n",
    "pattern = re.compile(r'abc')\n",
    "\n",
    "matches = pattern.finditer(text_to_search)\n",
    "\n",
    "for match in matches :\n",
    "    print(match)"
   ]
  },
  {
   "cell_type": "code",
   "execution_count": 6,
   "id": "4b7a4f29",
   "metadata": {},
   "outputs": [
    {
     "name": "stdout",
     "output_type": "stream",
     "text": [
      "abc\n"
     ]
    }
   ],
   "source": [
    "print(text_to_search[1:4])"
   ]
  },
  {
   "cell_type": "code",
   "execution_count": 7,
   "id": "378db0fc",
   "metadata": {},
   "outputs": [],
   "source": [
    "pattern = re.compile(r'cba')\n",
    "\n",
    "matches = pattern.finditer(text_to_search)\n",
    "\n",
    "for match in matches :\n",
    "    print(match)"
   ]
  },
  {
   "cell_type": "code",
   "execution_count": 8,
   "id": "d68ec113",
   "metadata": {},
   "outputs": [
    {
     "name": "stdout",
     "output_type": "stream",
     "text": [
      "<re.Match object; span=(113, 114), match='.'>\n",
      "<re.Match object; span=(149, 150), match='.'>\n",
      "<re.Match object; span=(171, 172), match='.'>\n",
      "<re.Match object; span=(175, 176), match='.'>\n",
      "<re.Match object; span=(223, 224), match='.'>\n",
      "<re.Match object; span=(254, 255), match='.'>\n",
      "<re.Match object; span=(267, 268), match='.'>\n"
     ]
    }
   ],
   "source": [
    "pattern = re.compile(r'\\.') # its shows all presence of . (dot)\n",
    "\n",
    "matches = pattern.finditer(text_to_search)\n",
    "\n",
    "for match in matches :\n",
    "    print(match)"
   ]
  },
  {
   "cell_type": "code",
   "execution_count": 9,
   "id": "0ed6dd32",
   "metadata": {},
   "outputs": [
    {
     "name": "stdout",
     "output_type": "stream",
     "text": [
      "<re.Match object; span=(121, 122), match='+'>\n"
     ]
    }
   ],
   "source": [
    "pattern = re.compile(r'\\+')\n",
    "\n",
    "matches = pattern.finditer(text_to_search)\n",
    "\n",
    "for match in matches :\n",
    "    print(match)"
   ]
  },
  {
   "cell_type": "code",
   "execution_count": 10,
   "id": "c3027742",
   "metadata": {},
   "outputs": [
    {
     "name": "stdout",
     "output_type": "stream",
     "text": [
      "+\n"
     ]
    }
   ],
   "source": [
    "print(text_to_search[121:122])"
   ]
  },
  {
   "cell_type": "code",
   "execution_count": 17,
   "id": "4f1f0a30",
   "metadata": {},
   "outputs": [
    {
     "name": "stdout",
     "output_type": "stream",
     "text": [
      "<re.Match object; span=(142, 152), match='google.com'>\n"
     ]
    }
   ],
   "source": [
    "pattern = re.compile(r'google\\.com')\n",
    "\n",
    "matches = pattern.finditer(text_to_search)\n",
    "\n",
    "for match in matches :\n",
    "    print(match)"
   ]
  },
  {
   "cell_type": "code",
   "execution_count": 19,
   "id": "b12edf1a",
   "metadata": {},
   "outputs": [
    {
     "name": "stdout",
     "output_type": "stream",
     "text": [
      "google.com\n",
      "\n"
     ]
    }
   ],
   "source": [
    "print(text_to_search[142:153])"
   ]
  },
  {
   "cell_type": "code",
   "execution_count": 20,
   "id": "08e68cff",
   "metadata": {},
   "outputs": [
    {
     "name": "stdout",
     "output_type": "stream",
     "text": [
      "<re.Match object; span=(1, 2), match='a'>\n",
      "<re.Match object; span=(2, 3), match='b'>\n",
      "<re.Match object; span=(3, 4), match='c'>\n",
      "<re.Match object; span=(4, 5), match='d'>\n",
      "<re.Match object; span=(5, 6), match='e'>\n",
      "<re.Match object; span=(6, 7), match='f'>\n",
      "<re.Match object; span=(7, 8), match='g'>\n",
      "<re.Match object; span=(8, 9), match='h'>\n",
      "<re.Match object; span=(9, 10), match='i'>\n",
      "<re.Match object; span=(10, 11), match='j'>\n",
      "<re.Match object; span=(11, 12), match='k'>\n",
      "<re.Match object; span=(12, 13), match='l'>\n",
      "<re.Match object; span=(13, 14), match='m'>\n",
      "<re.Match object; span=(14, 15), match='n'>\n",
      "<re.Match object; span=(15, 16), match='o'>\n",
      "<re.Match object; span=(16, 17), match='p'>\n",
      "<re.Match object; span=(17, 18), match='q'>\n",
      "<re.Match object; span=(18, 19), match='u'>\n",
      "<re.Match object; span=(19, 20), match='r'>\n",
      "<re.Match object; span=(20, 21), match='t'>\n",
      "<re.Match object; span=(21, 22), match='u'>\n",
      "<re.Match object; span=(22, 23), match='v'>\n",
      "<re.Match object; span=(23, 24), match='w'>\n",
      "<re.Match object; span=(24, 25), match='x'>\n",
      "<re.Match object; span=(25, 26), match='y'>\n",
      "<re.Match object; span=(26, 27), match='z'>\n",
      "<re.Match object; span=(28, 29), match='A'>\n",
      "<re.Match object; span=(29, 30), match='B'>\n",
      "<re.Match object; span=(30, 31), match='C'>\n",
      "<re.Match object; span=(31, 32), match='D'>\n",
      "<re.Match object; span=(32, 33), match='E'>\n",
      "<re.Match object; span=(33, 34), match='F'>\n",
      "<re.Match object; span=(34, 35), match='G'>\n",
      "<re.Match object; span=(35, 36), match='H'>\n",
      "<re.Match object; span=(36, 37), match='I'>\n",
      "<re.Match object; span=(37, 38), match='J'>\n",
      "<re.Match object; span=(38, 39), match='K'>\n",
      "<re.Match object; span=(39, 40), match='L'>\n",
      "<re.Match object; span=(40, 41), match='M'>\n",
      "<re.Match object; span=(41, 42), match='N'>\n",
      "<re.Match object; span=(42, 43), match='O'>\n",
      "<re.Match object; span=(43, 44), match='P'>\n",
      "<re.Match object; span=(44, 45), match='Q'>\n",
      "<re.Match object; span=(45, 46), match='R'>\n",
      "<re.Match object; span=(46, 47), match='S'>\n",
      "<re.Match object; span=(47, 48), match='T'>\n",
      "<re.Match object; span=(48, 49), match='U'>\n",
      "<re.Match object; span=(49, 50), match='V'>\n",
      "<re.Match object; span=(50, 51), match='W'>\n",
      "<re.Match object; span=(51, 52), match='X'>\n",
      "<re.Match object; span=(52, 53), match='Y'>\n",
      "<re.Match object; span=(53, 54), match='Z'>\n",
      "<re.Match object; span=(55, 56), match='1'>\n",
      "<re.Match object; span=(56, 57), match='2'>\n",
      "<re.Match object; span=(57, 58), match='3'>\n",
      "<re.Match object; span=(58, 59), match='4'>\n",
      "<re.Match object; span=(59, 60), match='5'>\n",
      "<re.Match object; span=(60, 61), match='6'>\n",
      "<re.Match object; span=(61, 62), match='7'>\n",
      "<re.Match object; span=(62, 63), match='8'>\n",
      "<re.Match object; span=(63, 64), match='9'>\n",
      "<re.Match object; span=(64, 65), match='0'>\n",
      "<re.Match object; span=(67, 68), match='H'>\n",
      "<re.Match object; span=(68, 69), match='a'>\n",
      "<re.Match object; span=(69, 70), match=' '>\n",
      "<re.Match object; span=(70, 71), match='H'>\n",
      "<re.Match object; span=(71, 72), match='a'>\n",
      "<re.Match object; span=(72, 73), match='H'>\n",
      "<re.Match object; span=(73, 74), match='a'>\n",
      "<re.Match object; span=(76, 77), match='M'>\n",
      "<re.Match object; span=(77, 78), match='e'>\n",
      "<re.Match object; span=(78, 79), match='t'>\n",
      "<re.Match object; span=(79, 80), match='a'>\n",
      "<re.Match object; span=(80, 81), match='C'>\n",
      "<re.Match object; span=(81, 82), match='h'>\n",
      "<re.Match object; span=(82, 83), match='a'>\n",
      "<re.Match object; span=(83, 84), match='r'>\n",
      "<re.Match object; span=(84, 85), match='a'>\n",
      "<re.Match object; span=(85, 86), match='c'>\n",
      "<re.Match object; span=(86, 87), match='t'>\n",
      "<re.Match object; span=(87, 88), match='e'>\n",
      "<re.Match object; span=(88, 89), match='r'>\n",
      "<re.Match object; span=(89, 90), match='s'>\n",
      "<re.Match object; span=(90, 91), match=' '>\n",
      "<re.Match object; span=(91, 92), match='('>\n",
      "<re.Match object; span=(92, 93), match='N'>\n",
      "<re.Match object; span=(93, 94), match='e'>\n",
      "<re.Match object; span=(94, 95), match='e'>\n",
      "<re.Match object; span=(95, 96), match='d'>\n",
      "<re.Match object; span=(96, 97), match=' '>\n",
      "<re.Match object; span=(97, 98), match='t'>\n",
      "<re.Match object; span=(98, 99), match='o'>\n",
      "<re.Match object; span=(99, 100), match=' '>\n",
      "<re.Match object; span=(100, 101), match='b'>\n",
      "<re.Match object; span=(101, 102), match='e'>\n",
      "<re.Match object; span=(102, 103), match=' '>\n",
      "<re.Match object; span=(103, 104), match='e'>\n",
      "<re.Match object; span=(104, 105), match='s'>\n",
      "<re.Match object; span=(105, 106), match='c'>\n",
      "<re.Match object; span=(106, 107), match='a'>\n",
      "<re.Match object; span=(107, 108), match='p'>\n",
      "<re.Match object; span=(108, 109), match='e'>\n",
      "<re.Match object; span=(109, 110), match='d'>\n",
      "<re.Match object; span=(110, 111), match=')'>\n",
      "<re.Match object; span=(111, 112), match=':'>\n",
      "<re.Match object; span=(113, 114), match='.'>\n",
      "<re.Match object; span=(114, 115), match=' '>\n",
      "<re.Match object; span=(115, 116), match='^'>\n",
      "<re.Match object; span=(116, 117), match=' '>\n",
      "<re.Match object; span=(117, 118), match='$'>\n",
      "<re.Match object; span=(118, 119), match=' '>\n",
      "<re.Match object; span=(119, 120), match='*'>\n",
      "<re.Match object; span=(120, 121), match=' '>\n",
      "<re.Match object; span=(121, 122), match='+'>\n",
      "<re.Match object; span=(122, 123), match=' '>\n",
      "<re.Match object; span=(123, 124), match='?'>\n",
      "<re.Match object; span=(124, 125), match=' '>\n",
      "<re.Match object; span=(125, 126), match='{'>\n",
      "<re.Match object; span=(126, 127), match=' '>\n",
      "<re.Match object; span=(127, 128), match='}'>\n",
      "<re.Match object; span=(128, 129), match=' '>\n",
      "<re.Match object; span=(129, 130), match='['>\n",
      "<re.Match object; span=(130, 131), match=' '>\n",
      "<re.Match object; span=(131, 132), match=']'>\n",
      "<re.Match object; span=(132, 133), match=' '>\n",
      "<re.Match object; span=(133, 134), match='\\\\'>\n",
      "<re.Match object; span=(134, 135), match=' '>\n",
      "<re.Match object; span=(135, 136), match='|'>\n",
      "<re.Match object; span=(136, 137), match=' '>\n",
      "<re.Match object; span=(137, 138), match='('>\n",
      "<re.Match object; span=(138, 139), match=' '>\n",
      "<re.Match object; span=(139, 140), match=')'>\n",
      "<re.Match object; span=(142, 143), match='g'>\n",
      "<re.Match object; span=(143, 144), match='o'>\n",
      "<re.Match object; span=(144, 145), match='o'>\n",
      "<re.Match object; span=(145, 146), match='g'>\n",
      "<re.Match object; span=(146, 147), match='l'>\n",
      "<re.Match object; span=(147, 148), match='e'>\n",
      "<re.Match object; span=(148, 149), match='.'>\n",
      "<re.Match object; span=(149, 150), match='c'>\n",
      "<re.Match object; span=(150, 151), match='o'>\n",
      "<re.Match object; span=(151, 152), match='m'>\n",
      "<re.Match object; span=(154, 155), match='3'>\n",
      "<re.Match object; span=(155, 156), match='2'>\n",
      "<re.Match object; span=(156, 157), match='1'>\n",
      "<re.Match object; span=(157, 158), match='-'>\n",
      "<re.Match object; span=(158, 159), match='5'>\n",
      "<re.Match object; span=(159, 160), match='5'>\n",
      "<re.Match object; span=(160, 161), match='5'>\n",
      "<re.Match object; span=(161, 162), match='-'>\n",
      "<re.Match object; span=(162, 163), match='4'>\n",
      "<re.Match object; span=(163, 164), match='3'>\n",
      "<re.Match object; span=(164, 165), match='2'>\n",
      "<re.Match object; span=(165, 166), match='1'>\n",
      "<re.Match object; span=(167, 168), match='1'>\n",
      "<re.Match object; span=(168, 169), match='2'>\n",
      "<re.Match object; span=(169, 170), match='3'>\n",
      "<re.Match object; span=(170, 171), match='.'>\n",
      "<re.Match object; span=(171, 172), match='5'>\n",
      "<re.Match object; span=(172, 173), match='5'>\n",
      "<re.Match object; span=(173, 174), match='5'>\n",
      "<re.Match object; span=(174, 175), match='.'>\n",
      "<re.Match object; span=(175, 176), match='1'>\n",
      "<re.Match object; span=(176, 177), match='2'>\n",
      "<re.Match object; span=(177, 178), match='3'>\n",
      "<re.Match object; span=(178, 179), match='4'>\n",
      "<re.Match object; span=(180, 181), match='1'>\n",
      "<re.Match object; span=(181, 182), match='2'>\n",
      "<re.Match object; span=(182, 183), match='3'>\n",
      "<re.Match object; span=(183, 184), match='*'>\n",
      "<re.Match object; span=(184, 185), match='5'>\n",
      "<re.Match object; span=(185, 186), match='5'>\n",
      "<re.Match object; span=(186, 187), match='5'>\n",
      "<re.Match object; span=(187, 188), match='*'>\n",
      "<re.Match object; span=(188, 189), match='1'>\n",
      "<re.Match object; span=(189, 190), match='2'>\n",
      "<re.Match object; span=(190, 191), match='3'>\n",
      "<re.Match object; span=(191, 192), match='4'>\n",
      "<re.Match object; span=(193, 194), match='8'>\n",
      "<re.Match object; span=(194, 195), match='0'>\n",
      "<re.Match object; span=(195, 196), match='0'>\n",
      "<re.Match object; span=(196, 197), match='-'>\n",
      "<re.Match object; span=(197, 198), match='5'>\n",
      "<re.Match object; span=(198, 199), match='5'>\n",
      "<re.Match object; span=(199, 200), match='5'>\n",
      "<re.Match object; span=(200, 201), match='-'>\n",
      "<re.Match object; span=(201, 202), match='1'>\n",
      "<re.Match object; span=(202, 203), match='2'>\n",
      "<re.Match object; span=(203, 204), match='3'>\n",
      "<re.Match object; span=(204, 205), match='4'>\n",
      "<re.Match object; span=(206, 207), match='9'>\n",
      "<re.Match object; span=(207, 208), match='0'>\n",
      "<re.Match object; span=(208, 209), match='0'>\n",
      "<re.Match object; span=(209, 210), match='-'>\n",
      "<re.Match object; span=(210, 211), match='5'>\n",
      "<re.Match object; span=(211, 212), match='5'>\n",
      "<re.Match object; span=(212, 213), match='5'>\n",
      "<re.Match object; span=(213, 214), match='-'>\n",
      "<re.Match object; span=(214, 215), match='1'>\n",
      "<re.Match object; span=(215, 216), match='2'>\n",
      "<re.Match object; span=(216, 217), match='3'>\n",
      "<re.Match object; span=(217, 218), match='4'>\n",
      "<re.Match object; span=(220, 221), match='M'>\n",
      "<re.Match object; span=(221, 222), match='r'>\n",
      "<re.Match object; span=(222, 223), match='.'>\n",
      "<re.Match object; span=(223, 224), match=' '>\n",
      "<re.Match object; span=(224, 225), match='S'>\n",
      "<re.Match object; span=(225, 226), match='c'>\n",
      "<re.Match object; span=(226, 227), match='h'>\n",
      "<re.Match object; span=(227, 228), match='a'>\n",
      "<re.Match object; span=(228, 229), match='f'>\n",
      "<re.Match object; span=(229, 230), match='e'>\n",
      "<re.Match object; span=(230, 231), match='r'>\n",
      "<re.Match object; span=(232, 233), match='M'>\n",
      "<re.Match object; span=(233, 234), match='r'>\n",
      "<re.Match object; span=(234, 235), match=' '>\n",
      "<re.Match object; span=(235, 236), match='S'>\n",
      "<re.Match object; span=(236, 237), match='m'>\n",
      "<re.Match object; span=(237, 238), match='i'>\n",
      "<re.Match object; span=(238, 239), match='t'>\n",
      "<re.Match object; span=(239, 240), match='h'>\n",
      "<re.Match object; span=(241, 242), match='M'>\n",
      "<re.Match object; span=(242, 243), match='s'>\n",
      "<re.Match object; span=(243, 244), match=' '>\n",
      "<re.Match object; span=(244, 245), match='D'>\n",
      "<re.Match object; span=(245, 246), match='a'>\n",
      "<re.Match object; span=(246, 247), match='v'>\n",
      "<re.Match object; span=(247, 248), match='i'>\n",
      "<re.Match object; span=(248, 249), match='s'>\n",
      "<re.Match object; span=(250, 251), match='M'>\n",
      "<re.Match object; span=(251, 252), match='r'>\n",
      "<re.Match object; span=(252, 253), match='s'>\n",
      "<re.Match object; span=(253, 254), match='.'>\n",
      "<re.Match object; span=(254, 255), match=' '>\n",
      "<re.Match object; span=(255, 256), match='R'>\n",
      "<re.Match object; span=(256, 257), match='o'>\n",
      "<re.Match object; span=(257, 258), match='b'>\n",
      "<re.Match object; span=(258, 259), match='i'>\n",
      "<re.Match object; span=(259, 260), match='n'>\n",
      "<re.Match object; span=(260, 261), match='s'>\n",
      "<re.Match object; span=(261, 262), match='o'>\n",
      "<re.Match object; span=(262, 263), match='n'>\n",
      "<re.Match object; span=(264, 265), match='M'>\n",
      "<re.Match object; span=(265, 266), match='r'>\n",
      "<re.Match object; span=(266, 267), match='.'>\n",
      "<re.Match object; span=(267, 268), match=' '>\n",
      "<re.Match object; span=(268, 269), match='T'>\n"
     ]
    }
   ],
   "source": [
    "pattern = re.compile(r'.') # with \\(back slash) dot operator represnt any character except new line\n",
    "\n",
    "matches = pattern.finditer(text_to_search)\n",
    "\n",
    "for match in matches :\n",
    "    print(match)"
   ]
  },
  {
   "cell_type": "code",
   "execution_count": 21,
   "id": "e4d97c3f",
   "metadata": {},
   "outputs": [
    {
     "name": "stdout",
     "output_type": "stream",
     "text": [
      "<re.Match object; span=(55, 56), match='1'>\n",
      "<re.Match object; span=(56, 57), match='2'>\n",
      "<re.Match object; span=(57, 58), match='3'>\n",
      "<re.Match object; span=(58, 59), match='4'>\n",
      "<re.Match object; span=(59, 60), match='5'>\n",
      "<re.Match object; span=(60, 61), match='6'>\n",
      "<re.Match object; span=(61, 62), match='7'>\n",
      "<re.Match object; span=(62, 63), match='8'>\n",
      "<re.Match object; span=(63, 64), match='9'>\n",
      "<re.Match object; span=(64, 65), match='0'>\n",
      "<re.Match object; span=(154, 155), match='3'>\n",
      "<re.Match object; span=(155, 156), match='2'>\n",
      "<re.Match object; span=(156, 157), match='1'>\n",
      "<re.Match object; span=(158, 159), match='5'>\n",
      "<re.Match object; span=(159, 160), match='5'>\n",
      "<re.Match object; span=(160, 161), match='5'>\n",
      "<re.Match object; span=(162, 163), match='4'>\n",
      "<re.Match object; span=(163, 164), match='3'>\n",
      "<re.Match object; span=(164, 165), match='2'>\n",
      "<re.Match object; span=(165, 166), match='1'>\n",
      "<re.Match object; span=(167, 168), match='1'>\n",
      "<re.Match object; span=(168, 169), match='2'>\n",
      "<re.Match object; span=(169, 170), match='3'>\n",
      "<re.Match object; span=(171, 172), match='5'>\n",
      "<re.Match object; span=(172, 173), match='5'>\n",
      "<re.Match object; span=(173, 174), match='5'>\n",
      "<re.Match object; span=(175, 176), match='1'>\n",
      "<re.Match object; span=(176, 177), match='2'>\n",
      "<re.Match object; span=(177, 178), match='3'>\n",
      "<re.Match object; span=(178, 179), match='4'>\n",
      "<re.Match object; span=(180, 181), match='1'>\n",
      "<re.Match object; span=(181, 182), match='2'>\n",
      "<re.Match object; span=(182, 183), match='3'>\n",
      "<re.Match object; span=(184, 185), match='5'>\n",
      "<re.Match object; span=(185, 186), match='5'>\n",
      "<re.Match object; span=(186, 187), match='5'>\n",
      "<re.Match object; span=(188, 189), match='1'>\n",
      "<re.Match object; span=(189, 190), match='2'>\n",
      "<re.Match object; span=(190, 191), match='3'>\n",
      "<re.Match object; span=(191, 192), match='4'>\n",
      "<re.Match object; span=(193, 194), match='8'>\n",
      "<re.Match object; span=(194, 195), match='0'>\n",
      "<re.Match object; span=(195, 196), match='0'>\n",
      "<re.Match object; span=(197, 198), match='5'>\n",
      "<re.Match object; span=(198, 199), match='5'>\n",
      "<re.Match object; span=(199, 200), match='5'>\n",
      "<re.Match object; span=(201, 202), match='1'>\n",
      "<re.Match object; span=(202, 203), match='2'>\n",
      "<re.Match object; span=(203, 204), match='3'>\n",
      "<re.Match object; span=(204, 205), match='4'>\n",
      "<re.Match object; span=(206, 207), match='9'>\n",
      "<re.Match object; span=(207, 208), match='0'>\n",
      "<re.Match object; span=(208, 209), match='0'>\n",
      "<re.Match object; span=(210, 211), match='5'>\n",
      "<re.Match object; span=(211, 212), match='5'>\n",
      "<re.Match object; span=(212, 213), match='5'>\n",
      "<re.Match object; span=(214, 215), match='1'>\n",
      "<re.Match object; span=(215, 216), match='2'>\n",
      "<re.Match object; span=(216, 217), match='3'>\n",
      "<re.Match object; span=(217, 218), match='4'>\n"
     ]
    }
   ],
   "source": [
    "pattern = re.compile(r'\\d') # Digit (0-9)\n",
    "\n",
    "matches = pattern.finditer(text_to_search)\n",
    "\n",
    "for match in matches :\n",
    "    print(match)"
   ]
  },
  {
   "cell_type": "code",
   "execution_count": 22,
   "id": "bb11d8dd",
   "metadata": {},
   "outputs": [
    {
     "name": "stdout",
     "output_type": "stream",
     "text": [
      "<re.Match object; span=(0, 1), match='\\n'>\n",
      "<re.Match object; span=(1, 2), match='a'>\n",
      "<re.Match object; span=(2, 3), match='b'>\n",
      "<re.Match object; span=(3, 4), match='c'>\n",
      "<re.Match object; span=(4, 5), match='d'>\n",
      "<re.Match object; span=(5, 6), match='e'>\n",
      "<re.Match object; span=(6, 7), match='f'>\n",
      "<re.Match object; span=(7, 8), match='g'>\n",
      "<re.Match object; span=(8, 9), match='h'>\n",
      "<re.Match object; span=(9, 10), match='i'>\n",
      "<re.Match object; span=(10, 11), match='j'>\n",
      "<re.Match object; span=(11, 12), match='k'>\n",
      "<re.Match object; span=(12, 13), match='l'>\n",
      "<re.Match object; span=(13, 14), match='m'>\n",
      "<re.Match object; span=(14, 15), match='n'>\n",
      "<re.Match object; span=(15, 16), match='o'>\n",
      "<re.Match object; span=(16, 17), match='p'>\n",
      "<re.Match object; span=(17, 18), match='q'>\n",
      "<re.Match object; span=(18, 19), match='u'>\n",
      "<re.Match object; span=(19, 20), match='r'>\n",
      "<re.Match object; span=(20, 21), match='t'>\n",
      "<re.Match object; span=(21, 22), match='u'>\n",
      "<re.Match object; span=(22, 23), match='v'>\n",
      "<re.Match object; span=(23, 24), match='w'>\n",
      "<re.Match object; span=(24, 25), match='x'>\n",
      "<re.Match object; span=(25, 26), match='y'>\n",
      "<re.Match object; span=(26, 27), match='z'>\n",
      "<re.Match object; span=(27, 28), match='\\n'>\n",
      "<re.Match object; span=(28, 29), match='A'>\n",
      "<re.Match object; span=(29, 30), match='B'>\n",
      "<re.Match object; span=(30, 31), match='C'>\n",
      "<re.Match object; span=(31, 32), match='D'>\n",
      "<re.Match object; span=(32, 33), match='E'>\n",
      "<re.Match object; span=(33, 34), match='F'>\n",
      "<re.Match object; span=(34, 35), match='G'>\n",
      "<re.Match object; span=(35, 36), match='H'>\n",
      "<re.Match object; span=(36, 37), match='I'>\n",
      "<re.Match object; span=(37, 38), match='J'>\n",
      "<re.Match object; span=(38, 39), match='K'>\n",
      "<re.Match object; span=(39, 40), match='L'>\n",
      "<re.Match object; span=(40, 41), match='M'>\n",
      "<re.Match object; span=(41, 42), match='N'>\n",
      "<re.Match object; span=(42, 43), match='O'>\n",
      "<re.Match object; span=(43, 44), match='P'>\n",
      "<re.Match object; span=(44, 45), match='Q'>\n",
      "<re.Match object; span=(45, 46), match='R'>\n",
      "<re.Match object; span=(46, 47), match='S'>\n",
      "<re.Match object; span=(47, 48), match='T'>\n",
      "<re.Match object; span=(48, 49), match='U'>\n",
      "<re.Match object; span=(49, 50), match='V'>\n",
      "<re.Match object; span=(50, 51), match='W'>\n",
      "<re.Match object; span=(51, 52), match='X'>\n",
      "<re.Match object; span=(52, 53), match='Y'>\n",
      "<re.Match object; span=(53, 54), match='Z'>\n",
      "<re.Match object; span=(54, 55), match='\\n'>\n",
      "<re.Match object; span=(65, 66), match='\\n'>\n",
      "<re.Match object; span=(66, 67), match='\\n'>\n",
      "<re.Match object; span=(67, 68), match='H'>\n",
      "<re.Match object; span=(68, 69), match='a'>\n",
      "<re.Match object; span=(69, 70), match=' '>\n",
      "<re.Match object; span=(70, 71), match='H'>\n",
      "<re.Match object; span=(71, 72), match='a'>\n",
      "<re.Match object; span=(72, 73), match='H'>\n",
      "<re.Match object; span=(73, 74), match='a'>\n",
      "<re.Match object; span=(74, 75), match='\\n'>\n",
      "<re.Match object; span=(75, 76), match='\\n'>\n",
      "<re.Match object; span=(76, 77), match='M'>\n",
      "<re.Match object; span=(77, 78), match='e'>\n",
      "<re.Match object; span=(78, 79), match='t'>\n",
      "<re.Match object; span=(79, 80), match='a'>\n",
      "<re.Match object; span=(80, 81), match='C'>\n",
      "<re.Match object; span=(81, 82), match='h'>\n",
      "<re.Match object; span=(82, 83), match='a'>\n",
      "<re.Match object; span=(83, 84), match='r'>\n",
      "<re.Match object; span=(84, 85), match='a'>\n",
      "<re.Match object; span=(85, 86), match='c'>\n",
      "<re.Match object; span=(86, 87), match='t'>\n",
      "<re.Match object; span=(87, 88), match='e'>\n",
      "<re.Match object; span=(88, 89), match='r'>\n",
      "<re.Match object; span=(89, 90), match='s'>\n",
      "<re.Match object; span=(90, 91), match=' '>\n",
      "<re.Match object; span=(91, 92), match='('>\n",
      "<re.Match object; span=(92, 93), match='N'>\n",
      "<re.Match object; span=(93, 94), match='e'>\n",
      "<re.Match object; span=(94, 95), match='e'>\n",
      "<re.Match object; span=(95, 96), match='d'>\n",
      "<re.Match object; span=(96, 97), match=' '>\n",
      "<re.Match object; span=(97, 98), match='t'>\n",
      "<re.Match object; span=(98, 99), match='o'>\n",
      "<re.Match object; span=(99, 100), match=' '>\n",
      "<re.Match object; span=(100, 101), match='b'>\n",
      "<re.Match object; span=(101, 102), match='e'>\n",
      "<re.Match object; span=(102, 103), match=' '>\n",
      "<re.Match object; span=(103, 104), match='e'>\n",
      "<re.Match object; span=(104, 105), match='s'>\n",
      "<re.Match object; span=(105, 106), match='c'>\n",
      "<re.Match object; span=(106, 107), match='a'>\n",
      "<re.Match object; span=(107, 108), match='p'>\n",
      "<re.Match object; span=(108, 109), match='e'>\n",
      "<re.Match object; span=(109, 110), match='d'>\n",
      "<re.Match object; span=(110, 111), match=')'>\n",
      "<re.Match object; span=(111, 112), match=':'>\n",
      "<re.Match object; span=(112, 113), match='\\n'>\n",
      "<re.Match object; span=(113, 114), match='.'>\n",
      "<re.Match object; span=(114, 115), match=' '>\n",
      "<re.Match object; span=(115, 116), match='^'>\n",
      "<re.Match object; span=(116, 117), match=' '>\n",
      "<re.Match object; span=(117, 118), match='$'>\n",
      "<re.Match object; span=(118, 119), match=' '>\n",
      "<re.Match object; span=(119, 120), match='*'>\n",
      "<re.Match object; span=(120, 121), match=' '>\n",
      "<re.Match object; span=(121, 122), match='+'>\n",
      "<re.Match object; span=(122, 123), match=' '>\n",
      "<re.Match object; span=(123, 124), match='?'>\n",
      "<re.Match object; span=(124, 125), match=' '>\n",
      "<re.Match object; span=(125, 126), match='{'>\n",
      "<re.Match object; span=(126, 127), match=' '>\n",
      "<re.Match object; span=(127, 128), match='}'>\n",
      "<re.Match object; span=(128, 129), match=' '>\n",
      "<re.Match object; span=(129, 130), match='['>\n",
      "<re.Match object; span=(130, 131), match=' '>\n",
      "<re.Match object; span=(131, 132), match=']'>\n",
      "<re.Match object; span=(132, 133), match=' '>\n",
      "<re.Match object; span=(133, 134), match='\\\\'>\n",
      "<re.Match object; span=(134, 135), match=' '>\n",
      "<re.Match object; span=(135, 136), match='|'>\n",
      "<re.Match object; span=(136, 137), match=' '>\n",
      "<re.Match object; span=(137, 138), match='('>\n",
      "<re.Match object; span=(138, 139), match=' '>\n",
      "<re.Match object; span=(139, 140), match=')'>\n",
      "<re.Match object; span=(140, 141), match='\\n'>\n",
      "<re.Match object; span=(141, 142), match='\\n'>\n",
      "<re.Match object; span=(142, 143), match='g'>\n",
      "<re.Match object; span=(143, 144), match='o'>\n",
      "<re.Match object; span=(144, 145), match='o'>\n",
      "<re.Match object; span=(145, 146), match='g'>\n",
      "<re.Match object; span=(146, 147), match='l'>\n",
      "<re.Match object; span=(147, 148), match='e'>\n",
      "<re.Match object; span=(148, 149), match='.'>\n",
      "<re.Match object; span=(149, 150), match='c'>\n",
      "<re.Match object; span=(150, 151), match='o'>\n",
      "<re.Match object; span=(151, 152), match='m'>\n",
      "<re.Match object; span=(152, 153), match='\\n'>\n",
      "<re.Match object; span=(153, 154), match='\\n'>\n",
      "<re.Match object; span=(157, 158), match='-'>\n",
      "<re.Match object; span=(161, 162), match='-'>\n",
      "<re.Match object; span=(166, 167), match='\\n'>\n",
      "<re.Match object; span=(170, 171), match='.'>\n",
      "<re.Match object; span=(174, 175), match='.'>\n",
      "<re.Match object; span=(179, 180), match='\\n'>\n",
      "<re.Match object; span=(183, 184), match='*'>\n",
      "<re.Match object; span=(187, 188), match='*'>\n",
      "<re.Match object; span=(192, 193), match='\\n'>\n",
      "<re.Match object; span=(196, 197), match='-'>\n",
      "<re.Match object; span=(200, 201), match='-'>\n",
      "<re.Match object; span=(205, 206), match='\\n'>\n",
      "<re.Match object; span=(209, 210), match='-'>\n",
      "<re.Match object; span=(213, 214), match='-'>\n",
      "<re.Match object; span=(218, 219), match='\\n'>\n",
      "<re.Match object; span=(219, 220), match='\\n'>\n",
      "<re.Match object; span=(220, 221), match='M'>\n",
      "<re.Match object; span=(221, 222), match='r'>\n",
      "<re.Match object; span=(222, 223), match='.'>\n",
      "<re.Match object; span=(223, 224), match=' '>\n",
      "<re.Match object; span=(224, 225), match='S'>\n",
      "<re.Match object; span=(225, 226), match='c'>\n",
      "<re.Match object; span=(226, 227), match='h'>\n",
      "<re.Match object; span=(227, 228), match='a'>\n",
      "<re.Match object; span=(228, 229), match='f'>\n",
      "<re.Match object; span=(229, 230), match='e'>\n",
      "<re.Match object; span=(230, 231), match='r'>\n",
      "<re.Match object; span=(231, 232), match='\\n'>\n",
      "<re.Match object; span=(232, 233), match='M'>\n",
      "<re.Match object; span=(233, 234), match='r'>\n",
      "<re.Match object; span=(234, 235), match=' '>\n",
      "<re.Match object; span=(235, 236), match='S'>\n",
      "<re.Match object; span=(236, 237), match='m'>\n",
      "<re.Match object; span=(237, 238), match='i'>\n",
      "<re.Match object; span=(238, 239), match='t'>\n",
      "<re.Match object; span=(239, 240), match='h'>\n",
      "<re.Match object; span=(240, 241), match='\\n'>\n",
      "<re.Match object; span=(241, 242), match='M'>\n",
      "<re.Match object; span=(242, 243), match='s'>\n",
      "<re.Match object; span=(243, 244), match=' '>\n",
      "<re.Match object; span=(244, 245), match='D'>\n",
      "<re.Match object; span=(245, 246), match='a'>\n",
      "<re.Match object; span=(246, 247), match='v'>\n",
      "<re.Match object; span=(247, 248), match='i'>\n",
      "<re.Match object; span=(248, 249), match='s'>\n",
      "<re.Match object; span=(249, 250), match='\\n'>\n",
      "<re.Match object; span=(250, 251), match='M'>\n",
      "<re.Match object; span=(251, 252), match='r'>\n",
      "<re.Match object; span=(252, 253), match='s'>\n",
      "<re.Match object; span=(253, 254), match='.'>\n",
      "<re.Match object; span=(254, 255), match=' '>\n",
      "<re.Match object; span=(255, 256), match='R'>\n",
      "<re.Match object; span=(256, 257), match='o'>\n",
      "<re.Match object; span=(257, 258), match='b'>\n",
      "<re.Match object; span=(258, 259), match='i'>\n",
      "<re.Match object; span=(259, 260), match='n'>\n",
      "<re.Match object; span=(260, 261), match='s'>\n",
      "<re.Match object; span=(261, 262), match='o'>\n",
      "<re.Match object; span=(262, 263), match='n'>\n",
      "<re.Match object; span=(263, 264), match='\\n'>\n",
      "<re.Match object; span=(264, 265), match='M'>\n",
      "<re.Match object; span=(265, 266), match='r'>\n",
      "<re.Match object; span=(266, 267), match='.'>\n",
      "<re.Match object; span=(267, 268), match=' '>\n",
      "<re.Match object; span=(268, 269), match='T'>\n",
      "<re.Match object; span=(269, 270), match='\\n'>\n"
     ]
    }
   ],
   "source": [
    "pattern = re.compile(r'\\D') # not a Digit (0-9)\n",
    "\n",
    "matches = pattern.finditer(text_to_search)\n",
    "\n",
    "for match in matches :\n",
    "    print(match)"
   ]
  },
  {
   "cell_type": "code",
   "execution_count": null,
   "id": "dfa41424",
   "metadata": {},
   "outputs": [],
   "source": [
    "pattern = re.compile(r'\\w') # word - character (a-z) (A-Z) (0-9)\n",
    "\n",
    "matches = pattern.finditer(text_to_search)\n",
    "\n",
    "for match in matches :\n",
    "    print(match)"
   ]
  },
  {
   "cell_type": "code",
   "execution_count": null,
   "id": "887c100b",
   "metadata": {},
   "outputs": [],
   "source": [
    "pattern = re.compile(r'\\W') # NOT A  word - character (a-z) (A-Z) (0-9)\n",
    "\n",
    "matches = pattern.finditer(text_to_search)\n",
    "\n",
    "for match in matches :\n",
    "    print(match)"
   ]
  },
  {
   "cell_type": "code",
   "execution_count": null,
   "id": "b90a91f4",
   "metadata": {},
   "outputs": [],
   "source": [
    "pattern = re.compile(r'\\s') # white spaces (space ,tab ,newline)\n",
    "\n",
    "matches = pattern.finditer(text_to_search)\n",
    "\n",
    "for match in matches :\n",
    "    print(match)"
   ]
  },
  {
   "cell_type": "code",
   "execution_count": null,
   "id": "46a58302",
   "metadata": {},
   "outputs": [],
   "source": [
    "pattern = re.compile(r'\\S') # NOT A  white spaces (space ,tab ,newline)\n",
    "\n",
    "matches = pattern.finditer(text_to_search)\n",
    "\n",
    "for match in matches :\n",
    "    print(match)"
   ]
  },
  {
   "cell_type": "code",
   "execution_count": 23,
   "id": "7a756b94",
   "metadata": {},
   "outputs": [
    {
     "name": "stdout",
     "output_type": "stream",
     "text": [
      "<re.Match object; span=(67, 69), match='Ha'>\n",
      "<re.Match object; span=(70, 72), match='Ha'>\n"
     ]
    }
   ],
   "source": [
    "pattern = re.compile(r'\\bHa') # word boundry INCLUDE SPACE ALSO\n",
    "\n",
    "matches = pattern.finditer(text_to_search)\n",
    "\n",
    "for match in matches :\n",
    "    print(match)"
   ]
  },
  {
   "cell_type": "code",
   "execution_count": 24,
   "id": "b36cd1a9",
   "metadata": {},
   "outputs": [
    {
     "name": "stdout",
     "output_type": "stream",
     "text": [
      "<re.Match object; span=(72, 74), match='Ha'>\n"
     ]
    }
   ],
   "source": [
    "pattern = re.compile(r'\\BHa') # not a  word boundry\n",
    "\n",
    "matches = pattern.finditer(text_to_search)\n",
    "\n",
    "for match in matches :\n",
    "    print(match)"
   ]
  },
  {
   "cell_type": "code",
   "execution_count": 37,
   "id": "1166cc0a",
   "metadata": {},
   "outputs": [
    {
     "name": "stdout",
     "output_type": "stream",
     "text": [
      "<re.Match object; span=(154, 166), match='321-555-4321'>\n",
      "<re.Match object; span=(167, 179), match='123.555.1234'>\n",
      "<re.Match object; span=(180, 192), match='123*555*1234'>\n",
      "<re.Match object; span=(193, 205), match='800-555-1234'>\n",
      "<re.Match object; span=(206, 218), match='900-555-1234'>\n"
     ]
    }
   ],
   "source": [
    "pattern = re.compile(r'\\d\\d\\d.\\d\\d\\d.\\d\\d\\d\\d') \n",
    "\n",
    "matches = pattern.finditer(text_to_search)\n",
    "\n",
    "for match in matches :\n",
    "    print(match)"
   ]
  },
  {
   "cell_type": "code",
   "execution_count": null,
   "id": "c4290f59",
   "metadata": {},
   "outputs": [],
   "source": []
  }
 ],
 "metadata": {
  "kernelspec": {
   "display_name": "Python 3 (ipykernel)",
   "language": "python",
   "name": "python3"
  },
  "language_info": {
   "codemirror_mode": {
    "name": "ipython",
    "version": 3
   },
   "file_extension": ".py",
   "mimetype": "text/x-python",
   "name": "python",
   "nbconvert_exporter": "python",
   "pygments_lexer": "ipython3",
   "version": "3.9.13"
  }
 },
 "nbformat": 4,
 "nbformat_minor": 5
}
