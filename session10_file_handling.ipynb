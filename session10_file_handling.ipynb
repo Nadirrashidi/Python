{
  "nbformat": 4,
  "nbformat_minor": 0,
  "metadata": {
    "colab": {
      "provenance": []
    },
    "kernelspec": {
      "name": "python3",
      "display_name": "Python 3"
    },
    "language_info": {
      "name": "python"
    }
  },
  "cells": [
    {
      "cell_type": "markdown",
      "source": [
        "### Writing to a file"
      ],
      "metadata": {
        "id": "xvnsasXQ2phi"
      }
    },
    {
      "cell_type": "code",
      "source": [
        "# case 1 - if the file is not present\n",
        "f = open('sample.txt','w')\n",
        "f.write('Hello world')\n",
        "f.close()\n"
      ],
      "metadata": {
        "id": "lZTUPJ_K2DEv"
      },
      "execution_count": 2,
      "outputs": []
    },
    {
      "cell_type": "code",
      "source": [
        "# write multiline strings\n",
        "f = open('sample1.txt','w')\n",
        "f.write('hello world')\n",
        "f.write('\\nhow are you?')\n",
        "f.close()"
      ],
      "metadata": {
        "id": "vFnaFPjR3fH9"
      },
      "execution_count": 3,
      "outputs": []
    },
    {
      "cell_type": "code",
      "source": [
        "# case 2 - if the file is already present\n",
        "f = open('sample.txt','w')\n",
        "f.write('salman khan')\n",
        "f.close()"
      ],
      "metadata": {
        "id": "bGSwQIAk24Le"
      },
      "execution_count": 4,
      "outputs": []
    },
    {
      "cell_type": "code",
      "source": [
        "# Problem with w mode\n",
        "# introducing append mode\n",
        "f = open('sample1.txt','a')\n",
        "f.write('\\nI am fine')\n",
        "f.close()"
      ],
      "metadata": {
        "id": "KZViVfpm4D8F"
      },
      "execution_count": 5,
      "outputs": []
    },
    {
      "cell_type": "code",
      "source": [
        "# write lines\n",
        "L = ['hello\\n','hi\\n','how are you\\n','I am fine']\n",
        "\n",
        "f = open('sample.txt','a')\n",
        "f.writelines(L)\n",
        "f.close()"
      ],
      "metadata": {
        "id": "JDseN1dP4SXR"
      },
      "execution_count": 9,
      "outputs": []
    },
    {
      "cell_type": "code",
      "source": [
        "# reading from files\n",
        "# -> using read()\n",
        "f = open('sample.txt','r')\n",
        "s = f.read()\n",
        "print(s)\n",
        "f.close()"
      ],
      "metadata": {
        "colab": {
          "base_uri": "https://localhost:8080/"
        },
        "id": "yRu-TvOL6SFu",
        "outputId": "c026c21f-8505-458f-feee-a7f4d943c41e"
      },
      "execution_count": 10,
      "outputs": [
        {
          "output_type": "stream",
          "name": "stdout",
          "text": [
            "hello\n",
            "hi\n",
            "how are you\n",
            "I am finehello\n",
            "hi\n",
            "how are you\n",
            "I am fine\n"
          ]
        }
      ]
    },
    {
      "cell_type": "code",
      "source": [
        "# reading upto n chars\n",
        "f = open('sample.txt','r')\n",
        "s = f.read(10)\n",
        "print(s)\n",
        "f.close()"
      ],
      "metadata": {
        "colab": {
          "base_uri": "https://localhost:8080/"
        },
        "id": "lDqYZe_46thB",
        "outputId": "49415575-0e71-467b-b8f9-d7260563b6e3"
      },
      "execution_count": 11,
      "outputs": [
        {
          "output_type": "stream",
          "name": "stdout",
          "text": [
            "hello\n",
            "hi\n",
            "h\n"
          ]
        }
      ]
    },
    {
      "cell_type": "code",
      "source": [
        "# readline() -> to read line by line\n",
        "f = open('sample.txt','r')\n",
        "print(f.readline(),end='')\n",
        "print(f.readline(),end='')\n",
        "f.close()"
      ],
      "metadata": {
        "colab": {
          "base_uri": "https://localhost:8080/"
        },
        "id": "no-ZCUat62-x",
        "outputId": "a3426c17-394f-40d6-fa43-7519c4473691"
      },
      "execution_count": 15,
      "outputs": [
        {
          "output_type": "stream",
          "name": "stdout",
          "text": [
            "hello\n",
            "hi\n"
          ]
        }
      ]
    },
    {
      "cell_type": "code",
      "source": [
        "# reading entire using readline\n",
        "f = open('sample.txt','r')\n",
        "\n",
        "while True:\n",
        "\n",
        "  data = f.readline()\n",
        "\n",
        "  if data == '':\n",
        "    break\n",
        "  else:\n",
        "    print(data,end='')\n",
        "\n",
        "f.close()"
      ],
      "metadata": {
        "colab": {
          "base_uri": "https://localhost:8080/"
        },
        "id": "CsuRSq9m7NJF",
        "outputId": "d709c4f7-9b2f-437d-8825-e436f0172797"
      },
      "execution_count": 13,
      "outputs": [
        {
          "output_type": "stream",
          "name": "stdout",
          "text": [
            "hello\n",
            "hi\n",
            "how are you\n",
            "I am finehello\n",
            "hi\n",
            "how are you\n",
            "I am fine"
          ]
        }
      ]
    },
    {
      "cell_type": "markdown",
      "source": [
        "### Using Context Manager (With)\n",
        "\n",
        "- It's a good idea to close a file after usage as it will free up the resources\n",
        "- If we dont close it, garbage collector would close it\n",
        "- with keyword closes the file as soon as the usage is over"
      ],
      "metadata": {
        "id": "VoRlMzQq78in"
      }
    },
    {
      "cell_type": "code",
      "source": [
        "# with\n",
        "with open('sample1.txt','w') as f:\n",
        "  f.write('selmon bhai')"
      ],
      "metadata": {
        "id": "xwAf8ljv7eop"
      },
      "execution_count": 18,
      "outputs": []
    },
    {
      "cell_type": "code",
      "source": [
        "\n",
        "with open('sample.txt','r') as f:\n",
        "  print(f.readline())"
      ],
      "metadata": {
        "colab": {
          "base_uri": "https://localhost:8080/"
        },
        "id": "woeWzxAA8Yr7",
        "outputId": "3be97ac9-cee4-44c8-d88b-c98d38527d8d"
      },
      "execution_count": 19,
      "outputs": [
        {
          "output_type": "stream",
          "name": "stdout",
          "text": [
            "hello\n",
            "\n"
          ]
        }
      ]
    },
    {
      "cell_type": "code",
      "source": [
        "# moving within a file -> 10 char then 10 char\n",
        "with open('sample.txt','r') as f:\n",
        "  print(f.read(10))\n",
        "  print(f.read(10))\n",
        "  print(f.read(10))\n",
        "  print(f.read(10))"
      ],
      "metadata": {
        "colab": {
          "base_uri": "https://localhost:8080/"
        },
        "id": "NEWlmJK78a34",
        "outputId": "b331699f-3ca8-413c-d237-fef5b864cba1"
      },
      "execution_count": 20,
      "outputs": [
        {
          "output_type": "stream",
          "name": "stdout",
          "text": [
            "hello\n",
            "hi\n",
            "h\n",
            "ow are you\n",
            "\n",
            "I am fine\n",
            "hello\n",
            "hi\n",
            "h\n"
          ]
        }
      ]
    },
    {
      "cell_type": "code",
      "source": [
        "# benefit? -> to load a big file in memory\n",
        "big_L = ['hello world ' for i in range(1000)]\n",
        "\n",
        "with open('big.txt','w') as f:\n",
        "  f.writelines(big_L)\n"
      ],
      "metadata": {
        "id": "iZi3IxvQ9AxV"
      },
      "execution_count": 21,
      "outputs": []
    },
    {
      "cell_type": "code",
      "source": [
        "with open('big.txt','r') as f:\n",
        "\n",
        "  chunk_size = 10\n",
        "\n",
        "  while len(f.read(chunk_size)) > 0:\n",
        "    print(f.read(chunk_size),end='***')\n",
        "    f.read(chunk_size)"
      ],
      "metadata": {
        "colab": {
          "base_uri": "https://localhost:8080/"
        },
        "id": "5pznOzzleILp",
        "outputId": "c1a49f09-549f-44c7-f168-f1cbfc34e7c0"
      },
      "execution_count": 22,
      "outputs": [
        {
          "output_type": "stream",
          "name": "stdout",
          "text": [
            "d hello wo***o world he***d hello wo***o world he***d hello wo***o world he***d hello wo***o world he***d hello wo***o world he***d hello wo***o world he***d hello wo***o world he***d hello wo***o world he***d hello wo***o world he***d hello wo***o world he***d hello wo***o world he***d hello wo***o world he***d hello wo***o world he***d hello wo***o world he***d hello wo***o world he***d hello wo***o world he***d hello wo***o world he***d hello wo***o world he***d hello wo***o world he***d hello wo***o world he***d hello wo***o world he***d hello wo***o world he***d hello wo***o world he***d hello wo***o world he***d hello wo***o world he***d hello wo***o world he***d hello wo***o world he***d hello wo***o world he***d hello wo***o world he***d hello wo***o world he***d hello wo***o world he***d hello wo***o world he***d hello wo***o world he***d hello wo***o world he***d hello wo***o world he***d hello wo***o world he***d hello wo***o world he***d hello wo***o world he***d hello wo***o world he***d hello wo***o world he***d hello wo***o world he***d hello wo***o world he***d hello wo***o world he***d hello wo***o world he***d hello wo***o world he***d hello wo***o world he***d hello wo***o world he***d hello wo***o world he***d hello wo***o world he***d hello wo***o world he***d hello wo***o world he***d hello wo***o world he***d hello wo***o world he***d hello wo***o world he***d hello wo***o world he***d hello wo***o world he***d hello wo***o world he***d hello wo***o world he***d hello wo***o world he***d hello wo***o world he***d hello wo***o world he***d hello wo***o world he***d hello wo***o world he***d hello wo***o world he***d hello wo***o world he***d hello wo***o world he***d hello wo***o world he***d hello wo***o world he***d hello wo***o world he***d hello wo***o world he***d hello wo***o world he***d hello wo***o world he***d hello wo***o world he***d hello wo***o world he***d hello wo***o world he***d hello wo***o world he***d hello wo***o world he***d hello wo***o world he***d hello wo***o world he***d hello wo***o world he***d hello wo***o world he***d hello wo***o world he***d hello wo***o world he***d hello wo***o world he***d hello wo***o world he***d hello wo***o world he***d hello wo***o world he***d hello wo***o world he***d hello wo***o world he***d hello wo***o world he***d hello wo***o world he***d hello wo***o world he***d hello wo***o world he***d hello wo***o world he***d hello wo***o world he***d hello wo***o world he***d hello wo***o world he***d hello wo***o world he***d hello wo***o world he***d hello wo***o world he***d hello wo***o world he***d hello wo***o world he***d hello wo***o world he***d hello wo***o world he***d hello wo***o world he***d hello wo***o world he***d hello wo***o world he***d hello wo***o world he***d hello wo***o world he***d hello wo***o world he***d hello wo***o world he***d hello wo***o world he***d hello wo***o world he***d hello wo***o world he***d hello wo***o world he***d hello wo***o world he***d hello wo***o world he***d hello wo***o world he***d hello wo***o world he***d hello wo***o world he***d hello wo***o world he***d hello wo***o world he***d hello wo***o world he***d hello wo***o world he***d hello wo***o world he***d hello wo***o world he***d hello wo***o world he***d hello wo***o world he***d hello wo***o world he***d hello wo***o world he***d hello wo***o world he***d hello wo***o world he***d hello wo***o world he***d hello wo***o world he***d hello wo***o world he***d hello wo***o world he***d hello wo***o world he***d hello wo***o world he***d hello wo***o world he***d hello wo***o world he***d hello wo***o world he***d hello wo***o world he***d hello wo***o world he***d hello wo***o world he***d hello wo***o world he***d hello wo***o world he***d hello wo***o world he***d hello wo***o world he***d hello wo***o world he***d hello wo***o world he***d hello wo***o world he***d hello wo***o world he***d hello wo***o world he***d hello wo***o world he***d hello wo***o world he***d hello wo***o world he***d hello wo***o world he***d hello wo***o world he***d hello wo***o world he***d hello wo***o world he***d hello wo***o world he***d hello wo***o world he***d hello wo***o world he***d hello wo***o world he***d hello wo***o world he***d hello wo***o world he***d hello wo***o world he***d hello wo***o world he***d hello wo***o world he***d hello wo***o world he***d hello wo***o world he***d hello wo***o world he***d hello wo***o world he***d hello wo***o world he***d hello wo***o world he***d hello wo***o world he***d hello wo***o world he***d hello wo***o world he***d hello wo***o world he***d hello wo***o world he***d hello wo***o world he***d hello wo***o world he***d hello wo***o world he***d hello wo***o world he***d hello wo***o world he***d hello wo***o world he***d hello wo***o world he***d hello wo***o world he***d hello wo***o world he***d hello wo***o world he***d hello wo***o world he***d hello wo***o world he***d hello wo***o world he***d hello wo***o world he***d hello wo***o world he***d hello wo***o world he***d hello wo***o world he***d hello wo***o world he***d hello wo***o world he***d hello wo***o world he***"
          ]
        }
      ]
    },
    {
      "cell_type": "code",
      "source": [
        "# seek and tell function\n",
        "with open('sample.txt','r') as f:\n",
        "  f.seek(15)\n",
        "  print(f.read(10))\n",
        "  print(f.tell())\n",
        "\n",
        ""
      ],
      "metadata": {
        "colab": {
          "base_uri": "https://localhost:8080/"
        },
        "id": "4POGK5dI9LmT",
        "outputId": "d30e24d0-95b6-42a9-dc56-ac720e161940"
      },
      "execution_count": 24,
      "outputs": [
        {
          "output_type": "stream",
          "name": "stdout",
          "text": [
            "e you\n",
            "I am\n",
            "25\n"
          ]
        }
      ]
    },
    {
      "cell_type": "code",
      "source": [
        "# seek during write\n",
        "with open('sample.txt','w') as f:\n",
        "  f.write('Hello')\n",
        "  f.seek(0)\n",
        "  f.write('Xa')"
      ],
      "metadata": {
        "id": "oFqebRKuhXZA"
      },
      "execution_count": 25,
      "outputs": []
    },
    {
      "cell_type": "code",
      "source": [
        "# working with binary file\n",
        "with open('screenshot1.png','rb') as f:\n",
        "  with open('screenshot_copy.png','wb') as wf:\n",
        "    wf.write(f.read())"
      ],
      "metadata": {
        "id": "TvYT7bVTACMw"
      },
      "execution_count": null,
      "outputs": []
    },
    {
      "cell_type": "code",
      "source": [
        "# working with other data types\n",
        "with open('sample.txt','w') as f:\n",
        "  f.write(5)"
      ],
      "metadata": {
        "colab": {
          "base_uri": "https://localhost:8080/",
          "height": 176
        },
        "id": "2DFUFXIJ9fW0",
        "outputId": "324b7360-5e92-4fe7-ca82-55d15515cae5"
      },
      "execution_count": 27,
      "outputs": [
        {
          "output_type": "error",
          "ename": "TypeError",
          "evalue": "write() argument must be str, not int",
          "traceback": [
            "\u001b[0;31m---------------------------------------------------------------------------\u001b[0m",
            "\u001b[0;31mTypeError\u001b[0m                                 Traceback (most recent call last)",
            "\u001b[0;32m<ipython-input-27-a8e7a73b1431>\u001b[0m in \u001b[0;36m<cell line: 2>\u001b[0;34m()\u001b[0m\n\u001b[1;32m      1\u001b[0m \u001b[0;31m# working with other data types\u001b[0m\u001b[0;34m\u001b[0m\u001b[0;34m\u001b[0m\u001b[0m\n\u001b[1;32m      2\u001b[0m \u001b[0;32mwith\u001b[0m \u001b[0mopen\u001b[0m\u001b[0;34m(\u001b[0m\u001b[0;34m'sample.txt'\u001b[0m\u001b[0;34m,\u001b[0m\u001b[0;34m'w'\u001b[0m\u001b[0;34m)\u001b[0m \u001b[0;32mas\u001b[0m \u001b[0mf\u001b[0m\u001b[0;34m:\u001b[0m\u001b[0;34m\u001b[0m\u001b[0;34m\u001b[0m\u001b[0m\n\u001b[0;32m----> 3\u001b[0;31m   \u001b[0mf\u001b[0m\u001b[0;34m.\u001b[0m\u001b[0mwrite\u001b[0m\u001b[0;34m(\u001b[0m\u001b[0;36m5\u001b[0m\u001b[0;34m)\u001b[0m\u001b[0;34m\u001b[0m\u001b[0;34m\u001b[0m\u001b[0m\n\u001b[0m",
            "\u001b[0;31mTypeError\u001b[0m: write() argument must be str, not int"
          ]
        }
      ]
    },
    {
      "cell_type": "code",
      "source": [
        "with open('sample.txt','w') as f:\n",
        "  f.write('5')"
      ],
      "metadata": {
        "id": "z2TfIqNj93Eh"
      },
      "execution_count": 28,
      "outputs": []
    },
    {
      "cell_type": "code",
      "source": [
        "with open('sample.txt','r') as f:\n",
        "  print(int(f.read()) + 5)"
      ],
      "metadata": {
        "colab": {
          "base_uri": "https://localhost:8080/"
        },
        "id": "ZY2EcrdY97D5",
        "outputId": "94a019c3-a9b6-42e6-97a8-a864dc8719f3"
      },
      "execution_count": 29,
      "outputs": [
        {
          "output_type": "stream",
          "name": "stdout",
          "text": [
            "10\n"
          ]
        }
      ]
    },
    {
      "cell_type": "code",
      "source": [
        "# more complex data\n",
        "d = {\n",
        "    'name':'nadir',\n",
        "     'age':33,\n",
        "     'gender':'male'\n",
        "}\n",
        "\n",
        "with open('sample.txt','w') as f:\n",
        "  f.write(str(d))"
      ],
      "metadata": {
        "id": "uUw_EYLs-OHF"
      },
      "execution_count": 33,
      "outputs": []
    },
    {
      "cell_type": "code",
      "source": [
        "with open('sample.txt','r') as f:\n",
        "  print(f.read())"
      ],
      "metadata": {
        "colab": {
          "base_uri": "https://localhost:8080/"
        },
        "id": "KtKxeG8_7JVB",
        "outputId": "a0e4a29f-45ea-4617-9437-c0eacc8ee0fc"
      },
      "execution_count": 34,
      "outputs": [
        {
          "output_type": "stream",
          "name": "stdout",
          "text": [
            "{'name': 'nadir', 'age': 33, 'gender': 'male'}\n"
          ]
        }
      ]
    },
    {
      "cell_type": "code",
      "source": [
        "# serialization using json module\n",
        "# list\n",
        "import json\n",
        "\n",
        "L = [1,2,3,4]\n",
        "\n",
        "with open('demo.json','w') as f:\n",
        "  json.dump(L,f)\n"
      ],
      "metadata": {
        "id": "eXEXak4X_cTK"
      },
      "execution_count": 35,
      "outputs": []
    },
    {
      "cell_type": "code",
      "source": [
        "# dict\n",
        "d = {\n",
        "    'name':'nadir',\n",
        "     'age':33,\n",
        "     'gender':'male'\n",
        "}\n",
        "\n",
        "with open('demo.json','w') as f:\n",
        "  json.dump(d,f,indent=4)"
      ],
      "metadata": {
        "id": "wNKgzvhk_mTJ"
      },
      "execution_count": 36,
      "outputs": []
    },
    {
      "cell_type": "code",
      "source": [
        "# deserialization\n",
        "import json\n",
        "\n",
        "with open('demo.json','r') as f:\n",
        "  d = json.load(f)\n",
        "  print(d)\n",
        "  print(type(d))"
      ],
      "metadata": {
        "colab": {
          "base_uri": "https://localhost:8080/"
        },
        "id": "5GfinF74Cyro",
        "outputId": "0950b0fb-c496-40d2-9fa2-2ce145042d17"
      },
      "execution_count": 37,
      "outputs": [
        {
          "output_type": "stream",
          "name": "stdout",
          "text": [
            "{'name': 'nadir', 'age': 33, 'gender': 'male'}\n",
            "<class 'dict'>\n"
          ]
        }
      ]
    },
    {
      "cell_type": "code",
      "source": [
        "# serialize and deserialize tuple\n",
        "import json\n",
        "\n",
        "t = (1,2,3,4,5)\n",
        "\n",
        "with open('demo.json','w') as f:\n",
        "  json.dump(t,f)"
      ],
      "metadata": {
        "id": "sF29FCvtDOaA"
      },
      "execution_count": 38,
      "outputs": []
    },
    {
      "cell_type": "code",
      "source": [
        "# serialize and deserialize a nested dict\n",
        "\n",
        "d = {\n",
        "    'student':'nadir',\n",
        "     'marks':[23,14,34,45,56]\n",
        "}\n",
        "\n",
        "with open('demo.json','w') as f:\n",
        "  json.dump(d,f)"
      ],
      "metadata": {
        "id": "IDx9yh5WECvq"
      },
      "execution_count": 40,
      "outputs": []
    },
    {
      "cell_type": "markdown",
      "source": [
        "### Serializing and Deserializing custom objects"
      ],
      "metadata": {
        "id": "bwXefjbgHEMl"
      }
    },
    {
      "cell_type": "code",
      "source": [
        "class Person:\n",
        "\n",
        "  def __init__(self,fname,lname,age,gender):\n",
        "    self.fname = fname\n",
        "    self.lname = lname\n",
        "    self.age = age\n",
        "    self.gender = gender\n",
        "\n"
      ],
      "metadata": {
        "id": "YMIu87osHDDZ"
      },
      "execution_count": 41,
      "outputs": []
    },
    {
      "cell_type": "code",
      "source": [
        "person = Person('Nadir','rashidi',23,'male')"
      ],
      "metadata": {
        "id": "pzsTh4TlHp7I"
      },
      "execution_count": 43,
      "outputs": []
    },
    {
      "cell_type": "code",
      "source": [
        "# As a string\n",
        "import json\n",
        "\n",
        "def show_object(person):\n",
        "  if isinstance(person,Person):\n",
        "    return \"{} {} age -> {} gender -> {}\".format(person.fname,person.lname,person.age,person.gender)\n",
        "\n",
        "with open('demo.json','w') as f:\n",
        "  json.dump(person,f,default=show_object)"
      ],
      "metadata": {
        "id": "IJdrxFTYH6o3"
      },
      "execution_count": 44,
      "outputs": []
    },
    {
      "cell_type": "code",
      "source": [
        "# As a dict\n",
        "import json\n",
        "\n",
        "def show_object(person):\n",
        "  if isinstance(person,Person):\n",
        "    return {'name':person.fname + ' ' + person.lname,'age':person.age,'gender':person.gender}\n",
        "\n",
        "with open('demo.json','w') as f:\n",
        "  json.dump(person,f,default=show_object,indent=4)"
      ],
      "metadata": {
        "id": "3iJ8vjupJA5i"
      },
      "execution_count": 45,
      "outputs": []
    },
    {
      "cell_type": "code",
      "source": [
        "# deserializing\n",
        "import json\n",
        "\n",
        "with open('demo.json','r') as f:\n",
        "  d = json.load(f)\n",
        "  print(d)\n",
        "  print(type(d))"
      ],
      "metadata": {
        "colab": {
          "base_uri": "https://localhost:8080/"
        },
        "id": "y9k8e2ENJ_GM",
        "outputId": "012cc48b-505a-4339-dd90-9873e89720b0"
      },
      "execution_count": 46,
      "outputs": [
        {
          "output_type": "stream",
          "name": "stdout",
          "text": [
            "{'name': 'Nadir rashidi', 'age': 23, 'gender': 'male'}\n",
            "<class 'dict'>\n"
          ]
        }
      ]
    },
    {
      "cell_type": "markdown",
      "source": [
        "### Pickling\n",
        "`Pickling` is the process whereby a Python object hierarchy is converted into a byte stream, and `unpickling` is the inverse operation, whereby a byte stream (from a binary file or bytes-like object) is converted back into an object hierarchy."
      ],
      "metadata": {
        "id": "8JHA4j2NLD-0"
      }
    },
    {
      "cell_type": "code",
      "source": [
        "class Person:\n",
        "\n",
        "  def __init__(self,name,age):\n",
        "    self.name = name\n",
        "    self.age = age\n",
        "\n",
        "  def display_info(self):\n",
        "    print('Hi my name is',self.name,'and I am ',self.age,'years old')"
      ],
      "metadata": {
        "id": "hg3cGP4CLC9t"
      },
      "execution_count": 47,
      "outputs": []
    },
    {
      "cell_type": "code",
      "source": [
        "p = Person('nadir',33)\n"
      ],
      "metadata": {
        "id": "ixYOzU0yKOcg"
      },
      "execution_count": 51,
      "outputs": []
    },
    {
      "cell_type": "code",
      "source": [
        "# pickle dump\n",
        "import pickle\n",
        "with open('person.pkl','wb') as f:\n",
        "  pickle.dump(p,f)"
      ],
      "metadata": {
        "id": "GYQNrY33Mg6U"
      },
      "execution_count": 52,
      "outputs": []
    },
    {
      "cell_type": "code",
      "source": [
        "# pickle load\n",
        "import pickle\n",
        "with open('person.pkl','rb') as f:\n",
        "  p = pickle.load(f)\n",
        "\n",
        "p.display_info()"
      ],
      "metadata": {
        "colab": {
          "base_uri": "https://localhost:8080/"
        },
        "id": "TMWLxIzOMpz4",
        "outputId": "b02e7bc1-a281-4c93-844e-b7ad902b3d49"
      },
      "execution_count": 53,
      "outputs": [
        {
          "output_type": "stream",
          "name": "stdout",
          "text": [
            "Hi my name is nadir and I am  33 years old\n"
          ]
        }
      ]
    }
  ]
}