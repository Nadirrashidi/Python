{
  "nbformat": 4,
  "nbformat_minor": 0,
  "metadata": {
    "colab": {
      "provenance": []
    },
    "kernelspec": {
      "name": "python3",
      "display_name": "Python 3"
    },
    "language_info": {
      "name": "python"
    }
  },
  "cells": [
    {
      "cell_type": "markdown",
      "source": [
        "### Sequence sum\n",
        "\n",
        "1/1! + 2/2! + 3/3! + ..."
      ],
      "metadata": {
        "id": "jmeilrsx_Dz_"
      }
    },
    {
      "cell_type": "code",
      "source": [
        "# Code here\n",
        "\n",
        "n = int(input('enter n'))\n",
        "\n",
        "result = 0\n",
        "fact = 1\n",
        "\n",
        "for i in range(1,n+1):\n",
        "  fact = fact * i\n",
        "  result = result + i/fact\n",
        "\n",
        "print(result)\n",
        "\n",
        "\n"
      ],
      "metadata": {
        "colab": {
          "base_uri": "https://localhost:8080/"
        },
        "id": "UU38MOpA_E3_",
        "outputId": "a3666448-fa26-4472-9247-2a10dd273249"
      },
      "execution_count": 41,
      "outputs": [
        {
          "output_type": "stream",
          "name": "stdout",
          "text": [
            "enter n5\n",
            "2.708333333333333\n"
          ]
        }
      ]
    },
    {
      "cell_type": "markdown",
      "source": [
        "# Nested Loops"
      ],
      "metadata": {
        "id": "F_ka2Jji_G3d"
      }
    },
    {
      "cell_type": "code",
      "source": [
        "# Examples -> unique pairs\n",
        "\n",
        "for i in range(1,5):\n",
        "  for j in range(1,5):\n",
        "    print(i,j)"
      ],
      "metadata": {
        "colab": {
          "base_uri": "https://localhost:8080/"
        },
        "id": "3nctuHAQ_RvA",
        "outputId": "71390c8a-a1e7-474d-f81c-87b3a36294a9"
      },
      "execution_count": 42,
      "outputs": [
        {
          "output_type": "stream",
          "name": "stdout",
          "text": [
            "1 1\n",
            "1 2\n",
            "1 3\n",
            "1 4\n",
            "2 1\n",
            "2 2\n",
            "2 3\n",
            "2 4\n",
            "3 1\n",
            "3 2\n",
            "3 3\n",
            "3 4\n",
            "4 1\n",
            "4 2\n",
            "4 3\n",
            "4 4\n"
          ]
        }
      ]
    },
    {
      "cell_type": "markdown",
      "source": [
        "### Pattern 1\n",
        "\n",
        "\n",
        "*** <br>\n",
        "**** <br>\n",
        "***<br>\n"
      ],
      "metadata": {
        "id": "iUnoz6z1_aaI"
      }
    },
    {
      "cell_type": "code",
      "source": [
        "# code here\n",
        "\n",
        "rows = int(input('enter number of rows'))\n",
        "\n",
        "for i in range(1,rows+1):\n",
        "  for j in range(1,i+1):\n",
        "    print('*',end='')\n",
        "  print()\n"
      ],
      "metadata": {
        "colab": {
          "base_uri": "https://localhost:8080/"
        },
        "id": "exQMnIoC_Zv2",
        "outputId": "a1bf2981-a48d-4bb2-ab9a-6ee7821c7793"
      },
      "execution_count": 43,
      "outputs": [
        {
          "output_type": "stream",
          "name": "stdout",
          "text": [
            "enter number of rows4\n",
            "*\n",
            "**\n",
            "***\n",
            "****\n"
          ]
        }
      ]
    },
    {
      "cell_type": "markdown",
      "source": [
        "### Pattern 2\n",
        "\n",
        "1<br>\n",
        "121<br>\n",
        "12321<br>\n",
        "1234321<br>"
      ],
      "metadata": {
        "id": "OxXDih5R_0uB"
      }
    },
    {
      "cell_type": "code",
      "source": [
        "# Code here\n",
        "rows = int(input('enter number of rows'))\n",
        "\n",
        "for i in range(1,rows+1):\n",
        "  for j in range(1,i+1):\n",
        "    print(j,end='')\n",
        "  for k in range(i-1,0,-1):\n",
        "    print(k,end='')\n",
        "\n",
        "  print()\n"
      ],
      "metadata": {
        "colab": {
          "base_uri": "https://localhost:8080/"
        },
        "id": "x8rGo4KM_Y-j",
        "outputId": "ba30570c-b6d4-47c5-c05a-953278176f75"
      },
      "execution_count": 44,
      "outputs": [
        {
          "output_type": "stream",
          "name": "stdout",
          "text": [
            "enter number of rows4\n",
            "1\n",
            "121\n",
            "12321\n",
            "1234321\n"
          ]
        }
      ]
    },
    {
      "cell_type": "markdown",
      "source": [
        "# Loop Control Statement\n",
        "\n",
        "- Break\n",
        "- Continue\n",
        "- Pass"
      ],
      "metadata": {
        "id": "oFemwQBw_8Q1"
      }
    },
    {
      "cell_type": "code",
      "source": [
        "for i in range(1,10):\n",
        "  if i == 5:\n",
        "    break\n",
        "  print(i)"
      ],
      "metadata": {
        "colab": {
          "base_uri": "https://localhost:8080/"
        },
        "id": "9NNS6bDL_82u",
        "outputId": "29444687-d836-4a17-dd9f-6666420136ef"
      },
      "execution_count": 45,
      "outputs": [
        {
          "output_type": "stream",
          "name": "stdout",
          "text": [
            "1\n",
            "2\n",
            "3\n",
            "4\n"
          ]
        }
      ]
    },
    {
      "cell_type": "code",
      "source": [
        "lower = int(input('enter lower range'))\n",
        "upper = int(input('enter upper range'))\n",
        "\n",
        "for i in range(lower,upper+1):\n",
        "  for j in range(2,i):\n",
        "    if i%j == 0:\n",
        "      break\n",
        "  else:\n",
        "    print(i)"
      ],
      "metadata": {
        "colab": {
          "base_uri": "https://localhost:8080/"
        },
        "id": "voBWY0VC9bxW",
        "outputId": "739506eb-881a-46df-dc62-adf9df717498"
      },
      "execution_count": 46,
      "outputs": [
        {
          "name": "stdout",
          "output_type": "stream",
          "text": [
            "enter lower range100\n",
            "enter upper range10\n"
          ]
        }
      ]
    },
    {
      "cell_type": "code",
      "source": [
        "# Continue\n",
        "for i in range(1,10):\n",
        "  if i == 5:\n",
        "    continue\n",
        "  print(i)"
      ],
      "metadata": {
        "colab": {
          "base_uri": "https://localhost:8080/"
        },
        "id": "QPwyXdT09b2K",
        "outputId": "19847d5c-ca19-4a83-8b38-cb43b7899c8a"
      },
      "execution_count": 47,
      "outputs": [
        {
          "output_type": "stream",
          "name": "stdout",
          "text": [
            "1\n",
            "2\n",
            "3\n",
            "4\n",
            "6\n",
            "7\n",
            "8\n",
            "9\n"
          ]
        }
      ]
    },
    {
      "cell_type": "code",
      "source": [
        "for i in range(1,10):\n",
        "  pass\n"
      ],
      "metadata": {
        "id": "c_kqggLg9b_i"
      },
      "execution_count": 48,
      "outputs": []
    },
    {
      "cell_type": "markdown",
      "source": [
        "## Creating Stings"
      ],
      "metadata": {
        "id": "i75VO5hxL_4K"
      }
    },
    {
      "cell_type": "code",
      "source": [
        "s = 'hello'\n",
        "s = \"hello\"\n",
        "# multiline strings\n",
        "s = '''hello'''\n",
        "s = \"\"\"hello\"\"\"\n",
        "s = str('hello')\n",
        "print(s)"
      ],
      "metadata": {
        "colab": {
          "base_uri": "https://localhost:8080/"
        },
        "id": "FqMi90xxLotH",
        "outputId": "5ea9d2fb-b005-4d0f-cae2-fc4c31be407c"
      },
      "execution_count": 49,
      "outputs": [
        {
          "output_type": "stream",
          "name": "stdout",
          "text": [
            "hello\n"
          ]
        }
      ]
    },
    {
      "cell_type": "code",
      "source": [
        "\"it's raining outside\""
      ],
      "metadata": {
        "colab": {
          "base_uri": "https://localhost:8080/",
          "height": 35
        },
        "id": "NUEqGB84C1Vs",
        "outputId": "acad077f-337d-497a-e941-333c8b1d01a3"
      },
      "execution_count": 50,
      "outputs": [
        {
          "output_type": "execute_result",
          "data": {
            "text/plain": [
              "\"it's raining outside\""
            ],
            "application/vnd.google.colaboratory.intrinsic+json": {
              "type": "string"
            }
          },
          "metadata": {},
          "execution_count": 50
        }
      ]
    },
    {
      "cell_type": "markdown",
      "source": [
        "## Accessing Substrings from a String"
      ],
      "metadata": {
        "id": "24fOWaO_MCtn"
      }
    },
    {
      "cell_type": "code",
      "source": [
        "# Positive Indexing\n",
        "s = 'hello world'\n",
        "# print(s[41]) IndexError: string index out of range\n"
      ],
      "metadata": {
        "id": "es8p3f7FMGP1"
      },
      "execution_count": 51,
      "outputs": []
    },
    {
      "cell_type": "code",
      "source": [
        "# Negative Indexing\n",
        "s = 'hello world'\n",
        "print(s[-3])"
      ],
      "metadata": {
        "colab": {
          "base_uri": "https://localhost:8080/"
        },
        "id": "_rdwDbNYD-lY",
        "outputId": "4f449d1d-5fe6-4e95-ef04-e699d3f41975"
      },
      "execution_count": 52,
      "outputs": [
        {
          "output_type": "stream",
          "name": "stdout",
          "text": [
            "r\n"
          ]
        }
      ]
    },
    {
      "cell_type": "code",
      "source": [
        "# Slicing\n",
        "s = 'hello world'\n",
        "print(s[6:0:-2])"
      ],
      "metadata": {
        "colab": {
          "base_uri": "https://localhost:8080/"
        },
        "id": "qWGgcTHpEcSC",
        "outputId": "02f5e692-fd93-4b59-b706-e045c27f1329"
      },
      "execution_count": 53,
      "outputs": [
        {
          "output_type": "stream",
          "name": "stdout",
          "text": [
            "wol\n"
          ]
        }
      ]
    },
    {
      "cell_type": "code",
      "source": [
        "print(s[::-1])"
      ],
      "metadata": {
        "colab": {
          "base_uri": "https://localhost:8080/"
        },
        "id": "j8LMvRsRFr1S",
        "outputId": "1e860aed-40c5-4ec2-c053-929cdff58f33"
      },
      "execution_count": 54,
      "outputs": [
        {
          "output_type": "stream",
          "name": "stdout",
          "text": [
            "dlrow olleh\n"
          ]
        }
      ]
    },
    {
      "cell_type": "code",
      "source": [
        "s = 'hello world'\n",
        "print(s[-1:-6:-1])"
      ],
      "metadata": {
        "colab": {
          "base_uri": "https://localhost:8080/"
        },
        "id": "R06YO68eF0BU",
        "outputId": "36373e90-62df-44b8-db02-47f0bbd09349"
      },
      "execution_count": 55,
      "outputs": [
        {
          "output_type": "stream",
          "name": "stdout",
          "text": [
            "dlrow\n"
          ]
        }
      ]
    },
    {
      "cell_type": "markdown",
      "source": [
        "## Editing and Deleting in Strings"
      ],
      "metadata": {
        "id": "g2VqMYWqMJSU"
      }
    },
    {
      "cell_type": "code",
      "source": [
        "s = 'hello world'\n",
        "# s[0] = 'H'\n",
        "\n",
        "# Python strings are immutable"
      ],
      "metadata": {
        "id": "j_jPqHHyMKGK"
      },
      "execution_count": 56,
      "outputs": []
    },
    {
      "cell_type": "code",
      "source": [
        "s = 'hello world'\n",
        "del s\n",
        "# print(s)"
      ],
      "metadata": {
        "id": "rF-XM6IOG8-0"
      },
      "execution_count": 57,
      "outputs": []
    },
    {
      "cell_type": "code",
      "source": [
        "s = 'hello world'\n",
        "#str' object does not support item deletion\n",
        "\n",
        "# del s[-1:-5:2]\n",
        "print(s)"
      ],
      "metadata": {
        "colab": {
          "base_uri": "https://localhost:8080/"
        },
        "id": "p72F5KruHO6x",
        "outputId": "15f086ae-cda4-466f-8e68-d92518be8901"
      },
      "execution_count": 58,
      "outputs": [
        {
          "output_type": "stream",
          "name": "stdout",
          "text": [
            "hello world\n"
          ]
        }
      ]
    },
    {
      "cell_type": "markdown",
      "source": [
        "## Operations on Strings\n",
        "\n",
        "- Arithmetic Operations\n",
        "- Relational Operations\n",
        "- Logical Operations\n",
        "- Loops on Strings\n",
        "- Membership Operations"
      ],
      "metadata": {
        "id": "6icAp0UvMKsh"
      }
    },
    {
      "cell_type": "code",
      "source": [
        "print('delhi' + ' ' + 'mumbai')"
      ],
      "metadata": {
        "colab": {
          "base_uri": "https://localhost:8080/"
        },
        "id": "37rbhwLAMSt9",
        "outputId": "669c7644-33e7-4772-ee50-455f185e58d3"
      },
      "execution_count": 59,
      "outputs": [
        {
          "output_type": "stream",
          "name": "stdout",
          "text": [
            "delhi mumbai\n"
          ]
        }
      ]
    },
    {
      "cell_type": "code",
      "source": [
        "print('delhi'*5)"
      ],
      "metadata": {
        "colab": {
          "base_uri": "https://localhost:8080/"
        },
        "id": "cnTYYnv9HsIc",
        "outputId": "df4b118e-e1c7-4f5d-f1e3-f05d96e72555"
      },
      "execution_count": 60,
      "outputs": [
        {
          "output_type": "stream",
          "name": "stdout",
          "text": [
            "delhidelhidelhidelhidelhi\n"
          ]
        }
      ]
    },
    {
      "cell_type": "code",
      "source": [
        "print(\"*\"*50)"
      ],
      "metadata": {
        "colab": {
          "base_uri": "https://localhost:8080/"
        },
        "id": "OJM0LcTcHsQB",
        "outputId": "8f7471f0-2c0e-4f5c-89ea-42d0337a8cc0"
      },
      "execution_count": 61,
      "outputs": [
        {
          "output_type": "stream",
          "name": "stdout",
          "text": [
            "**************************************************\n"
          ]
        }
      ]
    },
    {
      "cell_type": "code",
      "source": [
        "'delhi' != 'delhi'"
      ],
      "metadata": {
        "colab": {
          "base_uri": "https://localhost:8080/"
        },
        "id": "d5wx8XKeHsWP",
        "outputId": "77d2aba4-5119-4a31-9934-6bd397a69a59"
      },
      "execution_count": 62,
      "outputs": [
        {
          "output_type": "execute_result",
          "data": {
            "text/plain": [
              "False"
            ]
          },
          "metadata": {},
          "execution_count": 62
        }
      ]
    },
    {
      "cell_type": "code",
      "source": [
        "'mumbai' > 'pune'\n",
        "# lexiographically"
      ],
      "metadata": {
        "colab": {
          "base_uri": "https://localhost:8080/"
        },
        "id": "G3byoyLNHsmo",
        "outputId": "dca5fcd4-04b0-45f0-bf4b-7d753af4fe1d"
      },
      "execution_count": 63,
      "outputs": [
        {
          "output_type": "execute_result",
          "data": {
            "text/plain": [
              "False"
            ]
          },
          "metadata": {},
          "execution_count": 63
        }
      ]
    },
    {
      "cell_type": "code",
      "source": [
        "'Pune' > 'pune'"
      ],
      "metadata": {
        "colab": {
          "base_uri": "https://localhost:8080/"
        },
        "id": "qtZ0Zm-HHsry",
        "outputId": "6e41fcd6-33ee-4936-a4cd-d94518fd1a34"
      },
      "execution_count": 64,
      "outputs": [
        {
          "output_type": "execute_result",
          "data": {
            "text/plain": [
              "False"
            ]
          },
          "metadata": {},
          "execution_count": 64
        }
      ]
    },
    {
      "cell_type": "code",
      "source": [
        "'hello' and 'world'"
      ],
      "metadata": {
        "colab": {
          "base_uri": "https://localhost:8080/",
          "height": 35
        },
        "id": "pRj_nS6kHs00",
        "outputId": "f7cfa096-4892-436c-be72-c9b6fa5f5b58"
      },
      "execution_count": 65,
      "outputs": [
        {
          "output_type": "execute_result",
          "data": {
            "text/plain": [
              "'world'"
            ],
            "application/vnd.google.colaboratory.intrinsic+json": {
              "type": "string"
            }
          },
          "metadata": {},
          "execution_count": 65
        }
      ]
    },
    {
      "cell_type": "code",
      "source": [
        "'hello' or 'world'"
      ],
      "metadata": {
        "colab": {
          "base_uri": "https://localhost:8080/",
          "height": 35
        },
        "id": "KZhBwrGtJEFY",
        "outputId": "fc2af381-7fa6-4d8a-da63-2705b507f8d1"
      },
      "execution_count": 66,
      "outputs": [
        {
          "output_type": "execute_result",
          "data": {
            "text/plain": [
              "'hello'"
            ],
            "application/vnd.google.colaboratory.intrinsic+json": {
              "type": "string"
            }
          },
          "metadata": {},
          "execution_count": 66
        }
      ]
    },
    {
      "cell_type": "code",
      "source": [
        "'' and 'world'"
      ],
      "metadata": {
        "colab": {
          "base_uri": "https://localhost:8080/",
          "height": 35
        },
        "id": "d8W6QmDnJELj",
        "outputId": "b249ca62-3dd8-4a8e-e6eb-7598627285a0"
      },
      "execution_count": 67,
      "outputs": [
        {
          "output_type": "execute_result",
          "data": {
            "text/plain": [
              "''"
            ],
            "application/vnd.google.colaboratory.intrinsic+json": {
              "type": "string"
            }
          },
          "metadata": {},
          "execution_count": 67
        }
      ]
    },
    {
      "cell_type": "code",
      "source": [
        "'' or 'world'"
      ],
      "metadata": {
        "colab": {
          "base_uri": "https://localhost:8080/",
          "height": 35
        },
        "id": "jTsHPpGQJESA",
        "outputId": "8581a5c5-0055-4868-d72f-de97edb6be9b"
      },
      "execution_count": 68,
      "outputs": [
        {
          "output_type": "execute_result",
          "data": {
            "text/plain": [
              "'world'"
            ],
            "application/vnd.google.colaboratory.intrinsic+json": {
              "type": "string"
            }
          },
          "metadata": {},
          "execution_count": 68
        }
      ]
    },
    {
      "cell_type": "code",
      "source": [
        "'hello' or 'world'"
      ],
      "metadata": {
        "colab": {
          "base_uri": "https://localhost:8080/",
          "height": 35
        },
        "id": "BvwdDf4PJmnz",
        "outputId": "24fb8603-c109-40fa-9305-daabc14fe335"
      },
      "execution_count": 69,
      "outputs": [
        {
          "output_type": "execute_result",
          "data": {
            "text/plain": [
              "'hello'"
            ],
            "application/vnd.google.colaboratory.intrinsic+json": {
              "type": "string"
            }
          },
          "metadata": {},
          "execution_count": 69
        }
      ]
    },
    {
      "cell_type": "code",
      "source": [
        "'hello' and 'world'"
      ],
      "metadata": {
        "colab": {
          "base_uri": "https://localhost:8080/",
          "height": 35
        },
        "id": "pTRQabdQJnnV",
        "outputId": "a8d5188b-fecb-412e-f3df-6c5551bfe86d"
      },
      "execution_count": 70,
      "outputs": [
        {
          "output_type": "execute_result",
          "data": {
            "text/plain": [
              "'world'"
            ],
            "application/vnd.google.colaboratory.intrinsic+json": {
              "type": "string"
            }
          },
          "metadata": {},
          "execution_count": 70
        }
      ]
    },
    {
      "cell_type": "code",
      "source": [
        "not 'hello'"
      ],
      "metadata": {
        "colab": {
          "base_uri": "https://localhost:8080/"
        },
        "id": "jrf62do3J4VD",
        "outputId": "e4aaa8f3-1238-4f9f-bb72-461cb14b3466"
      },
      "execution_count": 71,
      "outputs": [
        {
          "output_type": "execute_result",
          "data": {
            "text/plain": [
              "False"
            ]
          },
          "metadata": {},
          "execution_count": 71
        }
      ]
    },
    {
      "cell_type": "code",
      "source": [
        "for i in 'hello':\n",
        "  print(i)"
      ],
      "metadata": {
        "colab": {
          "base_uri": "https://localhost:8080/"
        },
        "id": "i64jefPQKRtR",
        "outputId": "cf8c7793-2f92-40f5-dc7f-03a5e4000852"
      },
      "execution_count": 72,
      "outputs": [
        {
          "output_type": "stream",
          "name": "stdout",
          "text": [
            "h\n",
            "e\n",
            "l\n",
            "l\n",
            "o\n"
          ]
        }
      ]
    },
    {
      "cell_type": "code",
      "source": [
        "for i in 'delhi':\n",
        "  print('pune')"
      ],
      "metadata": {
        "colab": {
          "base_uri": "https://localhost:8080/"
        },
        "id": "REKYlAzhKRzC",
        "outputId": "637ebf59-f355-47ca-db20-382c2c8bd97d"
      },
      "execution_count": 73,
      "outputs": [
        {
          "output_type": "stream",
          "name": "stdout",
          "text": [
            "pune\n",
            "pune\n",
            "pune\n",
            "pune\n",
            "pune\n"
          ]
        }
      ]
    },
    {
      "cell_type": "code",
      "source": [
        "'D' in 'delhi'"
      ],
      "metadata": {
        "colab": {
          "base_uri": "https://localhost:8080/"
        },
        "id": "iaiPu9JKKR5K",
        "outputId": "714510ce-cbd2-4fc2-efe4-1662b503c7ff"
      },
      "execution_count": 74,
      "outputs": [
        {
          "output_type": "execute_result",
          "data": {
            "text/plain": [
              "False"
            ]
          },
          "metadata": {},
          "execution_count": 74
        }
      ]
    },
    {
      "cell_type": "markdown",
      "source": [
        "## Common Functions\n",
        "- len\n",
        "- max\n",
        "- min\n",
        "- sorted"
      ],
      "metadata": {
        "id": "dE_jTrX5MYSV"
      }
    },
    {
      "cell_type": "code",
      "source": [
        "len('hello world')"
      ],
      "metadata": {
        "colab": {
          "base_uri": "https://localhost:8080/"
        },
        "id": "mIm1rHvIMcZ6",
        "outputId": "4f7f2e72-358a-4da3-ac37-776609eb33d7"
      },
      "execution_count": 75,
      "outputs": [
        {
          "output_type": "execute_result",
          "data": {
            "text/plain": [
              "11"
            ]
          },
          "metadata": {},
          "execution_count": 75
        }
      ]
    },
    {
      "cell_type": "code",
      "source": [
        "max('hello world')"
      ],
      "metadata": {
        "colab": {
          "base_uri": "https://localhost:8080/",
          "height": 35
        },
        "id": "kVpxwx3KLUlO",
        "outputId": "d285b9bc-788a-4a14-e084-9386a7991b07"
      },
      "execution_count": 76,
      "outputs": [
        {
          "output_type": "execute_result",
          "data": {
            "text/plain": [
              "'w'"
            ],
            "application/vnd.google.colaboratory.intrinsic+json": {
              "type": "string"
            }
          },
          "metadata": {},
          "execution_count": 76
        }
      ]
    },
    {
      "cell_type": "code",
      "source": [
        "min('hello world')"
      ],
      "metadata": {
        "colab": {
          "base_uri": "https://localhost:8080/",
          "height": 35
        },
        "id": "bWDAwg6TLUt-",
        "outputId": "40ef8ca0-c3b5-4785-b73a-fb8f75841dfb"
      },
      "execution_count": 77,
      "outputs": [
        {
          "output_type": "execute_result",
          "data": {
            "text/plain": [
              "' '"
            ],
            "application/vnd.google.colaboratory.intrinsic+json": {
              "type": "string"
            }
          },
          "metadata": {},
          "execution_count": 77
        }
      ]
    },
    {
      "cell_type": "code",
      "source": [
        "sorted('hello world',reverse=True)"
      ],
      "metadata": {
        "colab": {
          "base_uri": "https://localhost:8080/"
        },
        "id": "Z2dgEqi7LU1A",
        "outputId": "8cad2b6e-2e44-478e-e5f9-092a156b2871"
      },
      "execution_count": 78,
      "outputs": [
        {
          "output_type": "execute_result",
          "data": {
            "text/plain": [
              "['w', 'r', 'o', 'o', 'l', 'l', 'l', 'h', 'e', 'd', ' ']"
            ]
          },
          "metadata": {},
          "execution_count": 78
        }
      ]
    },
    {
      "cell_type": "markdown",
      "source": [
        "## Capitalize/Title/Upper/Lower/Swapcase"
      ],
      "metadata": {
        "id": "yHlmb_KxMf6f"
      }
    },
    {
      "cell_type": "code",
      "source": [
        "s = 'hello world'\n",
        "print(s.capitalize())\n",
        "print(s)"
      ],
      "metadata": {
        "colab": {
          "base_uri": "https://localhost:8080/"
        },
        "id": "Ycqnmb-HMgyz",
        "outputId": "97ee2a41-58c4-407c-9824-d4cc6758424a"
      },
      "execution_count": 79,
      "outputs": [
        {
          "output_type": "stream",
          "name": "stdout",
          "text": [
            "Hello world\n",
            "hello world\n"
          ]
        }
      ]
    },
    {
      "cell_type": "code",
      "source": [
        "s.title()"
      ],
      "metadata": {
        "colab": {
          "base_uri": "https://localhost:8080/",
          "height": 35
        },
        "id": "KIBQhMj6L1iK",
        "outputId": "f9a87a9f-9914-4c42-876d-20270c143acf"
      },
      "execution_count": 80,
      "outputs": [
        {
          "output_type": "execute_result",
          "data": {
            "text/plain": [
              "'Hello World'"
            ],
            "application/vnd.google.colaboratory.intrinsic+json": {
              "type": "string"
            }
          },
          "metadata": {},
          "execution_count": 80
        }
      ]
    },
    {
      "cell_type": "code",
      "source": [
        "s.upper()"
      ],
      "metadata": {
        "colab": {
          "base_uri": "https://localhost:8080/",
          "height": 35
        },
        "id": "TPo-CYKWL25K",
        "outputId": "739adf34-f0fb-4306-eb23-2b636a332acb"
      },
      "execution_count": 81,
      "outputs": [
        {
          "output_type": "execute_result",
          "data": {
            "text/plain": [
              "'HELLO WORLD'"
            ],
            "application/vnd.google.colaboratory.intrinsic+json": {
              "type": "string"
            }
          },
          "metadata": {},
          "execution_count": 81
        }
      ]
    },
    {
      "cell_type": "code",
      "source": [
        "'Hello Wolrd'.lower()"
      ],
      "metadata": {
        "colab": {
          "base_uri": "https://localhost:8080/",
          "height": 35
        },
        "id": "8ghClhVBL4Ed",
        "outputId": "4e06bc03-85ed-4c50-f48d-92b7e8d6b055"
      },
      "execution_count": 82,
      "outputs": [
        {
          "output_type": "execute_result",
          "data": {
            "text/plain": [
              "'hello wolrd'"
            ],
            "application/vnd.google.colaboratory.intrinsic+json": {
              "type": "string"
            }
          },
          "metadata": {},
          "execution_count": 82
        }
      ]
    },
    {
      "cell_type": "code",
      "source": [
        "'HeLlO WorLD'.swapcase()"
      ],
      "metadata": {
        "colab": {
          "base_uri": "https://localhost:8080/",
          "height": 35
        },
        "id": "Ac6I82JdL4bD",
        "outputId": "be1cd7c8-abda-4b09-c342-7b1607d4a735"
      },
      "execution_count": 83,
      "outputs": [
        {
          "output_type": "execute_result",
          "data": {
            "text/plain": [
              "'hElLo wORld'"
            ],
            "application/vnd.google.colaboratory.intrinsic+json": {
              "type": "string"
            }
          },
          "metadata": {},
          "execution_count": 83
        }
      ]
    },
    {
      "cell_type": "markdown",
      "source": [
        "## Count/Find/Index"
      ],
      "metadata": {
        "id": "3iq5s2cnMhkE"
      }
    },
    {
      "cell_type": "code",
      "source": [
        "'my name is nadir'.count('i')"
      ],
      "metadata": {
        "colab": {
          "base_uri": "https://localhost:8080/"
        },
        "id": "puAH2DgBMmNd",
        "outputId": "9ceb5629-ba00-4ee8-b6a2-37a4fa7b35b0"
      },
      "execution_count": 87,
      "outputs": [
        {
          "output_type": "execute_result",
          "data": {
            "text/plain": [
              "2"
            ]
          },
          "metadata": {},
          "execution_count": 87
        }
      ]
    },
    {
      "cell_type": "code",
      "source": [
        "'my name is nadir'.find('x')"
      ],
      "metadata": {
        "colab": {
          "base_uri": "https://localhost:8080/"
        },
        "id": "KK5lf-TyMbCR",
        "outputId": "8c592a28-8761-4f16-dd51-64f8b2b4df18"
      },
      "execution_count": 88,
      "outputs": [
        {
          "output_type": "execute_result",
          "data": {
            "text/plain": [
              "-1"
            ]
          },
          "metadata": {},
          "execution_count": 88
        }
      ]
    },
    {
      "cell_type": "markdown",
      "source": [
        "## endswith/startswith"
      ],
      "metadata": {
        "id": "MrsT5bJuMmqs"
      }
    },
    {
      "cell_type": "code",
      "source": [
        "'my name is nadir'.endswith('ir')"
      ],
      "metadata": {
        "colab": {
          "base_uri": "https://localhost:8080/"
        },
        "id": "TbyYTHMxMpbZ",
        "outputId": "599d2a0a-8429-4bbd-c8ba-50d948d4b3bb"
      },
      "execution_count": 89,
      "outputs": [
        {
          "output_type": "execute_result",
          "data": {
            "text/plain": [
              "True"
            ]
          },
          "metadata": {},
          "execution_count": 89
        }
      ]
    },
    {
      "cell_type": "code",
      "source": [
        "'my name is nadir'.startswith('na')"
      ],
      "metadata": {
        "colab": {
          "base_uri": "https://localhost:8080/"
        },
        "id": "gpR1WiKEM8Am",
        "outputId": "3cc6fea7-5098-4fcb-f57f-77511fe1523b"
      },
      "execution_count": 90,
      "outputs": [
        {
          "output_type": "execute_result",
          "data": {
            "text/plain": [
              "False"
            ]
          },
          "metadata": {},
          "execution_count": 90
        }
      ]
    },
    {
      "cell_type": "markdown",
      "source": [
        "## format"
      ],
      "metadata": {
        "id": "0A9eNV0YMqHg"
      }
    },
    {
      "cell_type": "code",
      "source": [
        "name = 'nadir'\n",
        "gender = 'male'\n",
        "\n",
        "'Hi my name is {1} and I am a {0}'.format(gender,name)"
      ],
      "metadata": {
        "colab": {
          "base_uri": "https://localhost:8080/",
          "height": 35
        },
        "id": "p9zAoUNjMtAC",
        "outputId": "96283aff-fc4e-43e7-af77-3f7b979b2500"
      },
      "execution_count": 92,
      "outputs": [
        {
          "output_type": "execute_result",
          "data": {
            "text/plain": [
              "'Hi my name is nadir and I am a male'"
            ],
            "application/vnd.google.colaboratory.intrinsic+json": {
              "type": "string"
            }
          },
          "metadata": {},
          "execution_count": 92
        }
      ]
    },
    {
      "cell_type": "markdown",
      "source": [
        "## isalnum/ isalpha/ isdigit/ isidentifier"
      ],
      "metadata": {
        "id": "vKc81z_fMvIn"
      }
    },
    {
      "cell_type": "markdown",
      "source": [
        "## Split/Join"
      ],
      "metadata": {
        "id": "CkR9E0ywMyPE"
      }
    },
    {
      "cell_type": "code",
      "source": [
        "'hi my name is nadir'.split()"
      ],
      "metadata": {
        "colab": {
          "base_uri": "https://localhost:8080/"
        },
        "id": "82_UJMr7M0VC",
        "outputId": "1ed6b123-8c3c-4ac4-a10b-1c24d325d2de"
      },
      "execution_count": 93,
      "outputs": [
        {
          "output_type": "execute_result",
          "data": {
            "text/plain": [
              "['hi', 'my', 'name', 'is', 'nadir']"
            ]
          },
          "metadata": {},
          "execution_count": 93
        }
      ]
    },
    {
      "cell_type": "code",
      "source": [
        "\" \".join(['hi', 'my', 'name', 'is', 'nitish'])"
      ],
      "metadata": {
        "colab": {
          "base_uri": "https://localhost:8080/",
          "height": 35
        },
        "id": "OmLemRVTO2Qq",
        "outputId": "4935e7ef-6bfd-4fe8-8299-91e3a4a752de"
      },
      "execution_count": 94,
      "outputs": [
        {
          "output_type": "execute_result",
          "data": {
            "text/plain": [
              "'hi my name is nitish'"
            ],
            "application/vnd.google.colaboratory.intrinsic+json": {
              "type": "string"
            }
          },
          "metadata": {},
          "execution_count": 94
        }
      ]
    },
    {
      "cell_type": "markdown",
      "source": [
        "## Replace"
      ],
      "metadata": {
        "id": "30p7nlw_M4M1"
      }
    },
    {
      "cell_type": "code",
      "source": [
        "'hi my name is nadir'.replace('nadir','campusx')"
      ],
      "metadata": {
        "colab": {
          "base_uri": "https://localhost:8080/",
          "height": 35
        },
        "id": "vuobYzSTM5F-",
        "outputId": "372d16d6-5edb-4011-90f2-37f0d00b6a9d"
      },
      "execution_count": 95,
      "outputs": [
        {
          "output_type": "execute_result",
          "data": {
            "text/plain": [
              "'hi my name is campusx'"
            ],
            "application/vnd.google.colaboratory.intrinsic+json": {
              "type": "string"
            }
          },
          "metadata": {},
          "execution_count": 95
        }
      ]
    },
    {
      "cell_type": "markdown",
      "source": [
        "## Strip"
      ],
      "metadata": {
        "id": "YqdGvSgFM5hW"
      }
    },
    {
      "cell_type": "code",
      "source": [
        "'nitish                           '.strip()"
      ],
      "metadata": {
        "colab": {
          "base_uri": "https://localhost:8080/",
          "height": 35
        },
        "id": "AkWgOFpPM6wq",
        "outputId": "a940ee42-2e7f-497f-b6b6-e61bf02bc757"
      },
      "execution_count": 96,
      "outputs": [
        {
          "output_type": "execute_result",
          "data": {
            "text/plain": [
              "'nitish'"
            ],
            "application/vnd.google.colaboratory.intrinsic+json": {
              "type": "string"
            }
          },
          "metadata": {},
          "execution_count": 96
        }
      ]
    },
    {
      "cell_type": "markdown",
      "source": [
        "## Example Programs"
      ],
      "metadata": {
        "id": "YvVCKvEhNhie"
      }
    },
    {
      "cell_type": "code",
      "source": [
        "# Find the length of a given string without using the len() function\n",
        "\n",
        "s = input('enter the string')\n",
        "\n",
        "counter = 0\n",
        "\n",
        "for i in s:\n",
        "  counter += 1\n",
        "\n",
        "print('length of string is',counter)"
      ],
      "metadata": {
        "id": "KKEdMynlM-_F",
        "colab": {
          "base_uri": "https://localhost:8080/"
        },
        "outputId": "05739282-2f4e-4c5d-8c41-c2750bbec8dd"
      },
      "execution_count": 97,
      "outputs": [
        {
          "output_type": "stream",
          "name": "stdout",
          "text": [
            "enter the stringnadir\n",
            "length of string is 5\n"
          ]
        }
      ]
    },
    {
      "cell_type": "code",
      "source": [
        "\n",
        "s = input('enter the email')\n",
        "\n",
        "pos = s.index('@')\n",
        "print(s[0:pos])\n",
        "\n"
      ],
      "metadata": {
        "id": "2Db_x3upNzFo",
        "colab": {
          "base_uri": "https://localhost:8080/"
        },
        "outputId": "61314916-dc11-4342-a5bf-116196619bb1"
      },
      "execution_count": 98,
      "outputs": [
        {
          "output_type": "stream",
          "name": "stdout",
          "text": [
            "enter the emailnadir@gmail.com\n",
            "nadir\n"
          ]
        }
      ]
    }
  ]
}