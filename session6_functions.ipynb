{
  "nbformat": 4,
  "nbformat_minor": 0,
  "metadata": {
    "colab": {
      "provenance": []
    },
    "kernelspec": {
      "name": "python3",
      "display_name": "Python 3"
    },
    "language_info": {
      "name": "python"
    }
  },
  "cells": [
    {
      "cell_type": "code",
      "source": [
        "def is_even(num):\n",
        "\n",
        "  if type(num) == int:\n",
        "    if num % 2 == 0:\n",
        "      return 'even'\n",
        "    else:\n",
        "      return 'odd'\n",
        "  else:\n",
        "    return 'pagal hai kya?'"
      ],
      "metadata": {
        "id": "QaM36i9Q-yR9"
      },
      "execution_count": 1,
      "outputs": []
    },
    {
      "cell_type": "code",
      "source": [
        "# function\n",
        "# function_name(input)\n",
        "for i in range(1,11):\n",
        "  x = is_even(i)\n",
        "  print(x)"
      ],
      "metadata": {
        "colab": {
          "base_uri": "https://localhost:8080/"
        },
        "id": "Qn3xFuzq5Yp-",
        "outputId": "0b60ae1c-6fd7-4055-e1fe-bf9b8167d740"
      },
      "execution_count": 2,
      "outputs": [
        {
          "output_type": "stream",
          "name": "stdout",
          "text": [
            "odd\n",
            "even\n",
            "odd\n",
            "even\n",
            "odd\n",
            "even\n",
            "odd\n",
            "even\n",
            "odd\n",
            "even\n"
          ]
        }
      ]
    },
    {
      "cell_type": "code",
      "source": [
        "print(type.__doc__)"
      ],
      "metadata": {
        "colab": {
          "base_uri": "https://localhost:8080/"
        },
        "id": "Arh0ADgy_lNe",
        "outputId": "2ee0476f-ef90-4710-f8a0-07862fdc6718"
      },
      "execution_count": 3,
      "outputs": [
        {
          "output_type": "stream",
          "name": "stdout",
          "text": [
            "type(object) -> the object's type\n",
            "type(name, bases, dict, **kwds) -> a new type\n"
          ]
        }
      ]
    },
    {
      "cell_type": "markdown",
      "source": [
        "### 2 Point of views"
      ],
      "metadata": {
        "id": "W7o_w1q7-1Xl"
      }
    },
    {
      "cell_type": "code",
      "source": [
        "is_even('hello')"
      ],
      "metadata": {
        "colab": {
          "base_uri": "https://localhost:8080/",
          "height": 35
        },
        "id": "wAHFlOaZ-3EV",
        "outputId": "85c04256-3ec6-4651-ce12-c831ba0e8e3a"
      },
      "execution_count": 4,
      "outputs": [
        {
          "output_type": "execute_result",
          "data": {
            "text/plain": [
              "'pagal hai kya?'"
            ],
            "application/vnd.google.colaboratory.intrinsic+json": {
              "type": "string"
            }
          },
          "metadata": {},
          "execution_count": 4
        }
      ]
    },
    {
      "cell_type": "markdown",
      "source": [
        "### Parameters Vs Arguments"
      ],
      "metadata": {
        "id": "f3cIuikR-52f"
      }
    },
    {
      "cell_type": "markdown",
      "source": [
        "### Types of Arguments\n",
        "\n",
        "- Default Argument\n",
        "- Positional Argument\n",
        "- Keyword Argument"
      ],
      "metadata": {
        "id": "6hOt68rR-84k"
      }
    },
    {
      "cell_type": "code",
      "source": [
        "def power(a=1,b=1):\n",
        "  return a**b"
      ],
      "metadata": {
        "id": "9hmqV3-e-8HU"
      },
      "execution_count": 5,
      "outputs": []
    },
    {
      "cell_type": "code",
      "source": [
        "power()"
      ],
      "metadata": {
        "colab": {
          "base_uri": "https://localhost:8080/"
        },
        "id": "S68PRXil_LjW",
        "outputId": "bc659b60-572a-4613-cf3a-1fc6bbcda7a5"
      },
      "execution_count": 6,
      "outputs": [
        {
          "output_type": "execute_result",
          "data": {
            "text/plain": [
              "1"
            ]
          },
          "metadata": {},
          "execution_count": 6
        }
      ]
    },
    {
      "cell_type": "code",
      "source": [
        "# positional argument\n",
        "power(2,3)"
      ],
      "metadata": {
        "colab": {
          "base_uri": "https://localhost:8080/"
        },
        "id": "pgPxz-57_Ltw",
        "outputId": "a6aacb14-3d01-4e35-ec91-b9dc3f50d052"
      },
      "execution_count": 7,
      "outputs": [
        {
          "output_type": "execute_result",
          "data": {
            "text/plain": [
              "8"
            ]
          },
          "metadata": {},
          "execution_count": 7
        }
      ]
    },
    {
      "cell_type": "code",
      "source": [
        "# keyword argument\n",
        "power(b=3,a=2)"
      ],
      "metadata": {
        "colab": {
          "base_uri": "https://localhost:8080/"
        },
        "id": "lGdofKL981pz",
        "outputId": "4710d32d-2daf-4c6d-f301-cc242472a40e"
      },
      "execution_count": 8,
      "outputs": [
        {
          "output_type": "execute_result",
          "data": {
            "text/plain": [
              "8"
            ]
          },
          "metadata": {},
          "execution_count": 8
        }
      ]
    },
    {
      "cell_type": "markdown",
      "source": [
        "### `*args and **kwargs`\n",
        "`*args and **kwargs` are special Python keywords that are used to pass the variable length of arguments to a function"
      ],
      "metadata": {
        "id": "ynO59kYKLhGZ"
      }
    },
    {
      "cell_type": "code",
      "source": [
        "# *args\n",
        "# allows us to pass a variable number of non-keyword arguments to a function.\n",
        "\n",
        "def multiply(*kwargs):\n",
        "  product = 1\n",
        "\n",
        "  for i in kwargs:\n",
        "    product = product * i\n",
        "\n",
        "  print(kwargs)\n",
        "  return product"
      ],
      "metadata": {
        "id": "3dcjff8W_L3d"
      },
      "execution_count": 9,
      "outputs": []
    },
    {
      "cell_type": "code",
      "source": [
        "multiply(1,2,3,4,5,6,7,8,9,10,12)"
      ],
      "metadata": {
        "colab": {
          "base_uri": "https://localhost:8080/"
        },
        "id": "8kuaaP0Xk4Oo",
        "outputId": "fe041844-1c29-4bcc-8f03-2da3ed2293b1"
      },
      "execution_count": 10,
      "outputs": [
        {
          "output_type": "stream",
          "name": "stdout",
          "text": [
            "(1, 2, 3, 4, 5, 6, 7, 8, 9, 10, 12)\n"
          ]
        },
        {
          "output_type": "execute_result",
          "data": {
            "text/plain": [
              "43545600"
            ]
          },
          "metadata": {},
          "execution_count": 10
        }
      ]
    },
    {
      "cell_type": "code",
      "source": [
        "# **kwargs\n",
        "# **kwargs allows us to pass any number of keyword arguments.\n",
        "# Keyword arguments mean that they contain a key-value pair, like a Python dictionary.\n",
        "\n",
        "def display(**salman):\n",
        "\n",
        "  for (key,value) in salman.items():\n",
        "    print(key,'->',value)\n"
      ],
      "metadata": {
        "id": "mZuZrciV-I8D"
      },
      "execution_count": 11,
      "outputs": []
    },
    {
      "cell_type": "code",
      "source": [
        "display(india='delhi',srilanka='colombo',nepal='kathmandu',pakistan='islamabad')"
      ],
      "metadata": {
        "colab": {
          "base_uri": "https://localhost:8080/"
        },
        "id": "5uhoZ9jVAbJs",
        "outputId": "fe4ac5e2-5b79-4500-d42e-a2e0ccb2d2fe"
      },
      "execution_count": 12,
      "outputs": [
        {
          "output_type": "stream",
          "name": "stdout",
          "text": [
            "india -> delhi\n",
            "srilanka -> colombo\n",
            "nepal -> kathmandu\n",
            "pakistan -> islamabad\n"
          ]
        }
      ]
    },
    {
      "cell_type": "markdown",
      "source": [
        "##### Points to remember while using `*args and **kwargs`\n",
        "\n",
        "- order of the arguments matter(normal -> `*args` -> `**kwargs`)\n",
        "- The words “args” and “kwargs” are only a convention, you can use any name of your choice\n"
      ],
      "metadata": {
        "id": "zHVEKbPzlJCE"
      }
    },
    {
      "cell_type": "code",
      "source": [],
      "metadata": {
        "id": "g3HKjKtIAaKs"
      },
      "execution_count": 12,
      "outputs": []
    },
    {
      "cell_type": "markdown",
      "source": [
        "### How Functions are executed in memory?"
      ],
      "metadata": {
        "id": "u4ZLj7D1_R59"
      }
    },
    {
      "cell_type": "code",
      "source": [],
      "metadata": {
        "id": "PMt-cW9I_Uy7"
      },
      "execution_count": 12,
      "outputs": []
    },
    {
      "cell_type": "markdown",
      "source": [
        "### Without return statement"
      ],
      "metadata": {
        "id": "PO5paJw0_VfL"
      }
    },
    {
      "cell_type": "code",
      "source": [
        "L = [1,2,3]\n",
        "print(L.append(4))\n",
        "print(L)"
      ],
      "metadata": {
        "colab": {
          "base_uri": "https://localhost:8080/"
        },
        "id": "-7AgrqdT_ZEg",
        "outputId": "b374deb2-6ea4-46c6-ebc9-fa2f1150e36f"
      },
      "execution_count": 13,
      "outputs": [
        {
          "output_type": "stream",
          "name": "stdout",
          "text": [
            "None\n",
            "[1, 2, 3, 4]\n"
          ]
        }
      ]
    },
    {
      "cell_type": "markdown",
      "source": [
        "### Variable Scope"
      ],
      "metadata": {
        "id": "OyixpfDX_ZnV"
      }
    },
    {
      "cell_type": "code",
      "source": [
        "def g(y):\n",
        "    print(x)\n",
        "    print(x+1)\n",
        "x = 5\n",
        "g(x)\n",
        "print(x)"
      ],
      "metadata": {
        "id": "tbe8Wu1u_eyk",
        "colab": {
          "base_uri": "https://localhost:8080/"
        },
        "outputId": "24903bb6-7ace-49cf-fe06-a45ac48329a8"
      },
      "execution_count": 14,
      "outputs": [
        {
          "output_type": "stream",
          "name": "stdout",
          "text": [
            "5\n",
            "6\n",
            "5\n"
          ]
        }
      ]
    },
    {
      "cell_type": "code",
      "source": [
        "def f(y):\n",
        "    x = 1\n",
        "    x += 1\n",
        "    print(x)\n",
        "x = 5\n",
        "f(x)\n",
        "print(x)"
      ],
      "metadata": {
        "id": "anIqcG4cBQ7u",
        "colab": {
          "base_uri": "https://localhost:8080/"
        },
        "outputId": "81251a17-bb36-4c92-bdc7-f8aabd84a2c9"
      },
      "execution_count": 15,
      "outputs": [
        {
          "output_type": "stream",
          "name": "stdout",
          "text": [
            "2\n",
            "5\n"
          ]
        }
      ]
    },
    {
      "cell_type": "code",
      "source": [
        "def f(x):\n",
        "   x = x + 1\n",
        "   print('in f(x): x =', x)\n",
        "   return x\n",
        "\n",
        "x = 3\n",
        "z = f(x)\n",
        "print('in main program scope: z =', z)\n",
        "print('in main program scope: x =', x)"
      ],
      "metadata": {
        "id": "dJo6r53CBoqX",
        "colab": {
          "base_uri": "https://localhost:8080/"
        },
        "outputId": "5e690868-11db-410b-b465-bb88b397e2f8"
      },
      "execution_count": 17,
      "outputs": [
        {
          "output_type": "stream",
          "name": "stdout",
          "text": [
            "in f(x): x = 4\n",
            "in main program scope: z = 4\n",
            "in main program scope: x = 3\n"
          ]
        }
      ]
    },
    {
      "cell_type": "markdown",
      "source": [
        "### Nested Functions"
      ],
      "metadata": {
        "id": "0fs1VLkM_hi7"
      }
    },
    {
      "cell_type": "code",
      "source": [
        "def f():\n",
        "  def g():\n",
        "    print('inside function g')\n",
        "    f()\n",
        "  g()\n",
        "  print('inside function f')"
      ],
      "metadata": {
        "id": "dn7ysudV_jb4"
      },
      "execution_count": 18,
      "outputs": []
    },
    {
      "cell_type": "code",
      "source": [
        "# f()"
      ],
      "metadata": {
        "id": "WyY5JYwVCufe"
      },
      "execution_count": 20,
      "outputs": []
    },
    {
      "cell_type": "code",
      "source": [
        "def g(x):\n",
        "    def h():\n",
        "        x = 'abc'\n",
        "    x = x + 1\n",
        "    print('in g(x): x =', x)\n",
        "    h()\n",
        "    return x\n",
        "\n",
        "x = 3\n",
        "z = g(x)"
      ],
      "metadata": {
        "id": "HIIAwqT9CDsB",
        "colab": {
          "base_uri": "https://localhost:8080/"
        },
        "outputId": "a4fb3708-86e0-43e1-f151-54a4ebf1b048"
      },
      "execution_count": 21,
      "outputs": [
        {
          "output_type": "stream",
          "name": "stdout",
          "text": [
            "in g(x): x = 4\n"
          ]
        }
      ]
    },
    {
      "cell_type": "code",
      "source": [
        "def g(x):\n",
        "    def h(x):\n",
        "        x = x+1\n",
        "        print(\"in h(x): x = \", x)\n",
        "    x = x + 1\n",
        "    print('in g(x): x = ', x)\n",
        "    h(x)\n",
        "    return x\n",
        "\n",
        "x = 3\n",
        "z = g(x)\n",
        "print('in main program scope: x = ', x)\n",
        "print('in main program scope: z = ', z)"
      ],
      "metadata": {
        "id": "C_q8dzhWBu_0",
        "colab": {
          "base_uri": "https://localhost:8080/"
        },
        "outputId": "34e2bfca-4e28-42d3-fc62-dd16d26885d8"
      },
      "execution_count": 22,
      "outputs": [
        {
          "output_type": "stream",
          "name": "stdout",
          "text": [
            "in g(x): x =  4\n",
            "in h(x): x =  5\n",
            "in main program scope: x =  3\n",
            "in main program scope: z =  4\n"
          ]
        }
      ]
    },
    {
      "cell_type": "code",
      "source": [],
      "metadata": {
        "id": "_xnHV-ANB5rp"
      },
      "execution_count": null,
      "outputs": []
    },
    {
      "cell_type": "markdown",
      "source": [
        "### Functions are 1st class citizens"
      ],
      "metadata": {
        "id": "JNR1jzxf_ntS"
      }
    },
    {
      "cell_type": "code",
      "source": [
        "# type and id\n",
        "def square(num):\n",
        "  return num**2\n",
        "\n",
        "type(square)\n",
        "\n",
        "id(square)"
      ],
      "metadata": {
        "colab": {
          "base_uri": "https://localhost:8080/"
        },
        "id": "m7q2wWmB_p_E",
        "outputId": "92742bf4-93f8-4664-cd9c-c8ce7fe7c81b"
      },
      "execution_count": 23,
      "outputs": [
        {
          "output_type": "execute_result",
          "data": {
            "text/plain": [
              "136542487502784"
            ]
          },
          "metadata": {},
          "execution_count": 23
        }
      ]
    },
    {
      "cell_type": "code",
      "source": [
        "# reassign\n",
        "x = square\n",
        "id(x)\n",
        "x(3)"
      ],
      "metadata": {
        "colab": {
          "base_uri": "https://localhost:8080/"
        },
        "id": "8RrmX-m6_rHt",
        "outputId": "2b7210ac-a991-4708-fd64-b338b3468524"
      },
      "execution_count": 24,
      "outputs": [
        {
          "output_type": "execute_result",
          "data": {
            "text/plain": [
              "9"
            ]
          },
          "metadata": {},
          "execution_count": 24
        }
      ]
    },
    {
      "cell_type": "code",
      "source": [
        "a = 2\n",
        "b = a\n",
        "b"
      ],
      "metadata": {
        "colab": {
          "base_uri": "https://localhost:8080/"
        },
        "id": "G3T73ZhHLN1f",
        "outputId": "b3035740-004e-4ce6-bdf8-1d71005c3c02"
      },
      "execution_count": 25,
      "outputs": [
        {
          "output_type": "execute_result",
          "data": {
            "text/plain": [
              "2"
            ]
          },
          "metadata": {},
          "execution_count": 25
        }
      ]
    },
    {
      "cell_type": "code",
      "source": [
        "# deleting a function\n",
        "del square"
      ],
      "metadata": {
        "id": "b_Z8Btqm_sLl"
      },
      "execution_count": 26,
      "outputs": []
    },
    {
      "cell_type": "code",
      "source": [
        "# square(3)"
      ],
      "metadata": {
        "id": "FDTvfuaRLa9w"
      },
      "execution_count": 28,
      "outputs": []
    },
    {
      "cell_type": "code",
      "source": [
        "def f():\n",
        "    def x(a, b):\n",
        "        return a+b\n",
        "    return x\n",
        "\n",
        "val = f()(3,4)\n",
        "print(val)"
      ],
      "metadata": {
        "id": "V0wLu-g3C50j",
        "colab": {
          "base_uri": "https://localhost:8080/"
        },
        "outputId": "768fb790-3837-4d9a-c4a9-4f23af4516fc"
      },
      "execution_count": 30,
      "outputs": [
        {
          "output_type": "stream",
          "name": "stdout",
          "text": [
            "7\n"
          ]
        }
      ]
    },
    {
      "cell_type": "code",
      "source": [
        "# function as argument"
      ],
      "metadata": {
        "id": "hUF93h33_ze1"
      },
      "execution_count": null,
      "outputs": []
    },
    {
      "cell_type": "code",
      "source": [
        "def func_a():\n",
        "    print('inside func_a')\n",
        "\n",
        "def func_b(z):\n",
        "    print('inside func_c')\n",
        "    return z()\n",
        "\n",
        "print(func_b(func_a))"
      ],
      "metadata": {
        "id": "Vn9ItKI_B8Vv",
        "colab": {
          "base_uri": "https://localhost:8080/"
        },
        "outputId": "d5b20f6e-76b1-4f66-ebb0-06b371688f84"
      },
      "execution_count": 31,
      "outputs": [
        {
          "output_type": "stream",
          "name": "stdout",
          "text": [
            "inside func_c\n",
            "inside func_a\n",
            "None\n"
          ]
        }
      ]
    },
    {
      "cell_type": "code",
      "source": [
        "# x -> x^2\n",
        "lambda x:x**2"
      ],
      "metadata": {
        "colab": {
          "base_uri": "https://localhost:8080/"
        },
        "id": "BY6NrNYI_1Qk",
        "outputId": "02dc1d8a-07d4-4a97-fc18-727fd9d84846"
      },
      "execution_count": 32,
      "outputs": [
        {
          "output_type": "execute_result",
          "data": {
            "text/plain": [
              "<function __main__.<lambda>(x)>"
            ]
          },
          "metadata": {},
          "execution_count": 32
        }
      ]
    },
    {
      "cell_type": "code",
      "source": [
        "# x,y -> x+y\n",
        "a = lambda x,y:x+y\n",
        "a(5,2)"
      ],
      "metadata": {
        "colab": {
          "base_uri": "https://localhost:8080/"
        },
        "id": "zBxKfdJ7Q-ks",
        "outputId": "204550ce-4222-438f-dd36-0deb05a26ae4"
      },
      "execution_count": 33,
      "outputs": [
        {
          "output_type": "execute_result",
          "data": {
            "text/plain": [
              "7"
            ]
          },
          "metadata": {},
          "execution_count": 33
        }
      ]
    },
    {
      "cell_type": "code",
      "source": [
        "# check if a string has 'a'\n",
        "a = lambda s:'a' in s\n",
        "a('hello')"
      ],
      "metadata": {
        "colab": {
          "base_uri": "https://localhost:8080/"
        },
        "id": "wsF_pgH2SHZq",
        "outputId": "d5fdcb17-3f64-4da0-d4cb-5c7ee0ac5d5f"
      },
      "execution_count": 34,
      "outputs": [
        {
          "output_type": "execute_result",
          "data": {
            "text/plain": [
              "False"
            ]
          },
          "metadata": {},
          "execution_count": 34
        }
      ]
    },
    {
      "cell_type": "code",
      "source": [
        "# odd or even\n",
        "a = lambda x:'even' if x%2 == 0 else 'odd'\n",
        "a(6)"
      ],
      "metadata": {
        "colab": {
          "base_uri": "https://localhost:8080/",
          "height": 35
        },
        "id": "5Jfv_lvsSHp6",
        "outputId": "40b9bef2-4302-400a-e245-88d3162bfb53"
      },
      "execution_count": 35,
      "outputs": [
        {
          "output_type": "execute_result",
          "data": {
            "text/plain": [
              "'even'"
            ],
            "application/vnd.google.colaboratory.intrinsic+json": {
              "type": "string"
            }
          },
          "metadata": {},
          "execution_count": 35
        }
      ]
    },
    {
      "cell_type": "markdown",
      "source": [
        "### Higher Order Functions"
      ],
      "metadata": {
        "id": "Ff9_SAn9M7PC"
      }
    },
    {
      "cell_type": "code",
      "source": [
        "# Example\n",
        "\n",
        "def square(x):\n",
        "  return x**2\n",
        "\n",
        "def cube(x):\n",
        "  return x**3\n",
        "\n",
        "# HOF\n",
        "def transform(f,L):\n",
        "  output = []\n",
        "  for i in L:\n",
        "    output.append(f(i))\n",
        "\n",
        "  print(output)\n",
        "\n",
        "L = [1,2,3,4,5]\n",
        "\n",
        "transform(lambda x:x**3,L)"
      ],
      "metadata": {
        "colab": {
          "base_uri": "https://localhost:8080/"
        },
        "id": "rFwh5NxfM9Ev",
        "outputId": "6c006417-ffe6-4e11-f152-06ac86b0c062"
      },
      "execution_count": 36,
      "outputs": [
        {
          "output_type": "stream",
          "name": "stdout",
          "text": [
            "[1, 8, 27, 64, 125]\n"
          ]
        }
      ]
    },
    {
      "cell_type": "markdown",
      "source": [
        "### Map"
      ],
      "metadata": {
        "id": "jUOOXYLZM_Z1"
      }
    },
    {
      "cell_type": "code",
      "source": [
        "# square the items of a list\n",
        "list(map(lambda x:x**2,[1,2,3,4,5]))"
      ],
      "metadata": {
        "colab": {
          "base_uri": "https://localhost:8080/"
        },
        "id": "fQ2JjCuCNAo5",
        "outputId": "887826db-6f98-46f9-82d1-6c0ba330d3ee"
      },
      "execution_count": 37,
      "outputs": [
        {
          "output_type": "execute_result",
          "data": {
            "text/plain": [
              "[1, 4, 9, 16, 25]"
            ]
          },
          "metadata": {},
          "execution_count": 37
        }
      ]
    },
    {
      "cell_type": "code",
      "source": [
        "# odd/even labelling of list items\n",
        "L = [1,2,3,4,5]\n",
        "list(map(lambda x:'even' if x%2 == 0 else 'odd',L))"
      ],
      "metadata": {
        "colab": {
          "base_uri": "https://localhost:8080/"
        },
        "id": "5qZdwIuLUFU3",
        "outputId": "8615d481-bbcb-4e30-944d-ea6bd0b47f32"
      },
      "execution_count": 38,
      "outputs": [
        {
          "output_type": "execute_result",
          "data": {
            "text/plain": [
              "['odd', 'even', 'odd', 'even', 'odd']"
            ]
          },
          "metadata": {},
          "execution_count": 38
        }
      ]
    },
    {
      "cell_type": "code",
      "source": [
        "# fetch names from a list of dict\n",
        "\n",
        "users = [\n",
        "    {\n",
        "        'name':'Rahul',\n",
        "        'age':45,\n",
        "        'gender':'male'\n",
        "    },\n",
        "    {\n",
        "        'name':'Nitish',\n",
        "        'age':33,\n",
        "        'gender':'male'\n",
        "    },\n",
        "    {\n",
        "        'name':'Ankita',\n",
        "        'age':50,\n",
        "        'gender':'female'\n",
        "    }\n",
        "]\n",
        "\n",
        "list(map(lambda users:users['gender'],users))"
      ],
      "metadata": {
        "colab": {
          "base_uri": "https://localhost:8080/"
        },
        "id": "isueH17mUuRs",
        "outputId": "dbf18dd5-708f-4486-822c-5661f2750d71"
      },
      "execution_count": 39,
      "outputs": [
        {
          "output_type": "execute_result",
          "data": {
            "text/plain": [
              "['male', 'male', 'female']"
            ]
          },
          "metadata": {},
          "execution_count": 39
        }
      ]
    },
    {
      "cell_type": "markdown",
      "source": [
        "### Filter"
      ],
      "metadata": {
        "id": "-iVq1N7LNCWl"
      }
    },
    {
      "cell_type": "code",
      "source": [
        "# numbers greater than 5\n",
        "L = [3,4,5,6,7]\n",
        "\n",
        "list(filter(lambda x:x>5,L))"
      ],
      "metadata": {
        "colab": {
          "base_uri": "https://localhost:8080/"
        },
        "id": "kykd3hQrNDwO",
        "outputId": "5a388da1-8abb-4e7c-e546-4aa58a5bdfcb"
      },
      "execution_count": 40,
      "outputs": [
        {
          "output_type": "execute_result",
          "data": {
            "text/plain": [
              "[6, 7]"
            ]
          },
          "metadata": {},
          "execution_count": 40
        }
      ]
    },
    {
      "cell_type": "code",
      "source": [
        "# fetch fruits starting with 'a'\n",
        "fruits = ['apple','guava','cherry']\n",
        "\n",
        "list(filter(lambda x:x.startswith('a'),fruits))"
      ],
      "metadata": {
        "colab": {
          "base_uri": "https://localhost:8080/"
        },
        "id": "dl7mnhoTU62i",
        "outputId": "b466e5ac-a220-4c71-c756-f16388e6209b"
      },
      "execution_count": 41,
      "outputs": [
        {
          "output_type": "execute_result",
          "data": {
            "text/plain": [
              "['apple']"
            ]
          },
          "metadata": {},
          "execution_count": 41
        }
      ]
    },
    {
      "cell_type": "markdown",
      "source": [
        "### Reduce"
      ],
      "metadata": {
        "id": "N3-O4SShNFtQ"
      }
    },
    {
      "cell_type": "code",
      "source": [
        "# sum of all item\n",
        "import functools\n",
        "\n",
        "functools.reduce(lambda x,y:x+y,[1,2,3,4,5])"
      ],
      "metadata": {
        "colab": {
          "base_uri": "https://localhost:8080/"
        },
        "id": "jFlZi-FrNE0n",
        "outputId": "0bc8ba3b-c3b1-4bb3-ea08-561e99967f60"
      },
      "execution_count": 42,
      "outputs": [
        {
          "output_type": "execute_result",
          "data": {
            "text/plain": [
              "15"
            ]
          },
          "metadata": {},
          "execution_count": 42
        }
      ]
    },
    {
      "cell_type": "code",
      "source": [
        "# find min\n",
        "functools.reduce(lambda x,y:x if x>y else y,[23,11,45,10,1])"
      ],
      "metadata": {
        "colab": {
          "base_uri": "https://localhost:8080/"
        },
        "id": "1ymdZS5XVPRR",
        "outputId": "fe96123c-e6be-42e6-8977-87faf998d9fd"
      },
      "execution_count": 43,
      "outputs": [
        {
          "output_type": "execute_result",
          "data": {
            "text/plain": [
              "45"
            ]
          },
          "metadata": {},
          "execution_count": 43
        }
      ]
    },
    {
      "cell_type": "code",
      "source": [],
      "metadata": {
        "id": "homHmi5LjAS8"
      },
      "execution_count": null,
      "outputs": []
    }
  ]
}