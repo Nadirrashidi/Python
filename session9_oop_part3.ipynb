{
  "nbformat": 4,
  "nbformat_minor": 0,
  "metadata": {
    "colab": {
      "provenance": []
    },
    "kernelspec": {
      "name": "python3",
      "display_name": "Python 3"
    },
    "language_info": {
      "name": "python"
    }
  },
  "cells": [
    {
      "cell_type": "markdown",
      "source": [
        "### Class Relationships\n",
        "\n",
        "- Aggregation\n",
        "- Inheritance"
      ],
      "metadata": {
        "id": "yqLLqLyj4r0z"
      }
    },
    {
      "cell_type": "markdown",
      "source": [
        "### Aggregation(Has-A relationship)\n",
        "### Example of has a relationship is car has a engine , resturent has a menu\n"
      ],
      "metadata": {
        "id": "f69fS6U45Hqr"
      }
    },
    {
      "cell_type": "code",
      "source": [
        "# example\n",
        "class Customer:\n",
        "\n",
        "  def __init__(self,name,gender,address):\n",
        "    self.name = name\n",
        "    self.gender = gender\n",
        "    self.address = address\n",
        "\n",
        "  def print_address(self):\n",
        "    print(self.address._Address__city,self.address.pin,self.address.state)\n",
        "\n",
        "  def edit_profile(self,new_name,new_city,new_pin,new_state):\n",
        "    self.name = new_name\n",
        "    self.address.edit_address(new_city,new_pin,new_state)\n",
        "\n",
        "class Address:\n",
        "\n",
        "  def __init__(self,city,pin,state):\n",
        "      self.__city = city\n",
        "      self.pin = pin\n",
        "      self.state = state\n",
        "\n",
        "  def get_city(self):\n",
        "    return self.__city\n",
        "\n",
        "  def edit_address(self,new_city,new_pin,new_state):\n",
        "    self.__city = new_city\n",
        "    self.pin = new_pin\n",
        "    self.state = new_state\n",
        "\n",
        "add1 = Address('gurgaon',122011,'haryana')\n",
        "cust = Customer('nadir','male',add1)\n",
        "\n",
        "cust.print_address()\n",
        "\n",
        "cust.edit_profile('ankit','mumbai',111111,'maharastra')\n",
        "cust.print_address()\n"
      ],
      "metadata": {
        "id": "5kx2nO_m5GdR",
        "colab": {
          "base_uri": "https://localhost:8080/"
        },
        "outputId": "a481a599-7e8f-4033-e445-e728212a2a47"
      },
      "execution_count": 19,
      "outputs": [
        {
          "output_type": "stream",
          "name": "stdout",
          "text": [
            "gurgaon 122011 haryana\n",
            "mumbai 111111 maharastra\n"
          ]
        }
      ]
    },
    {
      "cell_type": "code",
      "source": [
        "class Customer:\n",
        "    def __init__(self, name, gender, address):\n",
        "        self.name = name\n",
        "        self.gender = gender\n",
        "        self.address = address\n",
        "\n",
        "    def print_address(self):\n",
        "        # self.address.get_city() this place you can use self.address._Address__city\n",
        "        print(self.address.get_city(), self.address.pin, self.address.state)\n",
        "class Address:\n",
        "    def __init__(self, city, pin, state):\n",
        "        self.__city = city\n",
        "        self.pin = pin\n",
        "        self.state = state\n",
        "\n",
        "    def get_city(self):\n",
        "        return self.__city\n",
        "\n",
        "add1=Address('gurgaon',122011,'haryana')\n",
        "cust=Customer('nadir','male',add1)\n",
        "cust.print_address()\n",
        ""
      ],
      "metadata": {
        "id": "N8leEVkv5PQ1",
        "colab": {
          "base_uri": "https://localhost:8080/"
        },
        "outputId": "18c0bd9e-478f-40bf-ce7c-a6ba2ea20ab7"
      },
      "execution_count": 16,
      "outputs": [
        {
          "output_type": "stream",
          "name": "stdout",
          "text": [
            "gurgaon 122011 haryana\n"
          ]
        }
      ]
    },
    {
      "cell_type": "code",
      "source": [
        "# inheritance\n",
        "\n",
        "# parent\n",
        "class User:\n",
        "\n",
        "  def __init__(self):\n",
        "    self.name = 'nadir'\n",
        "    self.gender = 'male'\n",
        "\n",
        "  def login(self):\n",
        "    print('login')\n",
        "\n",
        "# child\n",
        "class Student(User):\n",
        "\n",
        "\n",
        "  def enroll(self):\n",
        "    print('enroll into the course')\n",
        "\n",
        "u = User() # parent object\n",
        "s = Student() # child object\n",
        "print(s.login())\n",
        "#print(s.name)\n",
        "print(s.enroll())\n",
        "\n",
        "print(s.gender)\n"
      ],
      "metadata": {
        "id": "k_BCUsIbPHud",
        "colab": {
          "base_uri": "https://localhost:8080/"
        },
        "outputId": "b9cee9d7-6269-430f-ce81-57b276823641"
      },
      "execution_count": 30,
      "outputs": [
        {
          "output_type": "stream",
          "name": "stdout",
          "text": [
            "login\n",
            "None\n",
            "enroll into the course\n",
            "None\n",
            "male\n"
          ]
        }
      ]
    },
    {
      "cell_type": "markdown",
      "source": [
        "##### What gets inherited?\n",
        "\n",
        "- Constructor\n",
        "- Non Private Attributes\n",
        "- Non Private Methods"
      ],
      "metadata": {
        "id": "CJEPRGHGPY9n"
      }
    },
    {
      "cell_type": "code",
      "source": [
        "# constructor example\n",
        "\n",
        "class Phone:\n",
        "    def __init__(self, price, brand, camera):\n",
        "        print (\"Inside phone constructor\")\n",
        "        self.price = price\n",
        "        self.brand = brand\n",
        "        self.camera = camera\n",
        "\n",
        "    def buy(self):\n",
        "        print (\"Buying a phone\")\n",
        "\n",
        "class SmartPhone(Phone):\n",
        "    pass\n",
        "\n",
        "s=SmartPhone(20000, \"Apple\", 13)\n",
        "#s.buy()\n",
        "print(s.price)\n",
        "print(s.brand)\n",
        "print(s.camera)"
      ],
      "metadata": {
        "id": "VGpL2aWUPX-C",
        "colab": {
          "base_uri": "https://localhost:8080/"
        },
        "outputId": "7c8f7573-2140-4658-ee9a-c39358110a5c"
      },
      "execution_count": 37,
      "outputs": [
        {
          "output_type": "stream",
          "name": "stdout",
          "text": [
            "Inside phone constructor\n",
            "20000\n",
            "Apple\n",
            "13\n"
          ]
        }
      ]
    },
    {
      "cell_type": "code",
      "source": [
        "# constructor example 2\n",
        "\n",
        "class Phone:\n",
        "    def __init__(self, price, brand, camera):\n",
        "        print (\"Inside phone constructor\")\n",
        "        self.__price = price\n",
        "        self.brand = brand\n",
        "        self.camera = camera\n",
        "\n",
        "class SmartPhone(Phone):\n",
        "    def __init__(self, os, ram):\n",
        "        self.os = os\n",
        "        self.ram = ram\n",
        "        print (\"Inside SmartPhone constructor\")\n",
        "\n",
        "s=SmartPhone(\"Android\", 2)\n",
        "# s.brand not work\n",
        "s.os\n",
        "s.ram\n",
        "\n",
        "# s.brand # cant access because child class has a constructor\n",
        "# s.camera # cant access because child class has a constructor"
      ],
      "metadata": {
        "id": "PMjCWA3wP_s-",
        "colab": {
          "base_uri": "https://localhost:8080/"
        },
        "outputId": "fcdb5d04-710f-4430-87c2-c53dc7f98c64"
      },
      "execution_count": 35,
      "outputs": [
        {
          "output_type": "stream",
          "name": "stdout",
          "text": [
            "Inside SmartPhone constructor\n"
          ]
        },
        {
          "output_type": "execute_result",
          "data": {
            "text/plain": [
              "2"
            ]
          },
          "metadata": {},
          "execution_count": 35
        }
      ]
    },
    {
      "cell_type": "code",
      "source": [
        "# child can't access private members of the  parent class without getter method\n",
        "\n",
        "class Phone:\n",
        "    def __init__(self, price, brand, camera):\n",
        "        print (\"Inside phone constructor\")\n",
        "        self.__price = price\n",
        "        self.brand = brand\n",
        "        self.camera = camera\n",
        "\n",
        "    #getter\n",
        "    def show(self):\n",
        "        print (self.__price)\n",
        "    # Getter for __price\n",
        "    def get_price(self):\n",
        "        return self.__price\n",
        "\n",
        "\n",
        "class SmartPhone(Phone):\n",
        "    def check(self):\n",
        "        print(self.get_price())\n",
        "\n",
        "s=SmartPhone(20000, \"Apple\", 13)\n",
        "print(s.brand)\n",
        "print(s.camera)\n",
        "s.show()\n",
        "s.check()\n"
      ],
      "metadata": {
        "id": "OBJEbXw3QNs5",
        "colab": {
          "base_uri": "https://localhost:8080/"
        },
        "outputId": "5d79bbcd-97a7-4fe6-c2cc-4488c3f94360"
      },
      "execution_count": 48,
      "outputs": [
        {
          "output_type": "stream",
          "name": "stdout",
          "text": [
            "Inside phone constructor\n",
            "Apple\n",
            "13\n",
            "20000\n",
            "20000\n"
          ]
        }
      ]
    },
    {
      "cell_type": "code",
      "source": [
        "class Parent:\n",
        "\n",
        "    def __init__(self,num):\n",
        "        self.__num=num\n",
        "\n",
        "    def get_num(self):\n",
        "        return self.__num\n",
        "\n",
        "class Child(Parent):\n",
        "\n",
        "    def show(self):\n",
        "        print(\"This is in child class\")\n",
        "\n",
        "son=Child(100)\n",
        "print(son.get_num())\n",
        "son.show()"
      ],
      "metadata": {
        "id": "4ehYsT2BS5Cm",
        "colab": {
          "base_uri": "https://localhost:8080/"
        },
        "outputId": "9ade052f-b427-4fd2-cd80-7c289ac38f9a"
      },
      "execution_count": 49,
      "outputs": [
        {
          "output_type": "stream",
          "name": "stdout",
          "text": [
            "100\n",
            "This is in child class\n"
          ]
        }
      ]
    },
    {
      "cell_type": "code",
      "source": [
        "class A:\n",
        "    def __init__(self):\n",
        "        self.var1=100\n",
        "\n",
        "    def display1(self,var1):\n",
        "        print(\"class A :\", self.var1)\n",
        "class B(A):\n",
        "\n",
        "    def display2(self,var1):\n",
        "        print(\"class B :\", self.var1)\n",
        "\n",
        "obj=B()\n",
        "obj.display1(200)"
      ],
      "metadata": {
        "id": "nyRDS-91TJA_",
        "colab": {
          "base_uri": "https://localhost:8080/"
        },
        "outputId": "6beae5fb-ed9d-41a8-fd15-25225d4880f4"
      },
      "execution_count": 50,
      "outputs": [
        {
          "output_type": "stream",
          "name": "stdout",
          "text": [
            "class A : 100\n"
          ]
        }
      ]
    },
    {
      "cell_type": "code",
      "source": [
        "# Method Overriding\n",
        "class Phone:\n",
        "    def __init__(self, price, brand, camera):\n",
        "        print (\"Inside phone constructor\")\n",
        "        self.__price = price\n",
        "        self.brand = brand\n",
        "        self.camera = camera\n",
        "\n",
        "    def buy(self):\n",
        "        print (\"Buying a phone\")\n",
        "\n",
        "class SmartPhone(Phone):\n",
        "    def buy(self):\n",
        "        print (\"Buying a smartphone\")\n",
        "\n",
        "s=SmartPhone(20000, \"Apple\", 13)\n",
        "\n",
        "s.buy()"
      ],
      "metadata": {
        "id": "EgDguVtCTlsY",
        "colab": {
          "base_uri": "https://localhost:8080/"
        },
        "outputId": "11b03b0c-2316-498f-fb5a-400f94f9c611"
      },
      "execution_count": 51,
      "outputs": [
        {
          "output_type": "stream",
          "name": "stdout",
          "text": [
            "Inside phone constructor\n",
            "Buying a smartphone\n"
          ]
        }
      ]
    },
    {
      "cell_type": "markdown",
      "source": [
        "### Super Keyword"
      ],
      "metadata": {
        "id": "O85epdv770M-"
      }
    },
    {
      "cell_type": "code",
      "source": [
        "class Phone:\n",
        "    def __init__(self, price, brand, camera):\n",
        "        print (\"Inside phone constructor\")\n",
        "        self.__price = price\n",
        "        self.brand = brand\n",
        "        self.camera = camera\n",
        "\n",
        "    def buy(self):\n",
        "        print (\"Buying a phone\")\n",
        "\n",
        "class SmartPhone(Phone):\n",
        "    def buy(self):\n",
        "        print (\"Buying a smartphone\")\n",
        "        # syntax to call parent ka buy method\n",
        "        super().buy()\n",
        "\n",
        "s=SmartPhone(20000, \"Apple\", 13)\n",
        "\n",
        "s.buy()"
      ],
      "metadata": {
        "id": "NR4F_NIo71hS",
        "colab": {
          "base_uri": "https://localhost:8080/"
        },
        "outputId": "e0b3ee11-cd88-4419-e7ee-acdf8b6a27f2"
      },
      "execution_count": 52,
      "outputs": [
        {
          "output_type": "stream",
          "name": "stdout",
          "text": [
            "Inside phone constructor\n",
            "Buying a smartphone\n",
            "Buying a phone\n"
          ]
        }
      ]
    },
    {
      "cell_type": "code",
      "source": [
        "# using super outside the class\n",
        "class Phone:\n",
        "    def __init__(self, price, brand, camera):\n",
        "        print (\"Inside phone constructor\")\n",
        "        self.__price = price\n",
        "        self.brand = brand\n",
        "        self.camera = camera\n",
        "\n",
        "    def buy(self):\n",
        "        print (\"Buying a phone\")\n",
        "\n",
        "class SmartPhone(Phone):\n",
        "    def buy(self):\n",
        "        print (\"Buying a smartphone\")\n",
        "        # syntax to call parent ka buy method\n",
        "        super().buy()\n",
        "\n",
        "s=SmartPhone(20000, \"Apple\", 13)\n",
        "\n",
        "s.buy()"
      ],
      "metadata": {
        "id": "USJ2YcPLT68v",
        "colab": {
          "base_uri": "https://localhost:8080/"
        },
        "outputId": "78599444-1e1c-4264-86e5-33ee9ca0e613"
      },
      "execution_count": 53,
      "outputs": [
        {
          "output_type": "stream",
          "name": "stdout",
          "text": [
            "Inside phone constructor\n",
            "Buying a smartphone\n",
            "Buying a phone\n"
          ]
        }
      ]
    },
    {
      "cell_type": "code",
      "source": [
        "# super -> constuctor\n",
        "class Phone:\n",
        "    def __init__(self, price, brand, camera):\n",
        "        print (\"Inside phone constructor\")\n",
        "        self.__price = price\n",
        "        self.brand = brand\n",
        "        self.camera = camera\n",
        "\n",
        "class SmartPhone(Phone):\n",
        "    def __init__(self, price, brand, camera, os, ram):\n",
        "        print('Inside smartphone constructor')\n",
        "        super().__init__(price, brand, camera)\n",
        "        self.os = os\n",
        "        self.ram = ram\n",
        "        print (\"Inside smartphone constructor\")\n",
        "\n",
        "s=SmartPhone(20000, \"Samsung\", 12, \"Android\", 2)\n",
        "\n",
        "print(s.os)\n",
        "print(s.brand)"
      ],
      "metadata": {
        "id": "jPW3DV5GUKNJ",
        "colab": {
          "base_uri": "https://localhost:8080/"
        },
        "outputId": "d28cc474-4521-4483-ef23-6f5b2732781b"
      },
      "execution_count": 54,
      "outputs": [
        {
          "output_type": "stream",
          "name": "stdout",
          "text": [
            "Inside smartphone constructor\n",
            "Inside phone constructor\n",
            "Inside smartphone constructor\n",
            "Android\n",
            "Samsung\n"
          ]
        }
      ]
    },
    {
      "cell_type": "code",
      "source": [
        "class Parent:\n",
        "\n",
        "    def __init__(self,num):\n",
        "      self.__num=num\n",
        "\n",
        "    def get_num(self):\n",
        "      return self.__num\n",
        "\n",
        "class Child(Parent):\n",
        "\n",
        "    def __init__(self,num,val):\n",
        "      super().__init__(num)\n",
        "      self.__val=val\n",
        "\n",
        "    def get_val(self):\n",
        "      return self.__val\n",
        "\n",
        "son=Child(100,200)\n",
        "print(son.get_num())\n",
        "print(son.get_val())"
      ],
      "metadata": {
        "id": "iHFjwJtBUuK3",
        "colab": {
          "base_uri": "https://localhost:8080/"
        },
        "outputId": "f5ad1cf3-78a6-405a-e815-c9d92f97edee"
      },
      "execution_count": 55,
      "outputs": [
        {
          "output_type": "stream",
          "name": "stdout",
          "text": [
            "100\n",
            "200\n"
          ]
        }
      ]
    },
    {
      "cell_type": "code",
      "source": [
        "class Parent:\n",
        "    def __init__(self):\n",
        "        self.num=100\n",
        "\n",
        "class Child(Parent):\n",
        "\n",
        "    def __init__(self):\n",
        "        super().__init__()\n",
        "        self.var=200\n",
        "\n",
        "    def show(self):\n",
        "        print(self.num)\n",
        "        print(self.var)\n",
        "\n",
        "son=Child()\n",
        "son.show()"
      ],
      "metadata": {
        "id": "szLznZ0bUvRj",
        "colab": {
          "base_uri": "https://localhost:8080/"
        },
        "outputId": "2591841e-ce3b-4c56-d9f4-675c48dd1075"
      },
      "execution_count": 56,
      "outputs": [
        {
          "output_type": "stream",
          "name": "stdout",
          "text": [
            "100\n",
            "200\n"
          ]
        }
      ]
    },
    {
      "cell_type": "code",
      "source": [
        "class Parent:\n",
        "    def __init__(self):\n",
        "        self.__num=100\n",
        "\n",
        "    def show(self):\n",
        "        print(\"Parent:\",self.__num)\n",
        "\n",
        "class Child(Parent):\n",
        "    def __init__(self):\n",
        "        super().__init__()\n",
        "        self.__var=10\n",
        "\n",
        "    def show(self):\n",
        "        print(\"Child:\",self.__var)\n",
        "\n",
        "obj=Child()\n",
        "obj.show()"
      ],
      "metadata": {
        "id": "1v9P77SdU5z9",
        "colab": {
          "base_uri": "https://localhost:8080/"
        },
        "outputId": "062aeeb4-f674-4dc4-9c61-229910b06833"
      },
      "execution_count": 57,
      "outputs": [
        {
          "output_type": "stream",
          "name": "stdout",
          "text": [
            "Child: 10\n"
          ]
        }
      ]
    },
    {
      "cell_type": "code",
      "source": [
        "class Parent:\n",
        "    def __init__(self):\n",
        "        self.__num=100\n",
        "\n",
        "    def show(self):\n",
        "        print(\"Parent:\",self.__num)\n",
        "\n",
        "class Child(Parent):\n",
        "    def __init__(self):\n",
        "        super().__init__()\n",
        "        self.__var=10\n",
        "\n",
        "    def show(self):\n",
        "        print(\"Child:\",self.__var)\n",
        "\n",
        "obj=Child()\n",
        "obj.show()"
      ],
      "metadata": {
        "id": "nc1DNBfxU6fc",
        "colab": {
          "base_uri": "https://localhost:8080/"
        },
        "outputId": "531695b6-0dd9-430a-8916-91309e5ae7ca"
      },
      "execution_count": 58,
      "outputs": [
        {
          "output_type": "stream",
          "name": "stdout",
          "text": [
            "Child: 10\n"
          ]
        }
      ]
    },
    {
      "cell_type": "code",
      "source": [
        "# single inheritance\n",
        "class Phone:\n",
        "    def __init__(self, price, brand, camera):\n",
        "        print (\"Inside phone constructor\")\n",
        "        self.__price = price\n",
        "        self.brand = brand\n",
        "        self.camera = camera\n",
        "\n",
        "    def buy(self):\n",
        "        print (\"Buying a phone\")\n",
        "\n",
        "class SmartPhone(Phone):\n",
        "    pass\n",
        "\n",
        "SmartPhone(1000,\"Apple\",\"13px\").buy()"
      ],
      "metadata": {
        "id": "OehIWuKS8JZm",
        "colab": {
          "base_uri": "https://localhost:8080/"
        },
        "outputId": "b920c3f6-fc99-424c-efd0-218aeae83a7a"
      },
      "execution_count": 59,
      "outputs": [
        {
          "output_type": "stream",
          "name": "stdout",
          "text": [
            "Inside phone constructor\n",
            "Buying a phone\n"
          ]
        }
      ]
    },
    {
      "cell_type": "code",
      "source": [
        "# multilevel\n",
        "class Product:\n",
        "    def review(self):\n",
        "        print (\"Product customer review\")\n",
        "\n",
        "class Phone(Product):\n",
        "    def __init__(self, price, brand, camera):\n",
        "        print (\"Inside phone constructor\")\n",
        "        self.__price = price\n",
        "        self.brand = brand\n",
        "        self.camera = camera\n",
        "\n",
        "    def buy(self):\n",
        "        print (\"Buying a phone\")\n",
        "\n",
        "class SmartPhone(Phone):\n",
        "    pass\n",
        "\n",
        "s=SmartPhone(20000, \"Apple\", 12)\n",
        "\n",
        "s.buy()\n",
        "s.review()"
      ],
      "metadata": {
        "id": "jGcAw7QtV1vN",
        "colab": {
          "base_uri": "https://localhost:8080/"
        },
        "outputId": "ad06ca8e-700f-4436-9e0f-936c98a8f03d"
      },
      "execution_count": 64,
      "outputs": [
        {
          "output_type": "stream",
          "name": "stdout",
          "text": [
            "Inside phone constructor\n",
            "Buying a phone\n",
            "Product customer review\n"
          ]
        }
      ]
    },
    {
      "cell_type": "code",
      "source": [
        "# Hierarchical\n",
        "class Phone:\n",
        "    def __init__(self, price, brand, camera):\n",
        "        print (\"Inside phone constructor\")\n",
        "        self.__price = price\n",
        "        self.brand = brand\n",
        "        self.camera = camera\n",
        "\n",
        "    def buy(self):\n",
        "        print (\"Buying a phone\")\n",
        "\n",
        "class SmartPhone(Phone):\n",
        "    pass\n",
        "\n",
        "class FeaturePhone(Phone):\n",
        "    pass\n",
        "\n",
        "SmartPhone(1000,\"Apple\",\"13px\").buy()\n",
        "FeaturePhone(10,\"Lava\",\"1px\").buy()"
      ],
      "metadata": {
        "id": "axM6rE1HWA2d",
        "colab": {
          "base_uri": "https://localhost:8080/"
        },
        "outputId": "31448aeb-28b6-4c1c-d659-f049179c120b"
      },
      "execution_count": 65,
      "outputs": [
        {
          "output_type": "stream",
          "name": "stdout",
          "text": [
            "Inside phone constructor\n",
            "Buying a phone\n",
            "Inside phone constructor\n",
            "Buying a phone\n"
          ]
        }
      ]
    },
    {
      "cell_type": "code",
      "source": [
        "# Multiple\n",
        "class Phone:\n",
        "    def __init__(self, price, brand, camera):\n",
        "        print (\"Inside phone constructor\")\n",
        "        self.__price = price\n",
        "        self.brand = brand\n",
        "        self.camera = camera\n",
        "\n",
        "    def buy(self):\n",
        "        print (\"Buying a phone\")\n",
        "\n",
        "class Product:\n",
        "    def review(self):\n",
        "        print (\"Customer review\")\n",
        "\n",
        "class SmartPhone(Phone, Product):\n",
        "    pass\n",
        "\n",
        "s=SmartPhone(20000, \"Apple\", 12)\n",
        "\n",
        "s.buy()\n",
        "s.review()\n"
      ],
      "metadata": {
        "id": "MPY34iq8WWGw",
        "colab": {
          "base_uri": "https://localhost:8080/"
        },
        "outputId": "be79df5e-01ab-4252-fb11-aaec581f4a5a"
      },
      "execution_count": 62,
      "outputs": [
        {
          "output_type": "stream",
          "name": "stdout",
          "text": [
            "Inside phone constructor\n",
            "Buying a phone\n",
            "Customer review\n"
          ]
        }
      ]
    },
    {
      "cell_type": "code",
      "source": [
        "# the diamond problem\n",
        "# https://stackoverflow.com/questions/56361048/what-is-the-diamond-problem-in-python-and-why-its-not-appear-in-python2\n",
        "class Phone:\n",
        "    def __init__(self, price, brand, camera):\n",
        "        print (\"Inside phone constructor\")\n",
        "        self.__price = price\n",
        "        self.brand = brand\n",
        "        self.camera = camera\n",
        "\n",
        "    def buy(self):\n",
        "        print (\"Buying a phone\")\n",
        "\n",
        "class Product:\n",
        "    def buy(self):\n",
        "        print (\"Product buy method\")\n",
        "\n",
        "# Method resolution order\n",
        "class SmartPhone(Phone,Product):\n",
        "    pass\n",
        "\n",
        "s=SmartPhone(20000, \"Apple\", 12)\n",
        "\n",
        "s.buy() # phones class method execute because class SmartPhone(Phone,Product):"
      ],
      "metadata": {
        "id": "I2ixigsSWagF",
        "colab": {
          "base_uri": "https://localhost:8080/"
        },
        "outputId": "92c248c1-e92a-4036-e042-fa6f651b7613"
      },
      "execution_count": 66,
      "outputs": [
        {
          "output_type": "stream",
          "name": "stdout",
          "text": [
            "Inside phone constructor\n",
            "Buying a phone\n"
          ]
        }
      ]
    },
    {
      "cell_type": "code",
      "source": [
        "class A:\n",
        "\n",
        "    def m1(self):\n",
        "        return 20\n",
        "\n",
        "class B(A):\n",
        "\n",
        "    def m1(self):\n",
        "        return 30\n",
        "\n",
        "    def m2(self):\n",
        "        return 40\n",
        "\n",
        "class C(B):\n",
        "\n",
        "    def m2(self):\n",
        "        return 20\n",
        "obj1=A()\n",
        "obj2=B()\n",
        "obj3=C()\n",
        "print(obj1.m1() + obj3.m1()+ obj3.m2())"
      ],
      "metadata": {
        "id": "sA_UVGoRWr7W",
        "colab": {
          "base_uri": "https://localhost:8080/"
        },
        "outputId": "9640a2dc-ba02-4184-c1a6-a97f7a8a6d53"
      },
      "execution_count": 67,
      "outputs": [
        {
          "output_type": "stream",
          "name": "stdout",
          "text": [
            "70\n"
          ]
        }
      ]
    },
    {
      "cell_type": "markdown",
      "source": [
        "### Polymorphism\n",
        "\n",
        "- Method Overriding\n",
        "- Method Overloading\n",
        "- Operator Overloading"
      ],
      "metadata": {
        "id": "TvZX-Zw9FtKB"
      }
    },
    {
      "cell_type": "code",
      "source": [
        "# Method overloading directly doesnt work\n",
        "class shape:\n",
        "    def area(self,radius):\n",
        "        return 3.14*radius*radius\n",
        "    def area(self,length,breadth):\n",
        "        return length*breadth\n",
        "\n",
        "s=shape()\n",
        "print(s.area(2))\n",
        "print(s.area(3,4))"
      ],
      "metadata": {
        "colab": {
          "base_uri": "https://localhost:8080/",
          "height": 193
        },
        "id": "0bL9eC1uR0_W",
        "outputId": "4f60c801-8c81-42c5-e253-dc47ca30c170"
      },
      "execution_count": 71,
      "outputs": [
        {
          "output_type": "error",
          "ename": "TypeError",
          "evalue": "shape.area() missing 1 required positional argument: 'breadth'",
          "traceback": [
            "\u001b[0;31m---------------------------------------------------------------------------\u001b[0m",
            "\u001b[0;31mTypeError\u001b[0m                                 Traceback (most recent call last)",
            "\u001b[0;32m<ipython-input-71-6e92e99f79ee>\u001b[0m in \u001b[0;36m<cell line: 9>\u001b[0;34m()\u001b[0m\n\u001b[1;32m      7\u001b[0m \u001b[0;34m\u001b[0m\u001b[0m\n\u001b[1;32m      8\u001b[0m \u001b[0ms\u001b[0m\u001b[0;34m=\u001b[0m\u001b[0mshape\u001b[0m\u001b[0;34m(\u001b[0m\u001b[0;34m)\u001b[0m\u001b[0;34m\u001b[0m\u001b[0;34m\u001b[0m\u001b[0m\n\u001b[0;32m----> 9\u001b[0;31m \u001b[0mprint\u001b[0m\u001b[0;34m(\u001b[0m\u001b[0ms\u001b[0m\u001b[0;34m.\u001b[0m\u001b[0marea\u001b[0m\u001b[0;34m(\u001b[0m\u001b[0;36m2\u001b[0m\u001b[0;34m)\u001b[0m\u001b[0;34m)\u001b[0m\u001b[0;34m\u001b[0m\u001b[0;34m\u001b[0m\u001b[0m\n\u001b[0m\u001b[1;32m     10\u001b[0m \u001b[0mprint\u001b[0m\u001b[0;34m(\u001b[0m\u001b[0ms\u001b[0m\u001b[0;34m.\u001b[0m\u001b[0marea\u001b[0m\u001b[0;34m(\u001b[0m\u001b[0;36m3\u001b[0m\u001b[0;34m,\u001b[0m\u001b[0;36m4\u001b[0m\u001b[0;34m)\u001b[0m\u001b[0;34m)\u001b[0m\u001b[0;34m\u001b[0m\u001b[0;34m\u001b[0m\u001b[0m\n",
            "\u001b[0;31mTypeError\u001b[0m: shape.area() missing 1 required positional argument: 'breadth'"
          ]
        }
      ]
    },
    {
      "cell_type": "code",
      "source": [
        "# this is the way for method overloading in python\n",
        "class Shape:\n",
        "\n",
        "  def area(self,a,b=0):\n",
        "    if b == 0:\n",
        "      return 3.14*a*a\n",
        "    else:\n",
        "      return a*b\n",
        "\n",
        "s = Shape()\n",
        "\n",
        "print(s.area(2))\n",
        "print(s.area(3,4))"
      ],
      "metadata": {
        "id": "wuVzSLONF0ha",
        "colab": {
          "base_uri": "https://localhost:8080/"
        },
        "outputId": "ac8b0425-0193-4eb2-9871-756e9f42c95e"
      },
      "execution_count": 68,
      "outputs": [
        {
          "output_type": "stream",
          "name": "stdout",
          "text": [
            "12.56\n",
            "12\n"
          ]
        }
      ]
    },
    {
      "cell_type": "code",
      "source": [
        "# operator overloading\n",
        "'hello' + 'world'"
      ],
      "metadata": {
        "id": "3-SJbwpMXE4J",
        "colab": {
          "base_uri": "https://localhost:8080/",
          "height": 35
        },
        "outputId": "a4caf0ad-37b0-4542-a999-3569c3ce42be"
      },
      "execution_count": 72,
      "outputs": [
        {
          "output_type": "execute_result",
          "data": {
            "text/plain": [
              "'helloworld'"
            ],
            "application/vnd.google.colaboratory.intrinsic+json": {
              "type": "string"
            }
          },
          "metadata": {},
          "execution_count": 72
        }
      ]
    },
    {
      "cell_type": "code",
      "source": [
        "# operator overloading\n",
        "4 + 5"
      ],
      "metadata": {
        "id": "XIhrt6ffXFOq",
        "colab": {
          "base_uri": "https://localhost:8080/"
        },
        "outputId": "46a2298b-4605-4975-d846-341b1ece9c2d"
      },
      "execution_count": 73,
      "outputs": [
        {
          "output_type": "execute_result",
          "data": {
            "text/plain": [
              "9"
            ]
          },
          "metadata": {},
          "execution_count": 73
        }
      ]
    },
    {
      "cell_type": "code",
      "source": [
        "# operator overloading\n",
        "[1,2,3] + [4,5]"
      ],
      "metadata": {
        "colab": {
          "base_uri": "https://localhost:8080/"
        },
        "id": "ykLFszsHfrKi",
        "outputId": "5d3946b7-ac3b-416f-8d3b-985598a615ad"
      },
      "execution_count": 75,
      "outputs": [
        {
          "output_type": "execute_result",
          "data": {
            "text/plain": [
              "[1, 2, 3, 4, 5]"
            ]
          },
          "metadata": {},
          "execution_count": 75
        }
      ]
    },
    {
      "cell_type": "markdown",
      "source": [
        "### Abstraction"
      ],
      "metadata": {
        "id": "FHZlflrSF1Df"
      }
    },
    {
      "cell_type": "code",
      "source": [
        "from abc import ABC,abstractmethod\n",
        "class BankApp(ABC):\n",
        "\n",
        "  def database(self):\n",
        "    print('connected to database')\n",
        "\n",
        "  @abstractmethod\n",
        "  def security(self):\n",
        "    pass\n",
        "\n",
        "  @abstractmethod\n",
        "  def display(self):\n",
        "    pass\n"
      ],
      "metadata": {
        "id": "EFrfU_45F2wx"
      },
      "execution_count": 76,
      "outputs": []
    },
    {
      "cell_type": "code",
      "source": [
        "class MobileApp(BankApp):\n",
        "\n",
        "  def mobile_login(self):\n",
        "    print('login into mobile')\n",
        "\n",
        "  def security(self): # must in child class because this abstraction method in parent class\n",
        "    print('mobile security')\n",
        "\n",
        "  def display(self): # must in child class because this abstraction method in parent class\n",
        "    print('display')"
      ],
      "metadata": {
        "id": "_KULGDqYxtwk"
      },
      "execution_count": 77,
      "outputs": []
    },
    {
      "cell_type": "code",
      "source": [
        "mob = MobileApp()"
      ],
      "metadata": {
        "id": "WlGxjLHz6J94"
      },
      "execution_count": 78,
      "outputs": []
    },
    {
      "cell_type": "code",
      "source": [
        "mob.security()"
      ],
      "metadata": {
        "colab": {
          "base_uri": "https://localhost:8080/"
        },
        "id": "e-ygxfhV6MR9",
        "outputId": "302a5e07-855c-4cbc-b0cc-230a612e11c9"
      },
      "execution_count": 79,
      "outputs": [
        {
          "output_type": "stream",
          "name": "stdout",
          "text": [
            "mobile security\n"
          ]
        }
      ]
    },
    {
      "cell_type": "code",
      "source": [
        "# obj = BankApp()"
      ],
      "metadata": {
        "id": "hvVMYalv6v3j"
      },
      "execution_count": 81,
      "outputs": []
    },
    {
      "cell_type": "code",
      "source": [],
      "metadata": {
        "id": "OvdixiRJ7kDn"
      },
      "execution_count": null,
      "outputs": []
    }
  ]
}